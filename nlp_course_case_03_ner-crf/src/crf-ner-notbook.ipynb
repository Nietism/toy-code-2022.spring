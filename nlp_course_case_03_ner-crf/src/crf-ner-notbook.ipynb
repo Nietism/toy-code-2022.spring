{
 "cells": [
  {
   "cell_type": "code",
   "execution_count": 7,
   "metadata": {},
   "outputs": [],
   "source": [
    "%matplotlib inline\n",
    "import matplotlib.pyplot as plt\n",
    "plt.style.use('ggplot')"
   ]
  },
  {
   "cell_type": "code",
   "execution_count": 8,
   "metadata": {},
   "outputs": [],
   "source": [
    "from itertools import chain\n",
    "\n",
    "import re\n",
    "import utils\n",
    "\n",
    "import sklearn\n",
    "import scipy.stats\n",
    "from sklearn.metrics import make_scorer\n",
    "from sklearn.model_selection import train_test_split\n",
    "from sklearn.model_selection import cross_val_score\n",
    "from sklearn.model_selection import RandomizedSearchCV\n",
    "\n",
    "import sklearn_crfsuite\n",
    "from sklearn_crfsuite import scorers\n",
    "from sklearn_crfsuite import metrics"
   ]
  },
  {
   "cell_type": "markdown",
   "metadata": {},
   "source": [
    "## 基于人民日报语料和CRF模型构建一个中文NER系统\n",
    "\n",
    "选取了1998年1月的人民日报语料，采用了7：3的训练-测试集划分。"
   ]
  },
  {
   "cell_type": "markdown",
   "metadata": {},
   "source": [
    "初步处理语料之后，数据格式如下所示。"
   ]
  },
  {
   "cell_type": "code",
   "execution_count": 9,
   "metadata": {},
   "outputs": [
    {
     "data": {
      "text/plain": [
       "[['中共中央/nt', '总书记/n', '、/w', '国家/n', '主席/n', '江泽民/nr'],\n",
       " ['(/w', '一九九七年十二月三十一日/t', ')/w']]"
      ]
     },
     "execution_count": 9,
     "metadata": {},
     "output_type": "execute_result"
    }
   ],
   "source": [
    "corpus_filepath = \"data/199801-raw.txt\"\n",
    "processed_corpus = utils.data_processing(corpus_filepath)\n",
    "processed_corpus[1:3]"
   ]
  },
  {
   "cell_type": "markdown",
   "metadata": {},
   "source": [
    "## 特征\n",
    "\n",
    "采用$\\left \\{ w_{-1}, w_0, w_{+1}, w_{-1}w_0, w_0w_{+1} \\right \\}$的模板提取特征。\n",
    "\n",
    "\n"
   ]
  },
  {
   "cell_type": "code",
   "execution_count": 10,
   "metadata": {},
   "outputs": [],
   "source": [
    "def load_corpus(path):\n",
    "    processed_corpus = utils.data_processing(path)\n",
    "    sequences = utils.init_sequence(processed_corpus)\n",
    "    word_seqs = sequences[0]\n",
    "    position_seqs = sequences[1]\n",
    "    tag_seqs = sequences[2]\n",
    "    model_input = utils.get_model_input(word_seqs)\n",
    "    \n",
    "    x_train, x_test, y_train, y_test = train_test_split(model_input, tag_seqs, test_size=0.3, random_state=42, shuffle=True)\n",
    "    return x_train, x_test, y_train, y_test\n",
    "\n",
    "# corpus_filepath = \"data/199801-raw.txt\"\n",
    "x_train, x_test, y_train, y_test = load_corpus(corpus_filepath)"
   ]
  },
  {
   "cell_type": "code",
   "execution_count": 11,
   "metadata": {},
   "outputs": [
    {
     "data": {
      "text/plain": [
       "[{'w-1': '<BOS>',\n",
       "  'w': '(',\n",
       "  'w+1': '蒋',\n",
       "  'w-1_w': '<BOS>(',\n",
       "  'w_w+1': '(蒋',\n",
       "  'bias': 1.0},\n",
       " {'w-1': '(', 'w': '蒋', 'w+1': '必', 'w-1_w': '(蒋', 'w_w+1': '蒋必', 'bias': 1.0},\n",
       " {'w-1': '蒋', 'w': '必', 'w+1': '达', 'w-1_w': '蒋必', 'w_w+1': '必达', 'bias': 1.0},\n",
       " {'w-1': '必', 'w': '达', 'w+1': ')', 'w-1_w': '必达', 'w_w+1': '达)', 'bias': 1.0},\n",
       " {'w-1': '达',\n",
       "  'w': ')',\n",
       "  'w+1': '<EOS>',\n",
       "  'w-1_w': '达)',\n",
       "  'w_w+1': ')<EOS>',\n",
       "  'bias': 1.0}]"
      ]
     },
     "execution_count": 11,
     "metadata": {},
     "output_type": "execute_result"
    }
   ],
   "source": [
    "x_train[17]"
   ]
  },
  {
   "cell_type": "markdown",
   "metadata": {},
   "source": [
    "## 模型训练\n",
    "\n",
    "调用sklearn-crfsuite库实现crf模型的定义，学习算法选择默认的L-BFGS算法。"
   ]
  },
  {
   "cell_type": "code",
   "execution_count": 12,
   "metadata": {},
   "outputs": [
    {
     "name": "stderr",
     "output_type": "stream",
     "text": [
      "/home/y212202031/.conda/envs/lium_torch/lib/python3.6/site-packages/sklearn/base.py:213: FutureWarning: From version 0.24, get_params will raise an AttributeError if a parameter cannot be retrieved as an instance attribute. Previously it would return None.\n",
      "  FutureWarning)\n"
     ]
    },
    {
     "data": {
      "text/plain": [
       "CRF(algorithm='lbfgs', all_possible_transitions=True, c1=0.1, c2=0.2,\n",
       "    keep_tempfiles=None, max_iterations=90)"
      ]
     },
     "execution_count": 12,
     "metadata": {},
     "output_type": "execute_result"
    }
   ],
   "source": [
    "model = sklearn_crfsuite.CRF(\n",
    "    algorithm='lbfgs', \n",
    "    c1=0.1, \n",
    "    c2=0.2, \n",
    "    max_iterations=90, \n",
    "    all_possible_transitions=True\n",
    ")\n",
    "\n",
    "model.fit(x_train, y_train)"
   ]
  },
  {
   "cell_type": "markdown",
   "metadata": {},
   "source": [
    "## 模型评估"
   ]
  },
  {
   "cell_type": "code",
   "execution_count": 13,
   "metadata": {},
   "outputs": [
    {
     "data": {
      "text/plain": [
       "['B_PER', 'I_PER', 'B_T', 'I_T', 'B_LOC', 'I_LOC', 'B_ORG', 'I_ORG']"
      ]
     },
     "execution_count": 13,
     "metadata": {},
     "output_type": "execute_result"
    }
   ],
   "source": [
    "labels = list(model.classes_)\n",
    "labels.remove('O')\n",
    "labels"
   ]
  },
  {
   "cell_type": "code",
   "execution_count": 14,
   "metadata": {},
   "outputs": [
    {
     "name": "stderr",
     "output_type": "stream",
     "text": [
      "/home/y212202031/.conda/envs/lium_torch/lib/python3.6/site-packages/sklearn/utils/validation.py:70: FutureWarning: Pass labels=['B_LOC', 'I_LOC', 'B_ORG', 'I_ORG', 'B_PER', 'I_PER', 'B_T', 'I_T'] as keyword args. From version 0.25 passing these as positional arguments will result in an error\n",
      "  FutureWarning)\n"
     ]
    },
    {
     "name": "stdout",
     "output_type": "stream",
     "text": [
      "              precision    recall  f1-score   support\n",
      "\n",
      "       B_LOC      0.925     0.865     0.894      3206\n",
      "       I_LOC      0.906     0.853     0.879     14866\n",
      "       B_ORG      0.937     0.906     0.921      6584\n",
      "       I_ORG      0.923     0.885     0.904     10583\n",
      "       B_PER      0.963     0.907     0.934      6109\n",
      "       I_PER      0.955     0.922     0.938     11553\n",
      "         B_T      0.979     0.961     0.970      4882\n",
      "         I_T      0.984     0.975     0.979     11543\n",
      "\n",
      "   micro avg      0.944     0.908     0.926     69326\n",
      "   macro avg      0.947     0.909     0.927     69326\n",
      "weighted avg      0.944     0.908     0.925     69326\n",
      "\n"
     ]
    }
   ],
   "source": [
    "y_predict = model.predict(x_test)\n",
    "sorted_labels = sorted(\n",
    "    labels, key=lambda BIO_tag: (BIO_tag[1:], BIO_tag[0])\n",
    ")\n",
    "\n",
    "print(metrics.flat_classification_report(y_true=y_test, y_pred=y_predict, labels=sorted_labels, digits=3))"
   ]
  },
  {
   "cell_type": "markdown",
   "metadata": {},
   "source": [
    "## 超参数搜索\n",
    "\n",
    "之前定义CRF模型的时将$L1$和$L2$正则化项系数定义为0.1和0.2，下面用随机搜索和3-fold交叉验证寻找较优的正则化项参数。"
   ]
  },
  {
   "cell_type": "code",
   "execution_count": 15,
   "metadata": {},
   "outputs": [
    {
     "name": "stdout",
     "output_type": "stream",
     "text": [
      "Fitting 3 folds for each of 30 candidates, totalling 90 fits\n"
     ]
    },
    {
     "name": "stderr",
     "output_type": "stream",
     "text": [
      "[Parallel(n_jobs=-1)]: Using backend LokyBackend with 12 concurrent workers.\n",
      "/home/y212202031/.conda/envs/lium_torch/lib/python3.6/site-packages/joblib/externals/loky/process_executor.py:705: UserWarning: A worker stopped while some jobs were given to the executor. This can be caused by a too short worker timeout or by a memory leak.\n",
      "  \"timeout or by a memory leak.\", UserWarning\n",
      "[Parallel(n_jobs=-1)]: Done  26 tasks      | elapsed: 15.9min\n",
      "[Parallel(n_jobs=-1)]: Done  90 out of  90 | elapsed: 49.5min finished\n"
     ]
    },
    {
     "name": "stdout",
     "output_type": "stream",
     "text": [
      "CPU times: user 49min 24s, sys: 30.9 s, total: 49min 54s\n",
      "Wall time: 51min 7s\n"
     ]
    },
    {
     "data": {
      "text/plain": [
       "RandomizedSearchCV(cv=3,\n",
       "                   estimator=CRF(algorithm='lbfgs',\n",
       "                                 all_possible_transitions=True,\n",
       "                                 keep_tempfiles=None, max_iterations=100),\n",
       "                   n_iter=30, n_jobs=-1,\n",
       "                   param_distributions={'c1': <scipy.stats._distn_infrastructure.rv_frozen object at 0x7f925eec9ba8>,\n",
       "                                        'c2': <scipy.stats._distn_infrastructure.rv_frozen object at 0x7f925dce9128>},\n",
       "                   scoring=make_scorer(flat_f1_score, average=weighted, labels=['B_PER', 'I_PER', 'B_T', 'I_T', 'B_LOC', 'I_LOC', 'B_ORG', 'I_ORG']),\n",
       "                   verbose=1)"
      ]
     },
     "execution_count": 15,
     "metadata": {},
     "output_type": "execute_result"
    }
   ],
   "source": [
    "%%time\n",
    "# define fixed parameters and parameters to search\n",
    "crf = sklearn_crfsuite.CRF(\n",
    "    algorithm='lbfgs', \n",
    "    max_iterations=100, \n",
    "    all_possible_transitions=True\n",
    ")\n",
    "params_space = {\n",
    "    'c1': scipy.stats.expon(scale=0.5),\n",
    "    'c2': scipy.stats.expon(scale=0.05),\n",
    "}\n",
    "\n",
    "# use the same metric for evaluation\n",
    "f1_scorer = make_scorer(metrics.flat_f1_score, \n",
    "                        average='weighted', labels=labels)\n",
    "\n",
    "# search\n",
    "rs = RandomizedSearchCV(crf, params_space, \n",
    "                        cv=3, \n",
    "                        verbose=1, \n",
    "                        n_jobs=-1, \n",
    "                        n_iter=30, \n",
    "                        scoring=f1_scorer)\n",
    "                        \n",
    "rs.fit(x_train, y_train)"
   ]
  },
  {
   "cell_type": "markdown",
   "metadata": {},
   "source": [
    "最优结果："
   ]
  },
  {
   "cell_type": "code",
   "execution_count": 16,
   "metadata": {},
   "outputs": [
    {
     "name": "stdout",
     "output_type": "stream",
     "text": [
      "best params: {'c1': 0.05767215761851891, 'c2': 0.07709740059764503}\n",
      "best CV score: 0.9167164012941867\n",
      "model size: 5.61M\n"
     ]
    }
   ],
   "source": [
    "# crf = rs.best_estimator_\n",
    "print('best params:', rs.best_params_)\n",
    "print('best CV score:', rs.best_score_)\n",
    "print('model size: {:0.2f}M'.format(rs.best_estimator_.size_ / 1000000))"
   ]
  },
  {
   "cell_type": "markdown",
   "metadata": {},
   "source": [
    "下面这张图展示了RandomizedSearchCV所搜索的``c1``和``c2``值，红色的散点意味着更好的结果，蓝色的结果更差。\n",
    "\n",
    "可以看到其实图中的散点对应的平均测试得分都比较接近，$\\min$和$\\max$差距不大。"
   ]
  },
  {
   "cell_type": "code",
   "execution_count": 17,
   "metadata": {},
   "outputs": [
    {
     "name": "stdout",
     "output_type": "stream",
     "text": [
      "Dark blue => 0.8896, dark red => 0.9167\n"
     ]
    },
    {
     "data": {
      "image/png": "[encoded data removed]",
      "text/plain": [
       "<Figure size 864x864 with 1 Axes>"
      ]
     },
     "metadata": {},
     "output_type": "display_data"
    }
   ],
   "source": [
    "_x = [s['c1'] for s in rs.cv_results_['params']]\n",
    "_y = [s['c2'] for s in rs.cv_results_['params']]\n",
    "_c = [s for s in rs.cv_results_['mean_test_score']]\n",
    "\n",
    "fig = plt.figure()\n",
    "fig.set_size_inches(12, 12)\n",
    "ax = plt.gca()\n",
    "ax.set_yscale('log')\n",
    "ax.set_xscale('log')\n",
    "ax.set_xlabel('C1')\n",
    "ax.set_ylabel('C2')\n",
    "ax.set_title(\"Randomized Hyperparameter Search CV Results (min={:0.3}, max={:0.3})\".format(\n",
    "    min(_c), max(_c)\n",
    "))\n",
    "\n",
    "ax.scatter(_x, _y, c=_c, s=60, alpha=0.9, edgecolors=[0,0,0])\n",
    "\n",
    "print(\"Dark blue => {:0.4}, dark red => {:0.4}\".format(min(_c), max(_c)))"
   ]
  },
  {
   "cell_type": "markdown",
   "metadata": {},
   "source": [
    "在本次实验的测试集上尝试搜索到的最优超参数，观察到变化不显著。"
   ]
  },
  {
   "cell_type": "code",
   "execution_count": 22,
   "metadata": {},
   "outputs": [
    {
     "name": "stdout",
     "output_type": "stream",
     "text": [
      "              precision    recall  f1-score   support\n",
      "\n",
      "       B_LOC      0.926     0.857     0.890      3206\n",
      "       I_LOC      0.912     0.839     0.874     14866\n",
      "       B_ORG      0.935     0.910     0.922      6584\n",
      "       I_ORG      0.920     0.889     0.904     10583\n",
      "       B_PER      0.964     0.911     0.937      6109\n",
      "       I_PER      0.956     0.923     0.939     11553\n",
      "         B_T      0.979     0.961     0.970      4882\n",
      "         I_T      0.985     0.974     0.979     11543\n",
      "\n",
      "   micro avg      0.945     0.906     0.925     69326\n",
      "   macro avg      0.947     0.908     0.927     69326\n",
      "weighted avg      0.945     0.906     0.925     69326\n",
      "\n"
     ]
    }
   ],
   "source": [
    "crf = rs.best_estimator_\n",
    "y_pred = crf.predict(x_test)\n",
    "print(metrics.flat_classification_report(y_true=y_test, y_pred=y_pred, labels=sorted_labels, digits=3))"
   ]
  },
  {
   "cell_type": "markdown",
   "metadata": {},
   "source": [
    "## 模型学到了什么？\n",
    "\n",
    "下面我们简单观察一下训练完的模型参数，是否能够有一些符合直觉和语言规则的表现。"
   ]
  },
  {
   "cell_type": "markdown",
   "metadata": {},
   "source": [
    "### transition"
   ]
  },
  {
   "cell_type": "code",
   "execution_count": 27,
   "metadata": {},
   "outputs": [
    {
     "name": "stdout",
     "output_type": "stream",
     "text": [
      "Top likely transitions:\n",
      "I_LOC  -> I_LOC   6.936293\n",
      "B_LOC  -> I_LOC   6.180399\n",
      "B_ORG  -> I_ORG   5.727910\n",
      "B_PER  -> I_PER   5.217600\n",
      "B_T    -> I_T     4.910737\n",
      "O      -> O       4.484217\n",
      "I_PER  -> I_PER   4.334841\n",
      "I_ORG  -> I_ORG   4.158659\n",
      "I_T    -> I_T     3.100000\n",
      "O      -> B_T     0.835000\n",
      "O      -> B_PER   0.789746\n",
      "I_ORG  -> O       0.605403\n",
      "\n",
      "Top unlikely transitions:\n",
      "B_ORG  -> I_LOC   -4.918492\n",
      "B_T    -> O       -5.035032\n",
      "I_ORG  -> I_T     -5.100284\n",
      "B_PER  -> B_PER   -5.152471\n",
      "B_ORG  -> O       -5.204367\n",
      "I_PER  -> I_T     -5.746436\n",
      "O      -> I_PER   -5.936182\n",
      "I_ORG  -> I_LOC   -6.288599\n",
      "O      -> I_ORG   -6.602775\n",
      "O      -> I_T     -6.888443\n",
      "O      -> I_LOC   -6.996929\n",
      "I_T    -> B_T     -8.387853\n"
     ]
    }
   ],
   "source": [
    "from collections import Counter\n",
    "\n",
    "def print_transitions(trans_features):\n",
    "    for (label_from, label_to), weight in trans_features:\n",
    "        print(\"%-6s -> %-7s %0.6f\" % (label_from, label_to, weight))\n",
    "\n",
    "print(\"Top likely transitions:\")\n",
    "print_transitions(Counter(crf.transition_features_).most_common(12))\n",
    "\n",
    "print(\"\\nTop unlikely transitions:\")\n",
    "print_transitions(Counter(crf.transition_features_).most_common()[-12:])"
   ]
  },
  {
   "cell_type": "markdown",
   "metadata": {},
   "source": [
    "很明显，举例来说，如 Top likely transitions 的第二行：地名起始 token $B\\_LOC$ 后面接着的很可能是地名的中间 token $I\\_LOC$，同理如 Top unlikely transitions 的倒数第五行和倒数第二行，从其它标签的 token 转移到 $I\\_LOC$ 的权重参数会受到惩罚。"
   ]
  },
  {
   "cell_type": "markdown",
   "metadata": {},
   "source": [
    "### features"
   ]
  },
  {
   "cell_type": "code",
   "execution_count": 32,
   "metadata": {},
   "outputs": [
    {
     "name": "stdout",
     "output_type": "stream",
     "text": [
      "Top positive:\n",
      "11.064473 O        w:、\n",
      "8.687785 B_PER    w:刘\n",
      "8.217797 O        w:,\n",
      "7.732534 O        w:的\n",
      "7.640986 B_PER    w:吴\n",
      "7.342371 O        w:。\n",
      "6.571684 B_PER    w:袁\n",
      "6.355836 O        w:与\n",
      "6.342999 B_PER    w:郭\n",
      "6.170374 O        w:对\n",
      "6.169432 O        w_w+1:部门\n",
      "6.100547 B_PER    w:崔\n",
      "5.947073 B_PER    w:李\n",
      "5.919781 I_T      w-1_w:晚上\n",
      "5.877307 B_PER    w_w+1:江主\n",
      "5.841035 B_PER    w:褚\n",
      "5.808640 B_T      w:今\n",
      "5.741757 B_PER    w_w+1:毛主\n",
      "5.715439 B_PER    w:杨\n",
      "5.660075 O        w:在\n"
     ]
    }
   ],
   "source": [
    "def print_state_features(state_features):\n",
    "    for (attr, label), weight in state_features:\n",
    "        print(\"%0.6f %-8s %s\" % (weight, label, attr))    \n",
    "\n",
    "print(\"Top positive:\")\n",
    "print_state_features(Counter(crf.state_features_).most_common(20))"
   ]
  },
  {
   "cell_type": "code",
   "execution_count": 31,
   "metadata": {},
   "outputs": [
    {
     "name": "stdout",
     "output_type": "stream",
     "text": [
      "\n",
      "Top negative:\n",
      "-3.722432 I_LOC    w-1:司\n",
      "-3.748242 O        w:徐\n",
      "-3.783653 O        w-1_w:共和\n",
      "-3.808998 O        w:潘\n",
      "-3.815857 O        w:朱\n",
      "-3.853134 O        w-1_w:日本\n",
      "-3.930380 I_ORG    w+1:队\n",
      "-3.944700 I_LOC    w-1:厂\n",
      "-4.029497 O        w:江\n",
      "-4.182139 I_LOC    w-1:处\n",
      "-4.451183 I_LOC    w-1:社\n",
      "-4.472682 O        w:李\n",
      "-4.573612 I_LOC    w-1:队\n",
      "-4.946306 I_LOC    w-1:府\n",
      "-4.961714 O        w:赵\n"
     ]
    }
   ],
   "source": [
    "print(\"\\nTop negative:\")\n",
    "print_state_features(Counter(crf.state_features_).most_common()[-15:])"
   ]
  },
  {
   "cell_type": "markdown",
   "metadata": {},
   "source": [
    "可以观察到：\n",
    "+ 对顿号（\"、\"）和句号（\"。\"），模型几乎可以断定它对应的标签是 $O$，这也是中文语料中模型很容易学习到的信息。\n",
    "+ 对\"刘\"、\"吴\"、\"李\"这些人名的姓氏，模型倾向于将他们分配为人名实体的起始 $B\\_PER$，或给这些 常用作姓氏的字 与 非实体标签$O$ 所组成的 pair 较大的惩罚。\n",
    "+ 对 character bigram \"晚上\"，和时间实体标签中间 token $I\\_T$ 组成的 pair 权重很高，也非常符合语言习惯，语料中存在大量的\"今天晚上\"、\"明天晚上\"或\"某某日晚上\"的片段。\n",
    "+ 因为语料本身的特性，模型对\"江主\"这种从领导人称谓中提取的特征也很敏感。"
   ]
  },
  {
   "cell_type": "code",
   "execution_count": null,
   "metadata": {},
   "outputs": [],
   "source": []
  },
  {
   "cell_type": "code",
   "execution_count": null,
   "metadata": {},
   "outputs": [],
   "source": []
  },
  {
   "cell_type": "code",
   "execution_count": null,
   "metadata": {},
   "outputs": [],
   "source": []
  }
 ],
 "metadata": {
  "interpreter": {
   "hash": "8e1d4fa986a9d7790f5a2cbcb0b12abea9817a82363198d2b642d34bfac7d235"
  },
  "kernelspec": {
   "display_name": "Python 3.6.13 ('lium_torch')",
   "language": "python",
   "name": "python3"
  },
  "language_info": {
   "codemirror_mode": {
    "name": "ipython",
    "version": 3
   },
   "file_extension": ".py",
   "mimetype": "text/x-python",
   "name": "python",
   "nbconvert_exporter": "python",
   "pygments_lexer": "ipython3",
   "version": "3.6.13"
  },
  "orig_nbformat": 4
 },
 "nbformat": 4,
 "nbformat_minor": 2
}
