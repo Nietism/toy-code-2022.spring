{
 "cells": [
  {
   "cell_type": "markdown",
   "metadata": {
    "collapsed": false
   },
   "source": [
    "## 第二章 机器学习实践作业\n",
    "\n",
    "### 1.在线性回归实验中，我们生成了100个训练样本，如果生成5000个训练样本，模型的拟合效果会发生怎样的变化？请实践并给出结论。<span style=\"color:red\">(必修题)</span>\n",
    "<span style=\"color:red\">提示：课节2：机器学习中[项目]第2章（上）：线性回归理论解读</span>"
   ]
  },
  {
   "cell_type": "markdown",
   "metadata": {
    "collapsed": false
   },
   "source": [
    "#### 数据构建"
   ]
  },
  {
   "cell_type": "code",
   "execution_count": 1,
   "metadata": {
    "collapsed": false
   },
   "outputs": [],
   "source": [
    "# 真实函数的参数缺省值为 w=1.2，b=0.5\r\n",
    "def linear_func(x,w=1.2,b=0.5):\r\n",
    "    y = w * x + b\r\n",
    "    return y"
   ]
  },
  {
   "cell_type": "code",
   "execution_count": 2,
   "metadata": {
    "collapsed": false
   },
   "outputs": [],
   "source": [
    "import paddle\r\n",
    "\r\n",
    "def create_toy_data(func, interval, sample_num, noise = 0.0, add_outlier = False, outlier_ratio = 0.001):\r\n",
    "    \"\"\"\r\n",
    "    根据给定的函数，生成样本\r\n",
    "    输入：\r\n",
    "       - func：函数\r\n",
    "       - interval： x的取值范围\r\n",
    "       - sample_num： 样本数目\r\n",
    "       - noise： 噪声均方差\r\n",
    "       - add_outlier：是否生成异常值\r\n",
    "       - outlier_ratio：异常值占比\r\n",
    "    输出：\r\n",
    "       - X: 特征数据，shape=[n_samples,1]\r\n",
    "       - y: 标签数据，shape=[n_samples,1]\r\n",
    "    \"\"\"\r\n",
    "\r\n",
    "    # 均匀采样\r\n",
    "    # 使用paddle.rand在生成sample_num个随机数\r\n",
    "    X = paddle.rand(shape = [sample_num]) * (interval[1]-interval[0]) + interval[0]\r\n",
    "    y = func(X)\r\n",
    "\r\n",
    "    # 生成高斯分布的标签噪声\r\n",
    "    # 使用paddle.normal生成0均值，noise标准差的数据\r\n",
    "    epsilon = paddle.normal(0,noise,paddle.to_tensor(y.shape[0]))\r\n",
    "    y = y + epsilon\r\n",
    "    if add_outlier:     # 生成额外的异常点\r\n",
    "        outlier_num = int(len(y)*outlier_ratio)\r\n",
    "        if outlier_num != 0:\r\n",
    "            # 使用paddle.randint生成服从均匀分布的、范围在[0, len(y))的随机Tensor\r\n",
    "            outlier_idx = paddle.randint(len(y),shape = [outlier_num])\r\n",
    "            y[outlier_idx] = y[outlier_idx] * 5\r\n",
    "    return X, y"
   ]
  },
  {
   "cell_type": "code",
   "execution_count": 3,
   "metadata": {
    "collapsed": false
   },
   "outputs": [
    {
     "name": "stderr",
     "output_type": "stream",
     "text": [
      "/opt/conda/envs/python35-paddle120-env/lib/python3.7/site-packages/matplotlib/__init__.py:107: DeprecationWarning: Using or importing the ABCs from 'collections' instead of from 'collections.abc' is deprecated, and in 3.8 it will stop working\n",
      "  from collections import MutableMapping\n",
      "/opt/conda/envs/python35-paddle120-env/lib/python3.7/site-packages/matplotlib/rcsetup.py:20: DeprecationWarning: Using or importing the ABCs from 'collections' instead of from 'collections.abc' is deprecated, and in 3.8 it will stop working\n",
      "  from collections import Iterable, Mapping\n",
      "/opt/conda/envs/python35-paddle120-env/lib/python3.7/site-packages/matplotlib/colors.py:53: DeprecationWarning: Using or importing the ABCs from 'collections' instead of from 'collections.abc' is deprecated, and in 3.8 it will stop working\n",
      "  from collections import Sized\n",
      "W0726 15:01:31.400933  3473 gpu_resources.cc:61] Please NOTE: device: 0, GPU Compute Capability: 7.0, Driver API Version: 11.2, Runtime API Version: 10.1\n",
      "W0726 15:01:31.405462  3473 gpu_resources.cc:91] device: 0, cuDNN Version: 7.6.\n",
      "/opt/conda/envs/python35-paddle120-env/lib/python3.7/site-packages/matplotlib/cbook/__init__.py:2349: DeprecationWarning: Using or importing the ABCs from 'collections' instead of from 'collections.abc' is deprecated, and in 3.8 it will stop working\n",
      "  if isinstance(obj, collections.Iterator):\n",
      "/opt/conda/envs/python35-paddle120-env/lib/python3.7/site-packages/matplotlib/cbook/__init__.py:2366: DeprecationWarning: Using or importing the ABCs from 'collections' instead of from 'collections.abc' is deprecated, and in 3.8 it will stop working\n",
      "  return list(data) if isinstance(data, collections.MappingView) else data\n"
     ]
    },
    {
     "data": {
      "text/plain": [
       "<Figure size 640x480 with 1 Axes>"
      ]
     },
     "metadata": {},
     "output_type": "display_data"
    }
   ],
   "source": [
    "from matplotlib import pyplot as plt # matplotlib 是 Python 的绘图库\r\n",
    "\r\n",
    "func = linear_func\r\n",
    "interval = (-10,10)\r\n",
    "train_num = 100 # 训练样本数目\r\n",
    "test_num = 50 # 测试样本数目\r\n",
    "noise = 2\r\n",
    "X_train, y_train = create_toy_data(func=func, interval=interval, sample_num=train_num, noise = noise, add_outlier = False)\r\n",
    "X_test, y_test = create_toy_data(func=func, interval=interval, sample_num=test_num, noise = noise, add_outlier = False)\r\n",
    "\r\n",
    "X_train_large, y_train_large = create_toy_data(func=func, interval=interval, sample_num=5000, noise = noise, add_outlier = False)\r\n",
    "\r\n",
    "# paddle.linspace返回一个Tensor，Tensor的值为在区间start和stop上均匀间隔的num个值，输出Tensor的长度为num\r\n",
    "X_underlying = paddle.linspace(interval[0],interval[1],train_num) \r\n",
    "y_underlying = linear_func(X_underlying)\r\n",
    "\r\n",
    "# 绘制数据\r\n",
    "plt.scatter(X_train, y_train, marker='*', facecolor=\"none\", edgecolor='#e4007f', s=50, label=\"train data\")\r\n",
    "plt.scatter(X_test, y_test, facecolor=\"none\", edgecolor='#f19ec2', s=50, label=\"test data\")\r\n",
    "plt.plot(X_underlying, y_underlying, c='#000000', label=r\"underlying distribution\")\r\n",
    "plt.legend(fontsize='x-large') # 给图像加图例\r\n",
    "plt.savefig('ml-vis.pdf') # 保存图像到PDF文件中\r\n",
    "plt.show()"
   ]
  },
  {
   "cell_type": "markdown",
   "metadata": {
    "collapsed": false
   },
   "source": [
    "#### 模型构建"
   ]
  },
  {
   "cell_type": "code",
   "execution_count": 4,
   "metadata": {
    "collapsed": false
   },
   "outputs": [
    {
     "name": "stdout",
     "output_type": "stream",
     "text": [
      "y_pred: Tensor(shape=[2, 1], dtype=float32, place=Place(gpu:0), stop_gradient=True,\n",
      "       [[-7.15093279],\n",
      "        [ 3.71817803]])\n"
     ]
    }
   ],
   "source": [
    "import paddle\r\n",
    "from nndl.op import Op\r\n",
    "\r\n",
    "paddle.seed(10) #设置随机种子\r\n",
    "\r\n",
    "# 线性算子\r\n",
    "class Linear(Op):\r\n",
    "    def __init__(self, input_size):\r\n",
    "        \"\"\"\r\n",
    "        输入：\r\n",
    "           - input_size:模型要处理的数据特征向量长度\r\n",
    "        \"\"\"\r\n",
    "\r\n",
    "        self.input_size = input_size\r\n",
    "\r\n",
    "        # 模型参数\r\n",
    "        self.params = {}\r\n",
    "        self.params['w'] = paddle.randn(shape=[self.input_size,1],dtype='float32') \r\n",
    "        self.params['b'] = paddle.zeros(shape=[1],dtype='float32')\r\n",
    "\r\n",
    "    def __call__(self, X):\r\n",
    "        return self.forward(X)\r\n",
    "\r\n",
    "    # 前向函数\r\n",
    "    def forward(self, X):\r\n",
    "        \"\"\"\r\n",
    "        输入：\r\n",
    "           - X: tensor, shape=[N, D]\r\n",
    "           注意这里的X矩阵是由N个x向量的转置拼接成的，与原教材行向量表示方式不一致\r\n",
    "        输出：\r\n",
    "           - y_pred： tensor, shape=[N]\r\n",
    "        \"\"\"\r\n",
    "\r\n",
    "        N,D = X.shape\r\n",
    "\r\n",
    "        if self.input_size==0:\r\n",
    "            return paddle.full(shape=[N,1], fill_value=self.params['b'])\r\n",
    "        \r\n",
    "        assert D==self.input_size # 输入数据维度合法性验证\r\n",
    "\r\n",
    "        # 使用paddle.matmul计算两个tensor的乘积\r\n",
    "        y_pred = paddle.matmul(X, self.params['w']) + self.params['b']\r\n",
    "        return y_pred\r\n",
    "\r\n",
    "# 注意这里我们为了和后面章节统一，这里的X矩阵是由N个x向量的转置拼接成的，与原教材行向量表示方式不一致\r\n",
    "input_size = 3\r\n",
    "N = 2\r\n",
    "X = paddle.randn(shape=[N, input_size],dtype='float32') # 生成2个维度为3的数据\r\n",
    "model = Linear(input_size)\r\n",
    "y_pred = model(X)\r\n",
    "print(\"y_pred:\", y_pred) # 输出结果的个数也是2个"
   ]
  },
  {
   "cell_type": "markdown",
   "metadata": {
    "collapsed": false
   },
   "source": [
    "#### 损失函数"
   ]
  },
  {
   "cell_type": "code",
   "execution_count": 5,
   "metadata": {
    "collapsed": false
   },
   "outputs": [],
   "source": [
    "import paddle\r\n",
    "\r\n",
    "# 实现MSE\r\n",
    "def mean_squared_error(y_true, y_pred):\r\n",
    "    \"\"\"\r\n",
    "    输入：\r\n",
    "       - y_true: tensor，样本真实标签\r\n",
    "       - y_pred: tensor, 样本预测标签\r\n",
    "    输出：\r\n",
    "       - error: float，误差值\r\n",
    "    \"\"\"\r\n",
    "\r\n",
    "    assert y_true.shape[0] == y_pred.shape[0]\r\n",
    "    \r\n",
    "    # paddle.square计算输入的平方值\r\n",
    "    # paddle.mean沿 axis 计算 x 的平均值，默认axis是None，则对输入的全部元素计算平均值。\r\n",
    "    error = paddle.mean(paddle.square(y_true - y_pred))\r\n",
    "\r\n",
    "    return error"
   ]
  },
  {
   "cell_type": "markdown",
   "metadata": {
    "collapsed": false
   },
   "source": [
    "#### 模型优化"
   ]
  },
  {
   "cell_type": "code",
   "execution_count": 6,
   "metadata": {
    "collapsed": false
   },
   "outputs": [],
   "source": [
    "def optimizer_lsm(model, X, y, reg_lambda=0):\r\n",
    "  \"\"\"\r\n",
    "    输入：\r\n",
    "       - model: 模型\r\n",
    "       - X: tensor, 特征数据，shape=[N,D]\r\n",
    "       - y: tensor,标签数据，shape=[N]\r\n",
    "       - reg_lambda: float, 正则化系数，默认为0\r\n",
    "    输出：\r\n",
    "       - model: 优化好的模型\r\n",
    "    \"\"\"\r\n",
    "\r\n",
    "  N, D = X.shape\r\n",
    "\r\n",
    "  # 对输入特征数据所有特征向量求平均\r\n",
    "  x_bar_tran = paddle.mean(X,axis=0).T \r\n",
    "  \r\n",
    "  # 求标签的均值,shape=[1]\r\n",
    "  y_bar = paddle.mean(y)\r\n",
    "  \r\n",
    "  # paddle.subtract通过广播的方式实现矩阵减向量\r\n",
    "  x_sub = paddle.subtract(X,x_bar_tran)\r\n",
    "\r\n",
    "  # 使用paddle.all判断输入tensor是否全0\r\n",
    "  if paddle.all(x_sub==0):\r\n",
    "    model.params['b'] = y_bar\r\n",
    "    model.params['w'] = paddle.zeros(shape=[D])\r\n",
    "    return model\r\n",
    "  \r\n",
    "  # paddle.inverse求方阵的逆\r\n",
    "  tmp = paddle.inverse(paddle.matmul(x_sub.T,x_sub)+\r\n",
    "          reg_lambda*paddle.eye(num_rows = (D)))\r\n",
    "\r\n",
    "  w = paddle.matmul(paddle.matmul(tmp,x_sub.T),(y-y_bar))\r\n",
    "  \r\n",
    "  b = y_bar-paddle.matmul(x_bar_tran,w)\r\n",
    "  \r\n",
    "  model.params['b'] = b\r\n",
    "  model.params['w'] = paddle.squeeze(w,axis=-1)\r\n",
    "\r\n",
    "  return model"
   ]
  },
  {
   "cell_type": "markdown",
   "metadata": {
    "collapsed": false
   },
   "source": [
    "#### 模型训练"
   ]
  },
  {
   "cell_type": "code",
   "execution_count": 7,
   "metadata": {
    "collapsed": false
   },
   "outputs": [
    {
     "name": "stdout",
     "output_type": "stream",
     "text": [
      "w_pred: 1.1782047748565674 b_pred:  0.8127316832542419\n",
      "train error:  3.8648953437805176\n"
     ]
    }
   ],
   "source": [
    "input_size = 1\r\n",
    "model = Linear(input_size)\r\n",
    "model = optimizer_lsm(model,X_train.reshape([-1,1]),y_train.reshape([-1,1]))\r\n",
    "print(\"w_pred:\",model.params['w'].item(), \"b_pred: \", model.params['b'].item())\r\n",
    "\r\n",
    "y_train_pred = model(X_train.reshape([-1,1])).squeeze()\r\n",
    "train_error = mean_squared_error(y_true=y_train, y_pred=y_train_pred).item()\r\n",
    "print(\"train error: \",train_error)"
   ]
  },
  {
   "cell_type": "code",
   "execution_count": 8,
   "metadata": {
    "collapsed": false
   },
   "outputs": [
    {
     "name": "stdout",
     "output_type": "stream",
     "text": [
      "w_pred large: 1.2004742622375488 b_pred large:  0.5069178342819214\n",
      "train error large:  3.966343879699707\n"
     ]
    }
   ],
   "source": [
    "model_large = Linear(input_size)\r\n",
    "model_large = optimizer_lsm(model_large,X_train_large.reshape([-1,1]),y_train_large.reshape([-1,1]))\r\n",
    "print(\"w_pred large:\",model_large.params['w'].item(), \"b_pred large: \", model_large.params['b'].item())\r\n",
    "\r\n",
    "y_train_pred_large = model_large(X_train_large.reshape([-1,1])).squeeze()\r\n",
    "train_error_large = mean_squared_error(y_true=y_train_large, y_pred=y_train_pred_large).item()\r\n",
    "print(\"train error large: \",train_error_large)"
   ]
  },
  {
   "cell_type": "markdown",
   "metadata": {
    "collapsed": false
   },
   "source": [
    "#### 模型评估"
   ]
  },
  {
   "cell_type": "code",
   "execution_count": 9,
   "metadata": {
    "collapsed": false
   },
   "outputs": [
    {
     "name": "stdout",
     "output_type": "stream",
     "text": [
      "test error:  5.9800310134887695\n"
     ]
    }
   ],
   "source": [
    "y_test_pred = model(X_test.reshape([-1,1])).squeeze()\r\n",
    "test_error = mean_squared_error(y_true=y_test, y_pred=y_test_pred).item()\r\n",
    "print(\"test error: \",test_error)"
   ]
  },
  {
   "cell_type": "code",
   "execution_count": 10,
   "metadata": {
    "collapsed": false
   },
   "outputs": [
    {
     "name": "stdout",
     "output_type": "stream",
     "text": [
      "test error large:  5.949461936950684\n"
     ]
    }
   ],
   "source": [
    "y_test_pred_large = model_large(X_test.reshape([-1,1])).squeeze()\r\n",
    "test_error_large = mean_squared_error(y_true=y_test, y_pred=y_test_pred_large).item()\r\n",
    "print(\"test error large: \",test_error_large)"
   ]
  },
  {
   "cell_type": "markdown",
   "metadata": {
    "collapsed": false
   },
   "source": [
    "**观察**到：样本数量增大时，模型拟合能力几乎保持不变。"
   ]
  },
  {
   "cell_type": "markdown",
   "metadata": {
    "collapsed": false
   },
   "source": [
    "### 2.在基于线性回归模型的波士顿房价预测任务中，与房屋售价相关的特征比较少。那我们换一个更为复杂的数据集House Prices - Advanced Regression Techniques：[https://www.kaggle.com/competitions/house-prices-advanced-regression-techniques/data](https://www.kaggle.com/competitions/house-prices-advanced-regression-techniques/data)，通过特征选择、数据处理等过程，呈现出结果。<span style=\"color:red\">(附加题&加分题)</span>\n",
    "<span style=\"color:red\">提示：课节2：机器学习中第2章（下）：基于线性回归完成波士顿房价预测任务</span>"
   ]
  },
  {
   "cell_type": "code",
   "execution_count": 11,
   "metadata": {
    "collapsed": false
   },
   "outputs": [],
   "source": [
    "class Runner(object):\r\n",
    "    def __init__(self, model, optimizer, loss_fn, metric):\r\n",
    "        self.model = model         # 模型\r\n",
    "        self.optimizer = optimizer # 优化器\r\n",
    "        self.loss_fn = loss_fn     # 损失函数   \r\n",
    "        self.metric = metric       # 评估指标\r\n",
    "\r\n",
    "    # 模型训练\r\n",
    "    def train(self, train_dataset, dev_dataset=None, **kwargs):\r\n",
    "        pass\r\n",
    "\r\n",
    "    # 模型评价\r\n",
    "    def evaluate(self, data_set, **kwargs):\r\n",
    "        pass\r\n",
    "\r\n",
    "    # 模型预测\r\n",
    "    def predict(self, x, **kwargs):\r\n",
    "        pass\r\n",
    "\r\n",
    "    # 模型保存\r\n",
    "    def save_model(self, save_path):\r\n",
    "        pass\r\n",
    "\r\n",
    "    # 模型加载\r\n",
    "    def load_model(self, model_path):\r\n",
    "        pass"
   ]
  },
  {
   "cell_type": "code",
   "execution_count": 12,
   "metadata": {
    "collapsed": false
   },
   "outputs": [
    {
     "name": "stdout",
     "output_type": "stream",
     "text": [
      "(1460, 81)\n",
      "(1459, 80)\n"
     ]
    }
   ],
   "source": [
    "import pandas as pd\r\n",
    "\r\n",
    "train_data = pd.read_csv(\"./data/train.csv\")\r\n",
    "test_data = pd.read_csv(\"./data/test.csv\")\r\n",
    "\r\n",
    "print(train_data.shape)\r\n",
    "print(test_data.shape)"
   ]
  },
  {
   "cell_type": "markdown",
   "metadata": {
    "collapsed": false
   },
   "source": [
    "训练数据集包括1460个样本，每个样本80个特征和1个标签， 而测试数据集包含1459个样本，每个样本80个特征。"
   ]
  },
  {
   "cell_type": "code",
   "execution_count": 13,
   "metadata": {
    "collapsed": false
   },
   "outputs": [
    {
     "name": "stdout",
     "output_type": "stream",
     "text": [
      "   Id  MSSubClass MSZoning  LotFrontage SaleType SaleCondition  SalePrice\n",
      "0   1          60       RL         65.0       WD        Normal     208500\n",
      "1   2          20       RL         80.0       WD        Normal     181500\n",
      "2   3          60       RL         68.0       WD        Normal     223500\n",
      "3   4          70       RL         60.0       WD       Abnorml     140000\n"
     ]
    }
   ],
   "source": [
    "print(train_data.iloc[0:4, [0, 1, 2, 3, -3, -2, -1]])"
   ]
  },
  {
   "cell_type": "markdown",
   "metadata": {
    "collapsed": false
   },
   "source": [
    "可以观察到：第一个特征是ID， 这有助于模型识别每个训练样本。 虽然这很方便，但它不携带任何用于预测的信息。 因此，在将数据提供给模型之前，我们将其从数据集中删除。"
   ]
  },
  {
   "cell_type": "code",
   "execution_count": 14,
   "metadata": {
    "collapsed": false
   },
   "outputs": [
    {
     "name": "stdout",
     "output_type": "stream",
     "text": [
      "(2919, 79)\n"
     ]
    }
   ],
   "source": [
    "all_features = pd.concat((train_data.iloc[:, 1:-1], test_data.iloc[:, 1:]))\r\n",
    "\r\n",
    "print(all_features.shape)"
   ]
  },
  {
   "cell_type": "markdown",
   "metadata": {
    "collapsed": false
   },
   "source": [
    " 首先，我们将所有缺失的值替换为相应特征的平均值。然后，为了将所有特征放在一个共同的尺度上， 我们通过将特征重新缩放到零均值和单位方差来标准化数据。"
   ]
  },
  {
   "cell_type": "code",
   "execution_count": 15,
   "metadata": {
    "collapsed": false
   },
   "outputs": [],
   "source": [
    "# 若无法获得测试数据，则可根据训练数据计算均值和标准差\r\n",
    "numeric_features = all_features.dtypes[all_features.dtypes != 'object'].index\r\n",
    "all_features[numeric_features] = all_features[numeric_features].apply(\r\n",
    "    lambda x: (x - x.mean()) / (x.std()))\r\n",
    "\r\n",
    "# 在标准化数据之后，所有均值消失，因此我们可以将缺失值设置为0\r\n",
    "all_features[numeric_features] = all_features[numeric_features].fillna(0)"
   ]
  },
  {
   "cell_type": "code",
   "execution_count": 16,
   "metadata": {
    "collapsed": false
   },
   "outputs": [
    {
     "data": {
      "text/plain": [
       "(2919, 331)"
      ]
     },
     "execution_count": 16,
     "metadata": {},
     "output_type": "execute_result"
    }
   ],
   "source": [
    "# “Dummy_na=True”将“na”（缺失值）视为有效的特征值，并为其创建指示符特征\r\n",
    "all_features = pd.get_dummies(all_features, dummy_na=True)\r\n",
    "all_features.shape"
   ]
  },
  {
   "cell_type": "markdown",
   "metadata": {
    "collapsed": false
   },
   "source": [
    "从pandas格式中提取特征，将其转换为张量表示用于训练。"
   ]
  },
  {
   "cell_type": "code",
   "execution_count": 17,
   "metadata": {
    "collapsed": false
   },
   "outputs": [
    {
     "data": {
      "text/plain": [
       "([1460, 331], [1459, 331], [1460, 1])"
      ]
     },
     "execution_count": 17,
     "metadata": {},
     "output_type": "execute_result"
    }
   ],
   "source": [
    "n_train = train_data.shape[0]\r\n",
    "train_features = paddle.to_tensor(all_features[:n_train].values, dtype='float32')\r\n",
    "test_features = paddle.to_tensor(all_features[n_train:].values, dtype='float32')\r\n",
    "train_labels = paddle.to_tensor(train_data.SalePrice.values.reshape(-1, 1), dtype='float32')\r\n",
    "\r\n",
    "train_features.shape, test_features.shape, train_labels.shape"
   ]
  },
  {
   "cell_type": "code",
   "execution_count": 18,
   "metadata": {
    "collapsed": false
   },
   "outputs": [],
   "source": [
    "train_dataset = (train_features, train_labels)"
   ]
  },
  {
   "cell_type": "code",
   "execution_count": 19,
   "metadata": {
    "collapsed": false
   },
   "outputs": [],
   "source": [
    "# 模型实例化\r\n",
    "input_size = 331\r\n",
    "model=Linear(input_size)"
   ]
  },
  {
   "cell_type": "code",
   "execution_count": 20,
   "metadata": {
    "collapsed": false
   },
   "outputs": [],
   "source": [
    "# 为与Kaggle评价标准保持一致，使用log-RMSE\r\n",
    "\r\n",
    "def log_rmse(net, features, labels):\r\n",
    "    # 为了在取对数时进一步稳定该值，将小于1的值设置为1\r\n",
    "    # clipped_preds = torch.clamp(net(features), 1, float('inf'))\r\n",
    "    clipped_preds = paddle.clip(net(features), 1, float('inf'))\r\n",
    "    rmse = paddle.sqrt(loss(paddle.log(clipped_preds),\r\n",
    "                           paddle.log(labels)))\r\n",
    "    return rmse.item()"
   ]
  },
  {
   "cell_type": "code",
   "execution_count": 21,
   "metadata": {
    "collapsed": false
   },
   "outputs": [],
   "source": [
    "import paddle\r\n",
    "import os\r\n",
    "from nndl.opitimizer import optimizer_lsm\r\n",
    "\r\n",
    "class Runner(object):\r\n",
    "    def __init__(self, model, optimizer, loss_fn, metric):\r\n",
    "        # 优化器和损失函数为None,不再关注\r\n",
    "\r\n",
    "        # 模型\r\n",
    "        self.model=model\r\n",
    "        # 评估指标\r\n",
    "        self.metric = metric\r\n",
    "        # 优化器\r\n",
    "        self.optimizer = optimizer\r\n",
    "    \r\n",
    "    def train(self, dataset, reg_lambda, model_dir):\r\n",
    "        X,y = dataset\r\n",
    "        self.optimizer(self.model, X, y, reg_lambda)\r\n",
    "\r\n",
    "        # 保存模型\r\n",
    "        self.save_model(model_dir)\r\n",
    "    \r\n",
    "    def evaluate(self, dataset, **kwargs):\r\n",
    "        X,y = dataset\r\n",
    "\r\n",
    "        y_pred = self.model(X)\r\n",
    "        result = self.metric(y_pred, y)\r\n",
    "\r\n",
    "        return result\r\n",
    "\r\n",
    "    def predict(self, X, **kwargs):\r\n",
    "        return self.model(X)\r\n",
    "    \r\n",
    "    def save_model(self, model_dir):\r\n",
    "        if not os.path.exists(model_dir):\r\n",
    "            os.makedirs(model_dir)\r\n",
    "        \r\n",
    "        params_saved_path = os.path.join(model_dir,'params.pdtensor')\r\n",
    "        paddle.save(model.params,params_saved_path)\r\n",
    "\r\n",
    "    def load_model(self, model_dir):\r\n",
    "        params_saved_path = os.path.join(model_dir,'params.pdtensor')\r\n",
    "        self.model.params=paddle.load(params_saved_path)\r\n",
    "\r\n",
    "optimizer = optimizer_lsm\r\n",
    "\r\n",
    "# 实例化Runner\r\n",
    "runner = Runner(model, optimizer=optimizer,loss_fn=None, metric=log_rmse)"
   ]
  },
  {
   "cell_type": "code",
   "execution_count": 22,
   "metadata": {
    "collapsed": false
   },
   "outputs": [],
   "source": [
    "# 模型保存文件夹\r\n",
    "saved_dir = './work/models'\r\n",
    "\r\n",
    "# 启动训练\r\n",
    "runner.train(train_dataset, reg_lambda=0.1, model_dir=saved_dir)"
   ]
  },
  {
   "cell_type": "code",
   "execution_count": 23,
   "metadata": {
    "collapsed": false
   },
   "outputs": [
    {
     "name": "stdout",
     "output_type": "stream",
     "text": [
      "MSSubClass weight: -2672.570068359375\n",
      "LotFrontage weight: 267.6170654296875\n",
      "LotArea weight: 5165.794921875\n",
      "OverallQual weight: 9862.0380859375\n",
      "OverallCond weight: 6298.2138671875\n",
      "YearBuilt weight: 8863.8203125\n",
      "YearRemodAdd weight: 1894.0037841796875\n",
      "MasVnrArea weight: 3717.07763671875\n",
      "BsmtFinSF1 weight: 6722.0185546875\n",
      "BsmtFinSF2 weight: 1598.1077880859375\n",
      "BsmtUnfSF weight: -101.866943359375\n",
      "TotalBsmtSF weight: 7564.85595703125\n",
      "1stFlrSF weight: 5657.9287109375\n",
      "2ndFlrSF weight: 13275.34765625\n",
      "LowQualFinSF weight: -1462.463623046875\n",
      "GrLivArea weight: 15145.9404296875\n",
      "BsmtFullBath weight: 1171.6802978515625\n",
      "BsmtHalfBath weight: -55.33821105957031\n",
      "FullBath weight: 2337.06005859375\n",
      "HalfBath weight: 958.1455078125\n",
      "BedroomAbvGr weight: -2902.66064453125\n",
      "KitchenAbvGr weight: -2922.5517578125\n",
      "TotRmsAbvGrd weight: 3245.8173828125\n",
      "Fireplaces weight: 3888.0185546875\n",
      "GarageYrBlt weight: -552.3795166015625\n",
      "GarageCars weight: 4234.49560546875\n",
      "GarageArea weight: 3041.69287109375\n",
      "WoodDeckSF weight: 2015.286376953125\n",
      "OpenPorchSF weight: 206.21441650390625\n",
      "EnclosedPorch weight: 184.0458526611328\n",
      "3SsnPorch weight: 919.5511474609375\n",
      "ScreenPorch weight: 2091.990234375\n",
      "PoolArea weight: 15100.302734375\n",
      "MiscVal weight: 709.544921875\n",
      "MoSold weight: -1184.1341552734375\n",
      "YrSold weight: -741.4049072265625\n",
      "MSZoning_C (all) weight: -20960.64453125\n",
      "MSZoning_FV weight: 11965.169921875\n",
      "MSZoning_RH weight: 2675.917724609375\n",
      "MSZoning_RL weight: 4891.6416015625\n",
      "MSZoning_RM weight: 1512.61865234375\n",
      "MSZoning_nan weight: 0.0\n",
      "Street_Grvl weight: -16048.873046875\n",
      "Street_Pave weight: 16048.076171875\n",
      "Street_nan weight: 0.0\n",
      "Alley_Grvl weight: 411.267333984375\n",
      "Alley_Pave weight: 436.193603515625\n",
      "Alley_nan weight: -849.201171875\n",
      "LotShape_IR1 weight: -2013.9766845703125\n",
      "LotShape_IR2 weight: 3036.1123046875\n",
      "LotShape_IR3 weight: -547.1279296875\n",
      "LotShape_Reg weight: -377.46435546875\n",
      "LotShape_nan weight: 0.0\n",
      "LandContour_Bnk weight: -2395.64892578125\n",
      "LandContour_HLS weight: 7142.63818359375\n",
      "LandContour_Low weight: -9799.103515625\n",
      "LandContour_Lvl weight: 5016.28662109375\n",
      "LandContour_nan weight: 0.0\n",
      "Utilities_AllPub weight: 19426.43359375\n",
      "Utilities_NoSeWa weight: -19426.38671875\n",
      "Utilities_nan weight: 0.0\n",
      "LotConfig_Corner weight: 3292.21728515625\n",
      "LotConfig_CulDSac weight: 12182.02734375\n",
      "LotConfig_FR2 weight: -4357.46533203125\n",
      "LotConfig_FR3 weight: -13071.673828125\n",
      "LotConfig_Inside weight: 1989.1748046875\n",
      "LotConfig_nan weight: 0.0\n",
      "LandSlope_Gtl weight: 8625.5751953125\n",
      "LandSlope_Mod weight: 16071.7529296875\n",
      "LandSlope_Sev weight: -24597.029296875\n",
      "LandSlope_nan weight: 0.0\n",
      "Neighborhood_Blmngtn weight: 2265.438232421875\n",
      "Neighborhood_Blueste weight: 7829.2451171875\n",
      "Neighborhood_BrDale weight: 1469.102294921875\n",
      "Neighborhood_BrkSide weight: -2797.087890625\n",
      "Neighborhood_ClearCr weight: -11422.39453125\n",
      "Neighborhood_CollgCr weight: -6720.76416015625\n",
      "Neighborhood_Crawfor weight: 15042.578125\n",
      "Neighborhood_Edwards weight: -18523.546875\n",
      "Neighborhood_Gilbert weight: -8444.21484375\n",
      "Neighborhood_IDOTRR weight: -9371.78515625\n",
      "Neighborhood_MeadowV weight: -4136.58349609375\n",
      "Neighborhood_Mitchel weight: -17819.63671875\n",
      "Neighborhood_NAmes weight: -14119.583984375\n",
      "Neighborhood_NPkVill weight: 13922.71875\n",
      "Neighborhood_NWAmes weight: -14572.8662109375\n",
      "Neighborhood_NoRidge weight: 30392.34765625\n",
      "Neighborhood_NridgHt weight: 22621.451171875\n",
      "Neighborhood_OldTown weight: -11569.240234375\n",
      "Neighborhood_SWISU weight: -5721.6318359375\n",
      "Neighborhood_Sawyer weight: -8338.083984375\n",
      "Neighborhood_SawyerW weight: -84.6357421875\n",
      "Neighborhood_Somerst weight: 1656.1153564453125\n",
      "Neighborhood_StoneBr weight: 42576.453125\n",
      "Neighborhood_Timber weight: -6550.5517578125\n",
      "Neighborhood_Veenker weight: 2517.010986328125\n",
      "Neighborhood_nan weight: 0.0\n",
      "Condition1_Artery weight: -5419.5869140625\n",
      "Condition1_Feedr weight: 682.0198364257812\n",
      "Condition1_Norm weight: 10385.1337890625\n",
      "Condition1_PosA weight: 3591.986328125\n",
      "Condition1_PosN weight: 7299.01806640625\n",
      "Condition1_RRAe weight: -19842.330078125\n",
      "Condition1_RRAn weight: 7464.88720703125\n",
      "Condition1_RRNe weight: -8991.9140625\n",
      "Condition1_RRNn weight: 4860.5263671875\n",
      "Condition1_nan weight: 0.0\n",
      "Condition2_Artery weight: 37597.1328125\n",
      "Condition2_Feedr weight: 33600.73828125\n",
      "Condition2_Norm weight: 29993.740234375\n",
      "Condition2_PosA weight: 69809.59375\n",
      "Condition2_PosN weight: -177761.28125\n",
      "Condition2_RRAe weight: -47247.1640625\n",
      "Condition2_RRAn weight: 18664.935546875\n",
      "Condition2_RRNn weight: 35320.96484375\n",
      "Condition2_nan weight: 0.0\n",
      "BldgType_1Fam weight: 8814.7578125\n",
      "BldgType_2fmCon weight: 6191.07470703125\n",
      "BldgType_Duplex weight: 1617.27880859375\n",
      "BldgType_Twnhs weight: -10318.7890625\n",
      "BldgType_TwnhsE weight: -6323.4833984375\n",
      "BldgType_nan weight: 0.0\n",
      "HouseStyle_1.5Fin weight: 667.0587158203125\n",
      "HouseStyle_1.5Unf weight: 12412.6845703125\n",
      "HouseStyle_1Story weight: 6892.16845703125\n",
      "HouseStyle_2.5Fin weight: -14713.0732421875\n",
      "HouseStyle_2.5Unf weight: -7546.55322265625\n",
      "HouseStyle_2Story weight: -5566.90283203125\n",
      "HouseStyle_SFoyer weight: 2435.09130859375\n",
      "HouseStyle_SLvl weight: 5263.44140625\n",
      "HouseStyle_nan weight: 0.0\n",
      "RoofStyle_Flat weight: -8253.724609375\n",
      "RoofStyle_Gable weight: -15196.72265625\n",
      "RoofStyle_Gambrel weight: -11874.01953125\n",
      "RoofStyle_Hip weight: -15127.3330078125\n",
      "RoofStyle_Mansard weight: -4051.607421875\n",
      "RoofStyle_Shed weight: 54465.0234375\n",
      "RoofStyle_nan weight: 0.0\n",
      "RoofMatl_ClyTile weight: -444723.625\n",
      "RoofMatl_CompShg weight: 48311.52734375\n",
      "RoofMatl_Membran weight: 102932.9140625\n",
      "RoofMatl_Metal weight: 75548.65625\n",
      "RoofMatl_Roll weight: 33347.4296875\n",
      "RoofMatl_Tar&Grv weight: 36717.37890625\n",
      "RoofMatl_WdShake weight: 41456.17578125\n",
      "RoofMatl_WdShngl weight: 106458.3203125\n",
      "RoofMatl_nan weight: 0.0\n",
      "Exterior1st_AsbShng weight: 9590.1396484375\n",
      "Exterior1st_AsphShn weight: -12119.7783203125\n",
      "Exterior1st_BrkComm weight: 3646.498046875\n",
      "Exterior1st_BrkFace weight: 16772.212890625\n",
      "Exterior1st_CBlock weight: -3897.671875\n",
      "Exterior1st_CemntBd weight: -75.2392578125\n",
      "Exterior1st_HdBoard weight: -3210.5703125\n",
      "Exterior1st_ImStucc weight: -12297.810546875\n",
      "Exterior1st_MetalSd weight: 3828.333984375\n",
      "Exterior1st_Plywood weight: -2716.292724609375\n",
      "Exterior1st_Stone weight: 7100.0185546875\n",
      "Exterior1st_Stucco weight: 1163.48876953125\n",
      "Exterior1st_VinylSd weight: -3468.422119140625\n",
      "Exterior1st_Wd Sdng weight: -3937.81005859375\n",
      "Exterior1st_WdShing weight: -289.9775390625\n",
      "Exterior1st_nan weight: 0.0\n",
      "Exterior2nd_AsbShng weight: -4756.3994140625\n",
      "Exterior2nd_AsphShn weight: 5378.40625\n",
      "Exterior2nd_Brk Cmn weight: 850.919921875\n",
      "Exterior2nd_BrkFace weight: 199.0244140625\n",
      "Exterior2nd_CBlock weight: -3896.80859375\n",
      "Exterior2nd_CmentBd weight: 5927.3935546875\n",
      "Exterior2nd_HdBoard weight: 3401.63134765625\n",
      "Exterior2nd_ImStucc weight: 13063.791015625\n",
      "Exterior2nd_MetalSd weight: 993.85498046875\n",
      "Exterior2nd_Other weight: -19794.48828125\n",
      "Exterior2nd_Plywood weight: 1428.3525390625\n",
      "Exterior2nd_Stone weight: -15165.724609375\n",
      "Exterior2nd_Stucco weight: -1869.7469482421875\n",
      "Exterior2nd_VinylSd weight: 7726.810546875\n",
      "Exterior2nd_Wd Sdng weight: 6648.564453125\n",
      "Exterior2nd_Wd Shng weight: -320.421875\n",
      "Exterior2nd_nan weight: 0.0\n",
      "MasVnrType_BrkCmn weight: -4762.19970703125\n",
      "MasVnrType_BrkFace weight: -135.20745849609375\n",
      "MasVnrType_None weight: 3251.68310546875\n",
      "MasVnrType_Stone weight: 4830.9033203125\n",
      "MasVnrType_nan weight: -3311.03564453125\n",
      "ExterQual_Ex weight: 11738.5732421875\n",
      "ExterQual_Fa weight: 4458.6865234375\n",
      "ExterQual_Gd weight: -8137.72802734375\n",
      "ExterQual_TA weight: -8126.32373046875\n",
      "ExterQual_nan weight: 0.0\n",
      "ExterCond_Ex weight: 3464.438232421875\n",
      "ExterCond_Fa weight: -962.6787109375\n",
      "ExterCond_Gd weight: -5341.51806640625\n",
      "ExterCond_Po weight: 5275.89453125\n",
      "ExterCond_TA weight: -2508.647216796875\n",
      "ExterCond_nan weight: 0.0\n",
      "Foundation_BrkTil weight: 2541.43017578125\n",
      "Foundation_CBlock weight: 5612.11669921875\n",
      "Foundation_PConc weight: 6440.25\n",
      "Foundation_Slab weight: -4791.38720703125\n",
      "Foundation_Stone weight: 11428.4609375\n",
      "Foundation_Wood weight: -21434.26953125\n",
      "Foundation_nan weight: 0.0\n",
      "BsmtQual_Ex weight: 10286.5537109375\n",
      "BsmtQual_Fa weight: -2210.326904296875\n",
      "BsmtQual_Gd weight: -8378.2333984375\n",
      "BsmtQual_TA weight: -4814.6328125\n",
      "BsmtQual_nan weight: 5135.80078125\n",
      "BsmtCond_Fa weight: -14496.462890625\n",
      "BsmtCond_Gd weight: -14364.142578125\n",
      "BsmtCond_Po weight: 35158.48828125\n",
      "BsmtCond_TA weight: -11318.970703125\n",
      "BsmtCond_nan weight: 5136.64501953125\n",
      "BsmtExposure_Av weight: 807.8323974609375\n",
      "BsmtExposure_Gd weight: 15336.853515625\n",
      "BsmtExposure_Mn weight: -2442.6201171875\n",
      "BsmtExposure_No weight: -4613.5751953125\n",
      "BsmtExposure_nan weight: -9003.8798828125\n",
      "BsmtFinType1_ALQ weight: -1953.719970703125\n",
      "BsmtFinType1_BLQ weight: 642.057373046875\n",
      "BsmtFinType1_GLQ weight: 3585.835205078125\n",
      "BsmtFinType1_LwQ weight: -5164.5439453125\n",
      "BsmtFinType1_Rec weight: -1750.8651123046875\n",
      "BsmtFinType1_Unf weight: -482.0766296386719\n",
      "BsmtFinType1_nan weight: 5134.34228515625\n",
      "BsmtFinType2_ALQ weight: 8104.19921875\n",
      "BsmtFinType2_BLQ weight: -2943.6630859375\n",
      "BsmtFinType2_GLQ weight: 7657.92431640625\n",
      "BsmtFinType2_LwQ weight: -4226.94189453125\n",
      "BsmtFinType2_Rec weight: -500.0098876953125\n",
      "BsmtFinType2_Unf weight: 1923.80810546875\n",
      "BsmtFinType2_nan weight: -10024.5966796875\n",
      "Heating_Floor weight: -3323.5234375\n",
      "Heating_GasA weight: 4091.39453125\n",
      "Heating_GasW weight: 3265.197265625\n",
      "Heating_Grav weight: -3146.51806640625\n",
      "Heating_OthW weight: -18223.796875\n",
      "Heating_Wall weight: 17317.9765625\n",
      "Heating_nan weight: 0.0\n",
      "HeatingQC_Ex weight: 1770.24267578125\n",
      "HeatingQC_Fa weight: 2163.990966796875\n",
      "HeatingQC_Gd weight: -2297.52294921875\n",
      "HeatingQC_Po weight: -386.9383544921875\n",
      "HeatingQC_TA weight: -1361.912109375\n",
      "HeatingQC_nan weight: 0.0\n",
      "CentralAir_N weight: 8.523406982421875\n",
      "CentralAir_Y weight: -6.0144195556640625\n",
      "CentralAir_nan weight: 0.0\n",
      "Electrical_FuseA weight: 3577.001953125\n",
      "Electrical_FuseF weight: 3911.4638671875\n",
      "Electrical_FuseP weight: -978.162109375\n",
      "Electrical_Mix weight: -18323.20703125\n",
      "Electrical_SBrkr weight: 1233.61572265625\n",
      "Electrical_nan weight: 10534.15234375\n",
      "KitchenQual_Ex weight: 17159.794921875\n",
      "KitchenQual_Fa weight: -3790.515869140625\n",
      "KitchenQual_Gd weight: -6974.61279296875\n",
      "KitchenQual_TA weight: -6215.81982421875\n",
      "KitchenQual_nan weight: 0.0\n",
      "Functional_Maj1 weight: 2112.598876953125\n",
      "Functional_Maj2 weight: -821.853515625\n",
      "Functional_Min1 weight: 7695.45263671875\n",
      "Functional_Min2 weight: 9504.2626953125\n",
      "Functional_Mod weight: -1279.6953125\n",
      "Functional_Sev weight: -36585.109375\n",
      "Functional_Typ weight: 19364.421875\n",
      "Functional_nan weight: 0.0\n",
      "FireplaceQu_Ex weight: -3721.318359375\n",
      "FireplaceQu_Fa weight: -5026.98583984375\n",
      "FireplaceQu_Gd weight: -1566.6787109375\n",
      "FireplaceQu_Po weight: 6755.7265625\n",
      "FireplaceQu_TA weight: -415.66748046875\n",
      "FireplaceQu_nan weight: 3900.511962890625\n",
      "GarageType_2Types weight: -18144.515625\n",
      "GarageType_Attchd weight: 808.767822265625\n",
      "GarageType_Basment weight: 5367.783203125\n",
      "GarageType_BuiltIn weight: 395.294677734375\n",
      "GarageType_CarPort weight: 5385.927734375\n",
      "GarageType_Detchd weight: 3309.509521484375\n",
      "GarageType_nan weight: 3016.02392578125\n",
      "GarageFinish_Fin weight: -16.22900390625\n",
      "GarageFinish_RFn weight: -2458.8115234375\n",
      "GarageFinish_Unf weight: -616.314453125\n",
      "GarageFinish_nan weight: 3022.83349609375\n",
      "GarageQual_Ex weight: 78985.0078125\n",
      "GarageQual_Fa weight: -20641.28125\n",
      "GarageQual_Gd weight: -12077.2578125\n",
      "GarageQual_Po weight: -34746.21875\n",
      "GarageQual_TA weight: -14528.865234375\n",
      "GarageQual_nan weight: 3000.003662109375\n",
      "GarageCond_Ex weight: -66881.515625\n",
      "GarageCond_Fa weight: 14498.83203125\n",
      "GarageCond_Gd weight: 15359.642578125\n",
      "GarageCond_Po weight: 17589.482421875\n",
      "GarageCond_TA weight: 16517.625\n",
      "GarageCond_nan weight: 3026.858642578125\n",
      "PavedDrive_N weight: 861.9560546875\n",
      "PavedDrive_P weight: -1923.5535888671875\n",
      "PavedDrive_Y weight: 1092.580322265625\n",
      "PavedDrive_nan weight: 0.0\n",
      "PoolQC_Ex weight: 35682.7265625\n",
      "PoolQC_Fa weight: -89110.734375\n",
      "PoolQC_Gd weight: -92793.4921875\n",
      "PoolQC_nan weight: 146169.71875\n",
      "Fence_GdPrv weight: -5365.2744140625\n",
      "Fence_GdWo weight: 1880.675537109375\n",
      "Fence_MnPrv weight: 3485.67138671875\n",
      "Fence_MnWw weight: -2888.194091796875\n",
      "Fence_nan weight: 2780.16552734375\n",
      "MiscFeature_Gar2 weight: -18679.40234375\n",
      "MiscFeature_Othr weight: 14831.158203125\n",
      "MiscFeature_Shed weight: 5552.7353515625\n",
      "MiscFeature_TenC weight: -6401.11328125\n",
      "MiscFeature_nan weight: 4712.80322265625\n",
      "SaleType_COD weight: -10540.3544921875\n",
      "SaleType_CWD weight: 5247.8759765625\n",
      "SaleType_Con weight: 14631.921875\n",
      "SaleType_ConLD weight: 6137.171875\n",
      "SaleType_ConLI weight: -5730.73193359375\n",
      "SaleType_ConLw weight: -9837.6650390625\n",
      "SaleType_New weight: 13270.224609375\n",
      "SaleType_Oth weight: -1911.595703125\n",
      "SaleType_WD weight: -11182.0234375\n",
      "SaleType_nan weight: 0.0\n",
      "SaleCondition_Abnorml weight: -3219.284423828125\n",
      "SaleCondition_AdjLand weight: 4855.72802734375\n",
      "SaleCondition_Alloca weight: 2347.3583984375\n",
      "SaleCondition_Family weight: -1904.817626953125\n",
      "SaleCondition_Normal weight: 4022.6279296875\n",
      "SaleCondition_Partial weight: -6108.53955078125\n",
      "SaleCondition_nan weight: 0.0\n",
      "b: -106031.546875\n"
     ]
    }
   ],
   "source": [
    "columns_list = all_features.columns.to_list()\r\n",
    "weights = runner.model.params['w'].tolist()\r\n",
    "b = runner.model.params['b'].item()\r\n",
    "\r\n",
    "for i in range(len(weights)):\r\n",
    "    print(columns_list[i],\"weight:\",weights[i])\r\n",
    "\r\n",
    "print(\"b:\",b)"
   ]
  },
  {
   "cell_type": "code",
   "execution_count": 30,
   "metadata": {
    "collapsed": false
   },
   "outputs": [],
   "source": [
    "runner.load_model(saved_dir)\r\n",
    "preds = runner.predict(test_features).detach().numpy()\r\n",
    "# 重新格式化以导出到kaggle\r\n",
    "test_data['SalePrice'] = pd.Series(preds.reshape([1, -1])[0])\r\n",
    "submission = pd.concat([test_data['Id'], test_data['SalePrice']], axis=1)\r\n",
    "submission.to_csv('submission.csv', index=False)"
   ]
  },
  {
   "cell_type": "markdown",
   "metadata": {
    "collapsed": false
   },
   "source": [
    "+ kaggle评测得分0.18711，评价指标为log-RMSE，训练时为与测试指标保持一致将作业中的损失也从MSE改为log-RMSE。\n",
    "\n",
    "![](https://ai-studio-static-online.cdn.bcebos.com/4fadf2e9b0b84ccfa7cd270d0a3597a3d57ead861321436cb78d365447625ded)\n",
    "\n"
   ]
  },
  {
   "cell_type": "markdown",
   "metadata": {
    "collapsed": false
   },
   "source": [
    "###  3.小明想用线性回归模型来建模房子各个属性与房价之间的关系，包括房子的楼层数、每层的长、宽、高、底面周长、底面面积、底面面积的2倍等。请分析这些房屋属性同时用来预测房价是否合理？<span style=\"color:red\">(附加题&简答题&加分题)</span>"
   ]
  },
  {
   "cell_type": "markdown",
   "metadata": {
    "collapsed": false
   },
   "source": [
    "我认为**不合理**。\n",
    "\n",
    "*底面面积的2倍*和*底面面积*是可以相互推断出的，存在直接的线性相关关系，这样并不是一个好的特征工程。在特征选择中我们往往希望去除掉冗余的特征，它们不能提供更多的分类信息，反而有可能造成分类器的过学习。\n"
   ]
  }
 ],
 "metadata": {
  "kernelspec": {
   "display_name": "Python 3",
   "language": "python",
   "name": "py35-paddle1.2.0"
  },
  "language_info": {
   "codemirror_mode": {
    "name": "ipython",
    "version": 3
   },
   "file_extension": ".py",
   "mimetype": "text/x-python",
   "name": "python",
   "nbconvert_exporter": "python",
   "pygments_lexer": "ipython3",
   "version": "3.7.4"
  }
 },
 "nbformat": 4,
 "nbformat_minor": 1
}
