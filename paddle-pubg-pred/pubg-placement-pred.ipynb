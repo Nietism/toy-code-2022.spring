{
 "cells": [
  {
   "cell_type": "markdown",
   "metadata": {},
   "source": [
    "## analysis and visualization of data"
   ]
  },
  {
   "cell_type": "code",
   "execution_count": 24,
   "metadata": {},
   "outputs": [
    {
     "name": "stdout",
     "output_type": "stream",
     "text": [
      "Populating the interactive namespace from numpy and matplotlib\n"
     ]
    }
   ],
   "source": [
    "import pandas as pd\n",
    "import numpy as np\n",
    "\n",
    "%pylab inline\n",
    "import seaborn as sns\n",
    "\n",
    "train_df = pd.read_csv('pubg_train.csv')\n",
    "test_df = pd.read_csv('pubg_test.csv')"
   ]
  },
  {
   "cell_type": "code",
   "execution_count": 25,
   "metadata": {},
   "outputs": [
    {
     "data": {
      "text/plain": [
       "((1500000, 16), (500000, 15))"
      ]
     },
     "execution_count": 25,
     "metadata": {},
     "output_type": "execute_result"
    }
   ],
   "source": [
    "train_df.shape, test_df.shape"
   ]
  },
  {
   "cell_type": "code",
   "execution_count": 26,
   "metadata": {},
   "outputs": [
    {
     "data": {
      "text/html": [
       "<div>\n",
       "<style scoped>\n",
       "    .dataframe tbody tr th:only-of-type {\n",
       "        vertical-align: middle;\n",
       "    }\n",
       "\n",
       "    .dataframe tbody tr th {\n",
       "        vertical-align: top;\n",
       "    }\n",
       "\n",
       "    .dataframe thead th {\n",
       "        text-align: right;\n",
       "    }\n",
       "</style>\n",
       "<table border=\"1\" class=\"dataframe\">\n",
       "  <thead>\n",
       "    <tr style=\"text-align: right;\">\n",
       "      <th></th>\n",
       "      <th>match_id</th>\n",
       "      <th>team_id</th>\n",
       "      <th>game_size</th>\n",
       "      <th>party_size</th>\n",
       "      <th>player_assists</th>\n",
       "      <th>player_dbno</th>\n",
       "      <th>player_dist_ride</th>\n",
       "      <th>player_dist_walk</th>\n",
       "      <th>player_dmg</th>\n",
       "      <th>player_kills</th>\n",
       "      <th>player_name</th>\n",
       "      <th>kill_distance_x_min</th>\n",
       "      <th>kill_distance_x_max</th>\n",
       "      <th>kill_distance_y_min</th>\n",
       "      <th>kill_distance_y_max</th>\n",
       "      <th>team_placement</th>\n",
       "    </tr>\n",
       "  </thead>\n",
       "  <tbody>\n",
       "    <tr>\n",
       "      <th>0</th>\n",
       "      <td>0</td>\n",
       "      <td>1</td>\n",
       "      <td>50</td>\n",
       "      <td>2</td>\n",
       "      <td>0</td>\n",
       "      <td>1</td>\n",
       "      <td>4984.54900</td>\n",
       "      <td>2054.031490</td>\n",
       "      <td>218</td>\n",
       "      <td>2</td>\n",
       "      <td>0</td>\n",
       "      <td>1689.9</td>\n",
       "      <td>3992.9</td>\n",
       "      <td>137.0</td>\n",
       "      <td>819.8</td>\n",
       "      <td>5</td>\n",
       "    </tr>\n",
       "    <tr>\n",
       "      <th>1</th>\n",
       "      <td>0</td>\n",
       "      <td>1</td>\n",
       "      <td>50</td>\n",
       "      <td>2</td>\n",
       "      <td>1</td>\n",
       "      <td>0</td>\n",
       "      <td>5960.46436</td>\n",
       "      <td>2268.221000</td>\n",
       "      <td>125</td>\n",
       "      <td>0</td>\n",
       "      <td>1</td>\n",
       "      <td>NaN</td>\n",
       "      <td>NaN</td>\n",
       "      <td>NaN</td>\n",
       "      <td>NaN</td>\n",
       "      <td>5</td>\n",
       "    </tr>\n",
       "    <tr>\n",
       "      <th>2</th>\n",
       "      <td>0</td>\n",
       "      <td>2</td>\n",
       "      <td>50</td>\n",
       "      <td>2</td>\n",
       "      <td>0</td>\n",
       "      <td>0</td>\n",
       "      <td>0.00000</td>\n",
       "      <td>0.000000</td>\n",
       "      <td>0</td>\n",
       "      <td>0</td>\n",
       "      <td>2</td>\n",
       "      <td>NaN</td>\n",
       "      <td>NaN</td>\n",
       "      <td>NaN</td>\n",
       "      <td>NaN</td>\n",
       "      <td>49</td>\n",
       "    </tr>\n",
       "    <tr>\n",
       "      <th>3</th>\n",
       "      <td>0</td>\n",
       "      <td>2</td>\n",
       "      <td>50</td>\n",
       "      <td>2</td>\n",
       "      <td>0</td>\n",
       "      <td>0</td>\n",
       "      <td>0.00000</td>\n",
       "      <td>5.211829</td>\n",
       "      <td>41</td>\n",
       "      <td>0</td>\n",
       "      <td>3</td>\n",
       "      <td>NaN</td>\n",
       "      <td>NaN</td>\n",
       "      <td>NaN</td>\n",
       "      <td>NaN</td>\n",
       "      <td>49</td>\n",
       "    </tr>\n",
       "    <tr>\n",
       "      <th>4</th>\n",
       "      <td>0</td>\n",
       "      <td>3</td>\n",
       "      <td>50</td>\n",
       "      <td>2</td>\n",
       "      <td>0</td>\n",
       "      <td>0</td>\n",
       "      <td>0.00000</td>\n",
       "      <td>341.730927</td>\n",
       "      <td>69</td>\n",
       "      <td>0</td>\n",
       "      <td>4</td>\n",
       "      <td>NaN</td>\n",
       "      <td>NaN</td>\n",
       "      <td>NaN</td>\n",
       "      <td>NaN</td>\n",
       "      <td>34</td>\n",
       "    </tr>\n",
       "  </tbody>\n",
       "</table>\n",
       "</div>"
      ],
      "text/plain": [
       "   match_id  team_id  game_size  party_size  player_assists  player_dbno  \\\n",
       "0         0        1         50           2               0            1   \n",
       "1         0        1         50           2               1            0   \n",
       "2         0        2         50           2               0            0   \n",
       "3         0        2         50           2               0            0   \n",
       "4         0        3         50           2               0            0   \n",
       "\n",
       "   player_dist_ride  player_dist_walk  player_dmg  player_kills  player_name  \\\n",
       "0        4984.54900       2054.031490         218             2            0   \n",
       "1        5960.46436       2268.221000         125             0            1   \n",
       "2           0.00000          0.000000           0             0            2   \n",
       "3           0.00000          5.211829          41             0            3   \n",
       "4           0.00000        341.730927          69             0            4   \n",
       "\n",
       "   kill_distance_x_min  kill_distance_x_max  kill_distance_y_min  \\\n",
       "0               1689.9               3992.9                137.0   \n",
       "1                  NaN                  NaN                  NaN   \n",
       "2                  NaN                  NaN                  NaN   \n",
       "3                  NaN                  NaN                  NaN   \n",
       "4                  NaN                  NaN                  NaN   \n",
       "\n",
       "   kill_distance_y_max  team_placement  \n",
       "0                819.8               5  \n",
       "1                  NaN               5  \n",
       "2                  NaN              49  \n",
       "3                  NaN              49  \n",
       "4                  NaN              34  "
      ]
     },
     "execution_count": 26,
     "metadata": {},
     "output_type": "execute_result"
    }
   ],
   "source": [
    "train_df.head()"
   ]
  },
  {
   "cell_type": "code",
   "execution_count": 27,
   "metadata": {},
   "outputs": [
    {
     "data": {
      "text/plain": [
       "<AxesSubplot:>"
      ]
     },
     "execution_count": 27,
     "metadata": {},
     "output_type": "execute_result"
    },
    {
     "data": {
      "image/png": "[encoded data removed]",
      "text/plain": [
       "<Figure size 432x288 with 2 Axes>"
      ]
     },
     "metadata": {
      "needs_background": "light"
     },
     "output_type": "display_data"
    }
   ],
   "source": [
    "sns.heatmap(train_df.corr())"
   ]
  },
  {
   "cell_type": "markdown",
   "metadata": {},
   "source": [
    "## auto!"
   ]
  },
  {
   "cell_type": "markdown",
   "metadata": {},
   "source": [
    "### training"
   ]
  },
  {
   "cell_type": "code",
   "execution_count": 28,
   "metadata": {},
   "outputs": [
    {
     "name": "stderr",
     "output_type": "stream",
     "text": [
      "Loaded data from: pubg_train.csv | Columns = 16 / 16 | Rows = 1500000 -> 1500000\n"
     ]
    },
    {
     "data": {
      "text/html": [
       "<div>\n",
       "<style scoped>\n",
       "    .dataframe tbody tr th:only-of-type {\n",
       "        vertical-align: middle;\n",
       "    }\n",
       "\n",
       "    .dataframe tbody tr th {\n",
       "        vertical-align: top;\n",
       "    }\n",
       "\n",
       "    .dataframe thead th {\n",
       "        text-align: right;\n",
       "    }\n",
       "</style>\n",
       "<table border=\"1\" class=\"dataframe\">\n",
       "  <thead>\n",
       "    <tr style=\"text-align: right;\">\n",
       "      <th></th>\n",
       "      <th>match_id</th>\n",
       "      <th>team_id</th>\n",
       "      <th>game_size</th>\n",
       "      <th>party_size</th>\n",
       "      <th>player_assists</th>\n",
       "      <th>player_dbno</th>\n",
       "      <th>player_dist_ride</th>\n",
       "      <th>player_dist_walk</th>\n",
       "      <th>player_dmg</th>\n",
       "      <th>player_kills</th>\n",
       "      <th>player_name</th>\n",
       "      <th>kill_distance_x_min</th>\n",
       "      <th>kill_distance_x_max</th>\n",
       "      <th>kill_distance_y_min</th>\n",
       "      <th>kill_distance_y_max</th>\n",
       "      <th>team_placement</th>\n",
       "    </tr>\n",
       "  </thead>\n",
       "  <tbody>\n",
       "    <tr>\n",
       "      <th>0</th>\n",
       "      <td>0</td>\n",
       "      <td>1</td>\n",
       "      <td>50</td>\n",
       "      <td>2</td>\n",
       "      <td>0</td>\n",
       "      <td>1</td>\n",
       "      <td>4984.54900</td>\n",
       "      <td>2054.031490</td>\n",
       "      <td>218</td>\n",
       "      <td>2</td>\n",
       "      <td>0</td>\n",
       "      <td>1689.9</td>\n",
       "      <td>3992.9</td>\n",
       "      <td>137.0</td>\n",
       "      <td>819.8</td>\n",
       "      <td>5</td>\n",
       "    </tr>\n",
       "    <tr>\n",
       "      <th>1</th>\n",
       "      <td>0</td>\n",
       "      <td>1</td>\n",
       "      <td>50</td>\n",
       "      <td>2</td>\n",
       "      <td>1</td>\n",
       "      <td>0</td>\n",
       "      <td>5960.46436</td>\n",
       "      <td>2268.221000</td>\n",
       "      <td>125</td>\n",
       "      <td>0</td>\n",
       "      <td>1</td>\n",
       "      <td>NaN</td>\n",
       "      <td>NaN</td>\n",
       "      <td>NaN</td>\n",
       "      <td>NaN</td>\n",
       "      <td>5</td>\n",
       "    </tr>\n",
       "    <tr>\n",
       "      <th>2</th>\n",
       "      <td>0</td>\n",
       "      <td>2</td>\n",
       "      <td>50</td>\n",
       "      <td>2</td>\n",
       "      <td>0</td>\n",
       "      <td>0</td>\n",
       "      <td>0.00000</td>\n",
       "      <td>0.000000</td>\n",
       "      <td>0</td>\n",
       "      <td>0</td>\n",
       "      <td>2</td>\n",
       "      <td>NaN</td>\n",
       "      <td>NaN</td>\n",
       "      <td>NaN</td>\n",
       "      <td>NaN</td>\n",
       "      <td>49</td>\n",
       "    </tr>\n",
       "    <tr>\n",
       "      <th>3</th>\n",
       "      <td>0</td>\n",
       "      <td>2</td>\n",
       "      <td>50</td>\n",
       "      <td>2</td>\n",
       "      <td>0</td>\n",
       "      <td>0</td>\n",
       "      <td>0.00000</td>\n",
       "      <td>5.211829</td>\n",
       "      <td>41</td>\n",
       "      <td>0</td>\n",
       "      <td>3</td>\n",
       "      <td>NaN</td>\n",
       "      <td>NaN</td>\n",
       "      <td>NaN</td>\n",
       "      <td>NaN</td>\n",
       "      <td>49</td>\n",
       "    </tr>\n",
       "    <tr>\n",
       "      <th>4</th>\n",
       "      <td>0</td>\n",
       "      <td>3</td>\n",
       "      <td>50</td>\n",
       "      <td>2</td>\n",
       "      <td>0</td>\n",
       "      <td>0</td>\n",
       "      <td>0.00000</td>\n",
       "      <td>341.730927</td>\n",
       "      <td>69</td>\n",
       "      <td>0</td>\n",
       "      <td>4</td>\n",
       "      <td>NaN</td>\n",
       "      <td>NaN</td>\n",
       "      <td>NaN</td>\n",
       "      <td>NaN</td>\n",
       "      <td>34</td>\n",
       "    </tr>\n",
       "    <tr>\n",
       "      <th>...</th>\n",
       "      <td>...</td>\n",
       "      <td>...</td>\n",
       "      <td>...</td>\n",
       "      <td>...</td>\n",
       "      <td>...</td>\n",
       "      <td>...</td>\n",
       "      <td>...</td>\n",
       "      <td>...</td>\n",
       "      <td>...</td>\n",
       "      <td>...</td>\n",
       "      <td>...</td>\n",
       "      <td>...</td>\n",
       "      <td>...</td>\n",
       "      <td>...</td>\n",
       "      <td>...</td>\n",
       "      <td>...</td>\n",
       "    </tr>\n",
       "    <tr>\n",
       "      <th>1499995</th>\n",
       "      <td>14999</td>\n",
       "      <td>4</td>\n",
       "      <td>28</td>\n",
       "      <td>4</td>\n",
       "      <td>0</td>\n",
       "      <td>1</td>\n",
       "      <td>0.00000</td>\n",
       "      <td>2236.734620</td>\n",
       "      <td>284</td>\n",
       "      <td>0</td>\n",
       "      <td>992602</td>\n",
       "      <td>NaN</td>\n",
       "      <td>NaN</td>\n",
       "      <td>NaN</td>\n",
       "      <td>NaN</td>\n",
       "      <td>10</td>\n",
       "    </tr>\n",
       "    <tr>\n",
       "      <th>1499996</th>\n",
       "      <td>14999</td>\n",
       "      <td>26</td>\n",
       "      <td>28</td>\n",
       "      <td>4</td>\n",
       "      <td>0</td>\n",
       "      <td>2</td>\n",
       "      <td>0.00000</td>\n",
       "      <td>700.453100</td>\n",
       "      <td>225</td>\n",
       "      <td>0</td>\n",
       "      <td>992603</td>\n",
       "      <td>NaN</td>\n",
       "      <td>NaN</td>\n",
       "      <td>NaN</td>\n",
       "      <td>NaN</td>\n",
       "      <td>20</td>\n",
       "    </tr>\n",
       "    <tr>\n",
       "      <th>1499997</th>\n",
       "      <td>14999</td>\n",
       "      <td>26</td>\n",
       "      <td>28</td>\n",
       "      <td>4</td>\n",
       "      <td>0</td>\n",
       "      <td>1</td>\n",
       "      <td>0.00000</td>\n",
       "      <td>861.909600</td>\n",
       "      <td>40</td>\n",
       "      <td>1</td>\n",
       "      <td>992604</td>\n",
       "      <td>259.3</td>\n",
       "      <td>259.3</td>\n",
       "      <td>76.7</td>\n",
       "      <td>76.7</td>\n",
       "      <td>20</td>\n",
       "    </tr>\n",
       "    <tr>\n",
       "      <th>1499998</th>\n",
       "      <td>14999</td>\n",
       "      <td>26</td>\n",
       "      <td>28</td>\n",
       "      <td>4</td>\n",
       "      <td>0</td>\n",
       "      <td>0</td>\n",
       "      <td>0.00000</td>\n",
       "      <td>844.545837</td>\n",
       "      <td>134</td>\n",
       "      <td>0</td>\n",
       "      <td>992605</td>\n",
       "      <td>NaN</td>\n",
       "      <td>NaN</td>\n",
       "      <td>NaN</td>\n",
       "      <td>NaN</td>\n",
       "      <td>20</td>\n",
       "    </tr>\n",
       "    <tr>\n",
       "      <th>1499999</th>\n",
       "      <td>14999</td>\n",
       "      <td>26</td>\n",
       "      <td>28</td>\n",
       "      <td>4</td>\n",
       "      <td>0</td>\n",
       "      <td>1</td>\n",
       "      <td>0.00000</td>\n",
       "      <td>725.483000</td>\n",
       "      <td>96</td>\n",
       "      <td>0</td>\n",
       "      <td>871051</td>\n",
       "      <td>NaN</td>\n",
       "      <td>NaN</td>\n",
       "      <td>NaN</td>\n",
       "      <td>NaN</td>\n",
       "      <td>20</td>\n",
       "    </tr>\n",
       "  </tbody>\n",
       "</table>\n",
       "<p>1500000 rows × 16 columns</p>\n",
       "</div>"
      ],
      "text/plain": [
       "         match_id  team_id  game_size  party_size  player_assists  \\\n",
       "0               0        1         50           2               0   \n",
       "1               0        1         50           2               1   \n",
       "2               0        2         50           2               0   \n",
       "3               0        2         50           2               0   \n",
       "4               0        3         50           2               0   \n",
       "...           ...      ...        ...         ...             ...   \n",
       "1499995     14999        4         28           4               0   \n",
       "1499996     14999       26         28           4               0   \n",
       "1499997     14999       26         28           4               0   \n",
       "1499998     14999       26         28           4               0   \n",
       "1499999     14999       26         28           4               0   \n",
       "\n",
       "         player_dbno  player_dist_ride  player_dist_walk  player_dmg  \\\n",
       "0                  1        4984.54900       2054.031490         218   \n",
       "1                  0        5960.46436       2268.221000         125   \n",
       "2                  0           0.00000          0.000000           0   \n",
       "3                  0           0.00000          5.211829          41   \n",
       "4                  0           0.00000        341.730927          69   \n",
       "...              ...               ...               ...         ...   \n",
       "1499995            1           0.00000       2236.734620         284   \n",
       "1499996            2           0.00000        700.453100         225   \n",
       "1499997            1           0.00000        861.909600          40   \n",
       "1499998            0           0.00000        844.545837         134   \n",
       "1499999            1           0.00000        725.483000          96   \n",
       "\n",
       "         player_kills  player_name  kill_distance_x_min  kill_distance_x_max  \\\n",
       "0                   2            0               1689.9               3992.9   \n",
       "1                   0            1                  NaN                  NaN   \n",
       "2                   0            2                  NaN                  NaN   \n",
       "3                   0            3                  NaN                  NaN   \n",
       "4                   0            4                  NaN                  NaN   \n",
       "...               ...          ...                  ...                  ...   \n",
       "1499995             0       992602                  NaN                  NaN   \n",
       "1499996             0       992603                  NaN                  NaN   \n",
       "1499997             1       992604                259.3                259.3   \n",
       "1499998             0       992605                  NaN                  NaN   \n",
       "1499999             0       871051                  NaN                  NaN   \n",
       "\n",
       "         kill_distance_y_min  kill_distance_y_max  team_placement  \n",
       "0                      137.0                819.8               5  \n",
       "1                        NaN                  NaN               5  \n",
       "2                        NaN                  NaN              49  \n",
       "3                        NaN                  NaN              49  \n",
       "4                        NaN                  NaN              34  \n",
       "...                      ...                  ...             ...  \n",
       "1499995                  NaN                  NaN              10  \n",
       "1499996                  NaN                  NaN              20  \n",
       "1499997                 76.7                 76.7              20  \n",
       "1499998                  NaN                  NaN              20  \n",
       "1499999                  NaN                  NaN              20  \n",
       "\n",
       "[1500000 rows x 16 columns]"
      ]
     },
     "execution_count": 28,
     "metadata": {},
     "output_type": "execute_result"
    }
   ],
   "source": [
    "from autogluon.tabular import TabularDataset, TabularPredictor\n",
    "\n",
    "train_data = TabularDataset('pubg_train.csv')\n",
    "train_data"
   ]
  },
  {
   "cell_type": "code",
   "execution_count": 29,
   "metadata": {},
   "outputs": [
    {
     "data": {
      "text/plain": [
       "0.5"
      ]
     },
     "execution_count": 29,
     "metadata": {},
     "output_type": "execute_result"
    }
   ],
   "source": [
    "from sklearn.metrics import mean_absolute_error\n",
    "\n",
    "y_pred = [0, 2, 1, 3]\n",
    "y_true = [0, 1, 2, 3]\n",
    "\n",
    "mean_absolute_error(y_true, y_pred)"
   ]
  },
  {
   "cell_type": "code",
   "execution_count": 30,
   "metadata": {},
   "outputs": [
    {
     "data": {
      "text/plain": [
       "-0.5"
      ]
     },
     "execution_count": 30,
     "metadata": {},
     "output_type": "execute_result"
    }
   ],
   "source": [
    "from sklearn.metrics import mean_absolute_error\n",
    "from autogluon.core.metrics import make_scorer\n",
    "\n",
    "ag_mean_absolute_error_scorer = make_scorer(name='mean_absolute_error',\n",
    "                                            score_func=mean_absolute_error,\n",
    "                                            optimum=0,\n",
    "                                            greater_is_better=False)\n",
    "\n",
    "ag_mean_absolute_error_scorer(y_true, y_pred)"
   ]
  },
  {
   "cell_type": "code",
   "execution_count": 31,
   "metadata": {},
   "outputs": [
    {
     "name": "stderr",
     "output_type": "stream",
     "text": [
      "No path specified. Models will be saved in: \"AutogluonModels/ag-20220511_035609/\"\n",
      "Presets specified: ['best_quality']\n",
      "Warning: Training may take a very long time because `time_limit` was not specified and `train_data` is large (1500000 samples, 156.0 MB).\n",
      "\tConsider setting `time_limit` to ensure training finishes within an expected duration or experiment with a small portion of `train_data` to identify an ideal `presets` and `hyperparameters` configuration.\n",
      "Beginning AutoGluon training ...\n",
      "AutoGluon will save models to \"AutogluonModels/ag-20220511_035609/\"\n",
      "AutoGluon Version:  0.3.1\n",
      "Train Data Rows:    1500000\n",
      "Train Data Columns: 12\n",
      "Preprocessing data ...\n",
      "Using Feature Generators to preprocess the data ...\n",
      "Fitting AutoMLPipelineFeatureGenerator...\n",
      "\tAvailable Memory:                    41914.08 MB\n",
      "\tTrain Data (Original)  Memory Usage: 144.0 MB (0.3% of available memory)\n",
      "\tInferring data type of each feature based on column values. Set feature_metadata_in to manually specify special dtypes of the features.\n",
      "\tStage 1 Generators:\n",
      "\t\tFitting AsTypeFeatureGenerator...\n",
      "\tStage 2 Generators:\n",
      "\t\tFitting FillNaFeatureGenerator...\n",
      "\tStage 3 Generators:\n",
      "\t\tFitting IdentityFeatureGenerator...\n",
      "\tStage 4 Generators:\n",
      "\t\tFitting DropUniqueFeatureGenerator...\n",
      "\tTypes of features in original data (raw dtype, special dtypes):\n",
      "\t\t('float', []) : 6 | ['player_dist_ride', 'player_dist_walk', 'kill_distance_x_min', 'kill_distance_x_max', 'kill_distance_y_min', ...]\n",
      "\t\t('int', [])   : 6 | ['game_size', 'party_size', 'player_assists', 'player_dbno', 'player_dmg', ...]\n",
      "\tTypes of features in processed data (raw dtype, special dtypes):\n",
      "\t\t('float', []) : 6 | ['player_dist_ride', 'player_dist_walk', 'kill_distance_x_min', 'kill_distance_x_max', 'kill_distance_y_min', ...]\n",
      "\t\t('int', [])   : 6 | ['game_size', 'party_size', 'player_assists', 'player_dbno', 'player_dmg', ...]\n",
      "\t2.1s = Fit runtime\n",
      "\t12 features in original data used to generate 12 features in processed data.\n",
      "\tTrain Data (Processed) Memory Usage: 144.0 MB (0.3% of available memory)\n",
      "Data preprocessing and feature engineering runtime = 2.5s ...\n",
      "AutoGluon will gauge predictive performance using evaluation metric: 'mean_absolute_error'\n",
      "\tTo change this, specify the eval_metric argument of fit()\n",
      "AutoGluon will fit 2 stack levels (L1 to L2) ...\n",
      "Fitting 11 L1 models ...\n",
      "Fitting model: KNeighborsUnif_BAG_L1 ...\n",
      "\t-6.0055\t = Validation score   (mean_absolute_error)\n",
      "\t1748.01s\t = Training   runtime\n",
      "\t142.9s\t = Validation runtime\n",
      "Fitting model: KNeighborsDist_BAG_L1 ...\n",
      "\t-6.0917\t = Validation score   (mean_absolute_error)\n",
      "\t1689.76s\t = Training   runtime\n",
      "\t136.44s\t = Validation runtime\n",
      "Fitting model: LightGBMXT_BAG_L1 ...\n",
      "/home/y212202031/.conda/envs/lium_torch/lib/python3.6/site-packages/lightgbm/engine.py:239: UserWarning: 'verbose_eval' argument is deprecated and will be removed in a future release of LightGBM. Pass 'log_evaluation()' callback via 'callbacks' argument instead.\n",
      "  _log_warning(\"'verbose_eval' argument is deprecated and will be removed in a future release of LightGBM. \"\n"
     ]
    },
    {
     "name": "stdout",
     "output_type": "stream",
     "text": [
      "[1000]\ttrain_set's l1: 4.73191\tvalid_set's l1: 4.73256\n",
      "[2000]\ttrain_set's l1: 4.71872\tvalid_set's l1: 4.72928\n",
      "[3000]\ttrain_set's l1: 4.70909\tvalid_set's l1: 4.72802\n",
      "[4000]\ttrain_set's l1: 4.70093\tvalid_set's l1: 4.72775\n"
     ]
    },
    {
     "name": "stderr",
     "output_type": "stream",
     "text": [
      "/home/y212202031/.conda/envs/lium_torch/lib/python3.6/site-packages/lightgbm/engine.py:239: UserWarning: 'verbose_eval' argument is deprecated and will be removed in a future release of LightGBM. Pass 'log_evaluation()' callback via 'callbacks' argument instead.\n",
      "  _log_warning(\"'verbose_eval' argument is deprecated and will be removed in a future release of LightGBM. \"\n"
     ]
    },
    {
     "name": "stdout",
     "output_type": "stream",
     "text": [
      "[1000]\ttrain_set's l1: 4.73043\tvalid_set's l1: 4.74188\n",
      "[2000]\ttrain_set's l1: 4.71718\tvalid_set's l1: 4.73904\n",
      "[3000]\ttrain_set's l1: 4.70747\tvalid_set's l1: 4.73869\n"
     ]
    },
    {
     "name": "stderr",
     "output_type": "stream",
     "text": [
      "/home/y212202031/.conda/envs/lium_torch/lib/python3.6/site-packages/lightgbm/engine.py:239: UserWarning: 'verbose_eval' argument is deprecated and will be removed in a future release of LightGBM. Pass 'log_evaluation()' callback via 'callbacks' argument instead.\n",
      "  _log_warning(\"'verbose_eval' argument is deprecated and will be removed in a future release of LightGBM. \"\n"
     ]
    },
    {
     "name": "stdout",
     "output_type": "stream",
     "text": [
      "[1000]\ttrain_set's l1: 4.729\tvalid_set's l1: 4.7545\n",
      "[2000]\ttrain_set's l1: 4.71617\tvalid_set's l1: 4.75069\n",
      "[3000]\ttrain_set's l1: 4.70658\tvalid_set's l1: 4.74948\n",
      "[4000]\ttrain_set's l1: 4.69828\tvalid_set's l1: 4.74905\n",
      "[5000]\ttrain_set's l1: 4.69099\tvalid_set's l1: 4.74891\n",
      "[6000]\ttrain_set's l1: 4.68412\tvalid_set's l1: 4.74901\n"
     ]
    },
    {
     "name": "stderr",
     "output_type": "stream",
     "text": [
      "/home/y212202031/.conda/envs/lium_torch/lib/python3.6/site-packages/lightgbm/engine.py:239: UserWarning: 'verbose_eval' argument is deprecated and will be removed in a future release of LightGBM. Pass 'log_evaluation()' callback via 'callbacks' argument instead.\n",
      "  _log_warning(\"'verbose_eval' argument is deprecated and will be removed in a future release of LightGBM. \"\n"
     ]
    },
    {
     "name": "stdout",
     "output_type": "stream",
     "text": [
      "[1000]\ttrain_set's l1: 4.7328\tvalid_set's l1: 4.73715\n",
      "[2000]\ttrain_set's l1: 4.7193\tvalid_set's l1: 4.73395\n",
      "[3000]\ttrain_set's l1: 4.70945\tvalid_set's l1: 4.73313\n"
     ]
    },
    {
     "name": "stderr",
     "output_type": "stream",
     "text": [
      "/home/y212202031/.conda/envs/lium_torch/lib/python3.6/site-packages/lightgbm/engine.py:239: UserWarning: 'verbose_eval' argument is deprecated and will be removed in a future release of LightGBM. Pass 'log_evaluation()' callback via 'callbacks' argument instead.\n",
      "  _log_warning(\"'verbose_eval' argument is deprecated and will be removed in a future release of LightGBM. \"\n"
     ]
    },
    {
     "name": "stdout",
     "output_type": "stream",
     "text": [
      "[1000]\ttrain_set's l1: 4.73216\tvalid_set's l1: 4.74153\n",
      "[2000]\ttrain_set's l1: 4.71867\tvalid_set's l1: 4.73825\n",
      "[3000]\ttrain_set's l1: 4.70881\tvalid_set's l1: 4.73703\n",
      "[4000]\ttrain_set's l1: 4.70032\tvalid_set's l1: 4.73664\n"
     ]
    },
    {
     "name": "stderr",
     "output_type": "stream",
     "text": [
      "/home/y212202031/.conda/envs/lium_torch/lib/python3.6/site-packages/lightgbm/engine.py:239: UserWarning: 'verbose_eval' argument is deprecated and will be removed in a future release of LightGBM. Pass 'log_evaluation()' callback via 'callbacks' argument instead.\n",
      "  _log_warning(\"'verbose_eval' argument is deprecated and will be removed in a future release of LightGBM. \"\n"
     ]
    },
    {
     "name": "stdout",
     "output_type": "stream",
     "text": [
      "[1000]\ttrain_set's l1: 4.73245\tvalid_set's l1: 4.72504\n",
      "[2000]\ttrain_set's l1: 4.71948\tvalid_set's l1: 4.72169\n",
      "[3000]\ttrain_set's l1: 4.70981\tvalid_set's l1: 4.7206\n",
      "[4000]\ttrain_set's l1: 4.70155\tvalid_set's l1: 4.72013\n"
     ]
    },
    {
     "name": "stderr",
     "output_type": "stream",
     "text": [
      "/home/y212202031/.conda/envs/lium_torch/lib/python3.6/site-packages/lightgbm/engine.py:239: UserWarning: 'verbose_eval' argument is deprecated and will be removed in a future release of LightGBM. Pass 'log_evaluation()' callback via 'callbacks' argument instead.\n",
      "  _log_warning(\"'verbose_eval' argument is deprecated and will be removed in a future release of LightGBM. \"\n"
     ]
    },
    {
     "name": "stdout",
     "output_type": "stream",
     "text": [
      "[1000]\ttrain_set's l1: 4.73129\tvalid_set's l1: 4.74441\n",
      "[2000]\ttrain_set's l1: 4.71842\tvalid_set's l1: 4.74085\n",
      "[3000]\ttrain_set's l1: 4.70864\tvalid_set's l1: 4.73971\n",
      "[4000]\ttrain_set's l1: 4.70034\tvalid_set's l1: 4.73912\n",
      "[5000]\ttrain_set's l1: 4.69296\tvalid_set's l1: 4.73924\n"
     ]
    },
    {
     "name": "stderr",
     "output_type": "stream",
     "text": [
      "/home/y212202031/.conda/envs/lium_torch/lib/python3.6/site-packages/lightgbm/engine.py:239: UserWarning: 'verbose_eval' argument is deprecated and will be removed in a future release of LightGBM. Pass 'log_evaluation()' callback via 'callbacks' argument instead.\n",
      "  _log_warning(\"'verbose_eval' argument is deprecated and will be removed in a future release of LightGBM. \"\n"
     ]
    },
    {
     "name": "stdout",
     "output_type": "stream",
     "text": [
      "[1000]\ttrain_set's l1: 4.73008\tvalid_set's l1: 4.74074\n",
      "[2000]\ttrain_set's l1: 4.7176\tvalid_set's l1: 4.73725\n",
      "[3000]\ttrain_set's l1: 4.70841\tvalid_set's l1: 4.7361\n",
      "[4000]\ttrain_set's l1: 4.70034\tvalid_set's l1: 4.7359\n"
     ]
    },
    {
     "name": "stderr",
     "output_type": "stream",
     "text": [
      "/home/y212202031/.conda/envs/lium_torch/lib/python3.6/site-packages/lightgbm/engine.py:239: UserWarning: 'verbose_eval' argument is deprecated and will be removed in a future release of LightGBM. Pass 'log_evaluation()' callback via 'callbacks' argument instead.\n",
      "  _log_warning(\"'verbose_eval' argument is deprecated and will be removed in a future release of LightGBM. \"\n"
     ]
    },
    {
     "name": "stdout",
     "output_type": "stream",
     "text": [
      "[1000]\ttrain_set's l1: 4.73014\tvalid_set's l1: 4.73959\n",
      "[2000]\ttrain_set's l1: 4.71734\tvalid_set's l1: 4.73542\n",
      "[3000]\ttrain_set's l1: 4.70778\tvalid_set's l1: 4.73424\n",
      "[4000]\ttrain_set's l1: 4.69936\tvalid_set's l1: 4.73387\n"
     ]
    },
    {
     "name": "stderr",
     "output_type": "stream",
     "text": [
      "/home/y212202031/.conda/envs/lium_torch/lib/python3.6/site-packages/lightgbm/engine.py:239: UserWarning: 'verbose_eval' argument is deprecated and will be removed in a future release of LightGBM. Pass 'log_evaluation()' callback via 'callbacks' argument instead.\n",
      "  _log_warning(\"'verbose_eval' argument is deprecated and will be removed in a future release of LightGBM. \"\n"
     ]
    },
    {
     "name": "stdout",
     "output_type": "stream",
     "text": [
      "[1000]\ttrain_set's l1: 4.7285\tvalid_set's l1: 4.76108\n",
      "[2000]\ttrain_set's l1: 4.71553\tvalid_set's l1: 4.75807\n",
      "[3000]\ttrain_set's l1: 4.70596\tvalid_set's l1: 4.75724\n",
      "[4000]\ttrain_set's l1: 4.69763\tvalid_set's l1: 4.75721\n"
     ]
    },
    {
     "name": "stderr",
     "output_type": "stream",
     "text": [
      "\t-4.737\t = Validation score   (mean_absolute_error)\n",
      "\t731.45s\t = Training   runtime\n",
      "\t45.01s\t = Validation runtime\n",
      "Fitting model: LightGBM_BAG_L1 ...\n",
      "/home/y212202031/.conda/envs/lium_torch/lib/python3.6/site-packages/lightgbm/engine.py:239: UserWarning: 'verbose_eval' argument is deprecated and will be removed in a future release of LightGBM. Pass 'log_evaluation()' callback via 'callbacks' argument instead.\n",
      "  _log_warning(\"'verbose_eval' argument is deprecated and will be removed in a future release of LightGBM. \"\n"
     ]
    },
    {
     "name": "stdout",
     "output_type": "stream",
     "text": [
      "[1000]\ttrain_set's l1: 4.70453\tvalid_set's l1: 4.72624\n",
      "[2000]\ttrain_set's l1: 4.67918\tvalid_set's l1: 4.72528\n"
     ]
    },
    {
     "name": "stderr",
     "output_type": "stream",
     "text": [
      "/home/y212202031/.conda/envs/lium_torch/lib/python3.6/site-packages/lightgbm/engine.py:239: UserWarning: 'verbose_eval' argument is deprecated and will be removed in a future release of LightGBM. Pass 'log_evaluation()' callback via 'callbacks' argument instead.\n",
      "  _log_warning(\"'verbose_eval' argument is deprecated and will be removed in a future release of LightGBM. \"\n"
     ]
    },
    {
     "name": "stdout",
     "output_type": "stream",
     "text": [
      "[1000]\ttrain_set's l1: 4.70307\tvalid_set's l1: 4.73717\n"
     ]
    },
    {
     "name": "stderr",
     "output_type": "stream",
     "text": [
      "/home/y212202031/.conda/envs/lium_torch/lib/python3.6/site-packages/lightgbm/engine.py:239: UserWarning: 'verbose_eval' argument is deprecated and will be removed in a future release of LightGBM. Pass 'log_evaluation()' callback via 'callbacks' argument instead.\n",
      "  _log_warning(\"'verbose_eval' argument is deprecated and will be removed in a future release of LightGBM. \"\n"
     ]
    },
    {
     "name": "stdout",
     "output_type": "stream",
     "text": [
      "[1000]\ttrain_set's l1: 4.70159\tvalid_set's l1: 4.74671\n"
     ]
    },
    {
     "name": "stderr",
     "output_type": "stream",
     "text": [
      "/home/y212202031/.conda/envs/lium_torch/lib/python3.6/site-packages/lightgbm/engine.py:239: UserWarning: 'verbose_eval' argument is deprecated and will be removed in a future release of LightGBM. Pass 'log_evaluation()' callback via 'callbacks' argument instead.\n",
      "  _log_warning(\"'verbose_eval' argument is deprecated and will be removed in a future release of LightGBM. \"\n"
     ]
    },
    {
     "name": "stdout",
     "output_type": "stream",
     "text": [
      "[1000]\ttrain_set's l1: 4.70458\tvalid_set's l1: 4.7298\n"
     ]
    },
    {
     "name": "stderr",
     "output_type": "stream",
     "text": [
      "/home/y212202031/.conda/envs/lium_torch/lib/python3.6/site-packages/lightgbm/engine.py:239: UserWarning: 'verbose_eval' argument is deprecated and will be removed in a future release of LightGBM. Pass 'log_evaluation()' callback via 'callbacks' argument instead.\n",
      "  _log_warning(\"'verbose_eval' argument is deprecated and will be removed in a future release of LightGBM. \"\n"
     ]
    },
    {
     "name": "stdout",
     "output_type": "stream",
     "text": [
      "[1000]\ttrain_set's l1: 4.70432\tvalid_set's l1: 4.73357\n",
      "[2000]\ttrain_set's l1: 4.67876\tvalid_set's l1: 4.73284\n"
     ]
    },
    {
     "name": "stderr",
     "output_type": "stream",
     "text": [
      "/home/y212202031/.conda/envs/lium_torch/lib/python3.6/site-packages/lightgbm/engine.py:239: UserWarning: 'verbose_eval' argument is deprecated and will be removed in a future release of LightGBM. Pass 'log_evaluation()' callback via 'callbacks' argument instead.\n",
      "  _log_warning(\"'verbose_eval' argument is deprecated and will be removed in a future release of LightGBM. \"\n"
     ]
    },
    {
     "name": "stdout",
     "output_type": "stream",
     "text": [
      "[1000]\ttrain_set's l1: 4.70557\tvalid_set's l1: 4.71828\n"
     ]
    },
    {
     "name": "stderr",
     "output_type": "stream",
     "text": [
      "/home/y212202031/.conda/envs/lium_torch/lib/python3.6/site-packages/lightgbm/engine.py:239: UserWarning: 'verbose_eval' argument is deprecated and will be removed in a future release of LightGBM. Pass 'log_evaluation()' callback via 'callbacks' argument instead.\n",
      "  _log_warning(\"'verbose_eval' argument is deprecated and will be removed in a future release of LightGBM. \"\n"
     ]
    },
    {
     "name": "stdout",
     "output_type": "stream",
     "text": [
      "[1000]\ttrain_set's l1: 4.70392\tvalid_set's l1: 4.73626\n"
     ]
    },
    {
     "name": "stderr",
     "output_type": "stream",
     "text": [
      "/home/y212202031/.conda/envs/lium_torch/lib/python3.6/site-packages/lightgbm/engine.py:239: UserWarning: 'verbose_eval' argument is deprecated and will be removed in a future release of LightGBM. Pass 'log_evaluation()' callback via 'callbacks' argument instead.\n",
      "  _log_warning(\"'verbose_eval' argument is deprecated and will be removed in a future release of LightGBM. \"\n"
     ]
    },
    {
     "name": "stdout",
     "output_type": "stream",
     "text": [
      "[1000]\ttrain_set's l1: 4.70347\tvalid_set's l1: 4.73636\n"
     ]
    },
    {
     "name": "stderr",
     "output_type": "stream",
     "text": [
      "/home/y212202031/.conda/envs/lium_torch/lib/python3.6/site-packages/lightgbm/engine.py:239: UserWarning: 'verbose_eval' argument is deprecated and will be removed in a future release of LightGBM. Pass 'log_evaluation()' callback via 'callbacks' argument instead.\n",
      "  _log_warning(\"'verbose_eval' argument is deprecated and will be removed in a future release of LightGBM. \"\n"
     ]
    },
    {
     "name": "stdout",
     "output_type": "stream",
     "text": [
      "[1000]\ttrain_set's l1: 4.70319\tvalid_set's l1: 4.73482\n",
      "[2000]\ttrain_set's l1: 4.67746\tvalid_set's l1: 4.73442\n"
     ]
    },
    {
     "name": "stderr",
     "output_type": "stream",
     "text": [
      "/home/y212202031/.conda/envs/lium_torch/lib/python3.6/site-packages/lightgbm/engine.py:239: UserWarning: 'verbose_eval' argument is deprecated and will be removed in a future release of LightGBM. Pass 'log_evaluation()' callback via 'callbacks' argument instead.\n",
      "  _log_warning(\"'verbose_eval' argument is deprecated and will be removed in a future release of LightGBM. \"\n"
     ]
    },
    {
     "name": "stdout",
     "output_type": "stream",
     "text": [
      "[1000]\ttrain_set's l1: 4.70155\tvalid_set's l1: 4.75492\n"
     ]
    },
    {
     "name": "stderr",
     "output_type": "stream",
     "text": [
      "\t-4.7349\t = Validation score   (mean_absolute_error)\n",
      "\t307.65s\t = Training   runtime\n",
      "\t13.37s\t = Validation runtime\n",
      "Fitting model: RandomForestMSE_BAG_L1 ...\n",
      "\tWarning: Reducing model 'n_estimators' from 300 -> 66 due to low memory. Expected memory usage reduced from 67.93% -> 15.0% of available memory...\n",
      "\t-5.1855\t = Validation score   (mean_absolute_error)\n",
      "\t96.65s\t = Training   runtime\n",
      "\t22.87s\t = Validation runtime\n",
      "Fitting model: CatBoost_BAG_L1 ...\n",
      "\t-4.7348\t = Validation score   (mean_absolute_error)\n",
      "\t363.93s\t = Training   runtime\n",
      "\t0.43s\t = Validation runtime\n",
      "Fitting model: ExtraTreesMSE_BAG_L1 ...\n",
      "\tWarning: Reducing model 'n_estimators' from 300 -> 60 due to low memory. Expected memory usage reduced from 74.56% -> 15.0% of available memory...\n",
      "\t-5.1848\t = Validation score   (mean_absolute_error)\n",
      "\t30.2s\t = Training   runtime\n",
      "\t20.7s\t = Validation runtime\n",
      "Fitting model: NeuralNetFastAI_BAG_L1 ...\n",
      "No improvement since epoch 1: early stopping\n",
      "No improvement since epoch 0: early stopping\n",
      "No improvement since epoch 0: early stopping\n",
      "No improvement since epoch 6: early stopping\n",
      "No improvement since epoch 0: early stopping\n",
      "\t-4.8823\t = Validation score   (mean_absolute_error)\n",
      "\t20862.82s\t = Training   runtime\n",
      "\t21.12s\t = Validation runtime\n",
      "Fitting model: XGBoost_BAG_L1 ...\n",
      "\t-4.7378\t = Validation score   (mean_absolute_error)\n",
      "\t186.73s\t = Training   runtime\n",
      "\t3.34s\t = Validation runtime\n",
      "Fitting model: NeuralNetMXNet_BAG_L1 ...\n",
      "\tWarning: Exception caused NeuralNetMXNet_BAG_L1 to fail during training (ImportError)... Skipping this model.\n",
      "\t\tUnable to import dependency mxnet. A quick tip is to install via `pip install mxnet --upgrade`, or `pip install mxnet_cu101 --upgrade`\n",
      "Fitting model: LightGBMLarge_BAG_L1 ...\n",
      "/home/y212202031/.conda/envs/lium_torch/lib/python3.6/site-packages/lightgbm/engine.py:239: UserWarning: 'verbose_eval' argument is deprecated and will be removed in a future release of LightGBM. Pass 'log_evaluation()' callback via 'callbacks' argument instead.\n",
      "  _log_warning(\"'verbose_eval' argument is deprecated and will be removed in a future release of LightGBM. \"\n",
      "/home/y212202031/.conda/envs/lium_torch/lib/python3.6/site-packages/lightgbm/engine.py:239: UserWarning: 'verbose_eval' argument is deprecated and will be removed in a future release of LightGBM. Pass 'log_evaluation()' callback via 'callbacks' argument instead.\n",
      "  _log_warning(\"'verbose_eval' argument is deprecated and will be removed in a future release of LightGBM. \"\n",
      "/home/y212202031/.conda/envs/lium_torch/lib/python3.6/site-packages/lightgbm/engine.py:239: UserWarning: 'verbose_eval' argument is deprecated and will be removed in a future release of LightGBM. Pass 'log_evaluation()' callback via 'callbacks' argument instead.\n",
      "  _log_warning(\"'verbose_eval' argument is deprecated and will be removed in a future release of LightGBM. \"\n",
      "/home/y212202031/.conda/envs/lium_torch/lib/python3.6/site-packages/lightgbm/engine.py:239: UserWarning: 'verbose_eval' argument is deprecated and will be removed in a future release of LightGBM. Pass 'log_evaluation()' callback via 'callbacks' argument instead.\n",
      "  _log_warning(\"'verbose_eval' argument is deprecated and will be removed in a future release of LightGBM. \"\n",
      "/home/y212202031/.conda/envs/lium_torch/lib/python3.6/site-packages/lightgbm/engine.py:239: UserWarning: 'verbose_eval' argument is deprecated and will be removed in a future release of LightGBM. Pass 'log_evaluation()' callback via 'callbacks' argument instead.\n",
      "  _log_warning(\"'verbose_eval' argument is deprecated and will be removed in a future release of LightGBM. \"\n",
      "/home/y212202031/.conda/envs/lium_torch/lib/python3.6/site-packages/lightgbm/engine.py:239: UserWarning: 'verbose_eval' argument is deprecated and will be removed in a future release of LightGBM. Pass 'log_evaluation()' callback via 'callbacks' argument instead.\n",
      "  _log_warning(\"'verbose_eval' argument is deprecated and will be removed in a future release of LightGBM. \"\n",
      "/home/y212202031/.conda/envs/lium_torch/lib/python3.6/site-packages/lightgbm/engine.py:239: UserWarning: 'verbose_eval' argument is deprecated and will be removed in a future release of LightGBM. Pass 'log_evaluation()' callback via 'callbacks' argument instead.\n",
      "  _log_warning(\"'verbose_eval' argument is deprecated and will be removed in a future release of LightGBM. \"\n",
      "/home/y212202031/.conda/envs/lium_torch/lib/python3.6/site-packages/lightgbm/engine.py:239: UserWarning: 'verbose_eval' argument is deprecated and will be removed in a future release of LightGBM. Pass 'log_evaluation()' callback via 'callbacks' argument instead.\n",
      "  _log_warning(\"'verbose_eval' argument is deprecated and will be removed in a future release of LightGBM. \"\n",
      "/home/y212202031/.conda/envs/lium_torch/lib/python3.6/site-packages/lightgbm/engine.py:239: UserWarning: 'verbose_eval' argument is deprecated and will be removed in a future release of LightGBM. Pass 'log_evaluation()' callback via 'callbacks' argument instead.\n",
      "  _log_warning(\"'verbose_eval' argument is deprecated and will be removed in a future release of LightGBM. \"\n"
     ]
    },
    {
     "name": "stdout",
     "output_type": "stream",
     "text": [
      "[1000]\ttrain_set's l1: 4.65601\tvalid_set's l1: 4.7344\n"
     ]
    },
    {
     "name": "stderr",
     "output_type": "stream",
     "text": [
      "/home/y212202031/.conda/envs/lium_torch/lib/python3.6/site-packages/lightgbm/engine.py:239: UserWarning: 'verbose_eval' argument is deprecated and will be removed in a future release of LightGBM. Pass 'log_evaluation()' callback via 'callbacks' argument instead.\n",
      "  _log_warning(\"'verbose_eval' argument is deprecated and will be removed in a future release of LightGBM. \"\n",
      "\t-4.7348\t = Validation score   (mean_absolute_error)\n",
      "\t301.38s\t = Training   runtime\n",
      "\t10.88s\t = Validation runtime\n",
      "Fitting model: WeightedEnsemble_L2 ...\n",
      "\t-4.7304\t = Validation score   (mean_absolute_error)\n",
      "\t17.42s\t = Training   runtime\n",
      "\t0.01s\t = Validation runtime\n",
      "Fitting 9 L2 models ...\n",
      "Fitting model: LightGBMXT_BAG_L2 ...\n",
      "/home/y212202031/.conda/envs/lium_torch/lib/python3.6/site-packages/lightgbm/engine.py:239: UserWarning: 'verbose_eval' argument is deprecated and will be removed in a future release of LightGBM. Pass 'log_evaluation()' callback via 'callbacks' argument instead.\n",
      "  _log_warning(\"'verbose_eval' argument is deprecated and will be removed in a future release of LightGBM. \"\n"
     ]
    },
    {
     "name": "stdout",
     "output_type": "stream",
     "text": [
      "[1000]\ttrain_set's l1: 4.71845\tvalid_set's l1: 4.75374\n"
     ]
    },
    {
     "name": "stderr",
     "output_type": "stream",
     "text": [
      "/home/y212202031/.conda/envs/lium_torch/lib/python3.6/site-packages/lightgbm/engine.py:239: UserWarning: 'verbose_eval' argument is deprecated and will be removed in a future release of LightGBM. Pass 'log_evaluation()' callback via 'callbacks' argument instead.\n",
      "  _log_warning(\"'verbose_eval' argument is deprecated and will be removed in a future release of LightGBM. \"\n"
     ]
    },
    {
     "name": "stdout",
     "output_type": "stream",
     "text": [
      "[1000]\ttrain_set's l1: 4.72058\tvalid_set's l1: 4.72921\n"
     ]
    },
    {
     "name": "stderr",
     "output_type": "stream",
     "text": [
      "/home/y212202031/.conda/envs/lium_torch/lib/python3.6/site-packages/lightgbm/engine.py:239: UserWarning: 'verbose_eval' argument is deprecated and will be removed in a future release of LightGBM. Pass 'log_evaluation()' callback via 'callbacks' argument instead.\n",
      "  _log_warning(\"'verbose_eval' argument is deprecated and will be removed in a future release of LightGBM. \"\n"
     ]
    },
    {
     "name": "stdout",
     "output_type": "stream",
     "text": [
      "[1000]\ttrain_set's l1: 4.71843\tvalid_set's l1: 4.74057\n"
     ]
    },
    {
     "name": "stderr",
     "output_type": "stream",
     "text": [
      "/home/y212202031/.conda/envs/lium_torch/lib/python3.6/site-packages/lightgbm/engine.py:239: UserWarning: 'verbose_eval' argument is deprecated and will be removed in a future release of LightGBM. Pass 'log_evaluation()' callback via 'callbacks' argument instead.\n",
      "  _log_warning(\"'verbose_eval' argument is deprecated and will be removed in a future release of LightGBM. \"\n"
     ]
    },
    {
     "name": "stdout",
     "output_type": "stream",
     "text": [
      "[1000]\ttrain_set's l1: 4.72194\tvalid_set's l1: 4.71454\n"
     ]
    },
    {
     "name": "stderr",
     "output_type": "stream",
     "text": [
      "/home/y212202031/.conda/envs/lium_torch/lib/python3.6/site-packages/lightgbm/engine.py:239: UserWarning: 'verbose_eval' argument is deprecated and will be removed in a future release of LightGBM. Pass 'log_evaluation()' callback via 'callbacks' argument instead.\n",
      "  _log_warning(\"'verbose_eval' argument is deprecated and will be removed in a future release of LightGBM. \"\n"
     ]
    },
    {
     "name": "stdout",
     "output_type": "stream",
     "text": [
      "[1000]\ttrain_set's l1: 4.72084\tvalid_set's l1: 4.72311\n",
      "[2000]\ttrain_set's l1: 4.70732\tvalid_set's l1: 4.72253\n"
     ]
    },
    {
     "name": "stderr",
     "output_type": "stream",
     "text": [
      "/home/y212202031/.conda/envs/lium_torch/lib/python3.6/site-packages/lightgbm/engine.py:239: UserWarning: 'verbose_eval' argument is deprecated and will be removed in a future release of LightGBM. Pass 'log_evaluation()' callback via 'callbacks' argument instead.\n",
      "  _log_warning(\"'verbose_eval' argument is deprecated and will be removed in a future release of LightGBM. \"\n"
     ]
    },
    {
     "name": "stdout",
     "output_type": "stream",
     "text": [
      "[1000]\ttrain_set's l1: 4.72034\tvalid_set's l1: 4.73012\n"
     ]
    },
    {
     "name": "stderr",
     "output_type": "stream",
     "text": [
      "/home/y212202031/.conda/envs/lium_torch/lib/python3.6/site-packages/lightgbm/engine.py:239: UserWarning: 'verbose_eval' argument is deprecated and will be removed in a future release of LightGBM. Pass 'log_evaluation()' callback via 'callbacks' argument instead.\n",
      "  _log_warning(\"'verbose_eval' argument is deprecated and will be removed in a future release of LightGBM. \"\n"
     ]
    },
    {
     "name": "stdout",
     "output_type": "stream",
     "text": [
      "[1000]\ttrain_set's l1: 4.72003\tvalid_set's l1: 4.72943\n",
      "[2000]\ttrain_set's l1: 4.70741\tvalid_set's l1: 4.72922\n"
     ]
    },
    {
     "name": "stderr",
     "output_type": "stream",
     "text": [
      "/home/y212202031/.conda/envs/lium_torch/lib/python3.6/site-packages/lightgbm/engine.py:239: UserWarning: 'verbose_eval' argument is deprecated and will be removed in a future release of LightGBM. Pass 'log_evaluation()' callback via 'callbacks' argument instead.\n",
      "  _log_warning(\"'verbose_eval' argument is deprecated and will be removed in a future release of LightGBM. \"\n"
     ]
    },
    {
     "name": "stdout",
     "output_type": "stream",
     "text": [
      "[1000]\ttrain_set's l1: 4.71896\tvalid_set's l1: 4.73988\n"
     ]
    },
    {
     "name": "stderr",
     "output_type": "stream",
     "text": [
      "/home/y212202031/.conda/envs/lium_torch/lib/python3.6/site-packages/lightgbm/engine.py:239: UserWarning: 'verbose_eval' argument is deprecated and will be removed in a future release of LightGBM. Pass 'log_evaluation()' callback via 'callbacks' argument instead.\n",
      "  _log_warning(\"'verbose_eval' argument is deprecated and will be removed in a future release of LightGBM. \"\n"
     ]
    },
    {
     "name": "stdout",
     "output_type": "stream",
     "text": [
      "[1000]\ttrain_set's l1: 4.71875\tvalid_set's l1: 4.74842\n",
      "[2000]\ttrain_set's l1: 4.70577\tvalid_set's l1: 4.74801\n"
     ]
    },
    {
     "name": "stderr",
     "output_type": "stream",
     "text": [
      "/home/y212202031/.conda/envs/lium_torch/lib/python3.6/site-packages/lightgbm/engine.py:239: UserWarning: 'verbose_eval' argument is deprecated and will be removed in a future release of LightGBM. Pass 'log_evaluation()' callback via 'callbacks' argument instead.\n",
      "  _log_warning(\"'verbose_eval' argument is deprecated and will be removed in a future release of LightGBM. \"\n"
     ]
    },
    {
     "name": "stdout",
     "output_type": "stream",
     "text": [
      "[1000]\ttrain_set's l1: 4.71961\tvalid_set's l1: 4.73642\n"
     ]
    },
    {
     "name": "stderr",
     "output_type": "stream",
     "text": [
      "\t-4.7341\t = Validation score   (mean_absolute_error)\n",
      "\t413.08s\t = Training   runtime\n",
      "\t18.43s\t = Validation runtime\n",
      "Fitting model: LightGBM_BAG_L2 ...\n",
      "/home/y212202031/.conda/envs/lium_torch/lib/python3.6/site-packages/lightgbm/engine.py:239: UserWarning: 'verbose_eval' argument is deprecated and will be removed in a future release of LightGBM. Pass 'log_evaluation()' callback via 'callbacks' argument instead.\n",
      "  _log_warning(\"'verbose_eval' argument is deprecated and will be removed in a future release of LightGBM. \"\n",
      "/home/y212202031/.conda/envs/lium_torch/lib/python3.6/site-packages/lightgbm/engine.py:239: UserWarning: 'verbose_eval' argument is deprecated and will be removed in a future release of LightGBM. Pass 'log_evaluation()' callback via 'callbacks' argument instead.\n",
      "  _log_warning(\"'verbose_eval' argument is deprecated and will be removed in a future release of LightGBM. \"\n",
      "/home/y212202031/.conda/envs/lium_torch/lib/python3.6/site-packages/lightgbm/engine.py:239: UserWarning: 'verbose_eval' argument is deprecated and will be removed in a future release of LightGBM. Pass 'log_evaluation()' callback via 'callbacks' argument instead.\n",
      "  _log_warning(\"'verbose_eval' argument is deprecated and will be removed in a future release of LightGBM. \"\n",
      "/home/y212202031/.conda/envs/lium_torch/lib/python3.6/site-packages/lightgbm/engine.py:239: UserWarning: 'verbose_eval' argument is deprecated and will be removed in a future release of LightGBM. Pass 'log_evaluation()' callback via 'callbacks' argument instead.\n",
      "  _log_warning(\"'verbose_eval' argument is deprecated and will be removed in a future release of LightGBM. \"\n",
      "/home/y212202031/.conda/envs/lium_torch/lib/python3.6/site-packages/lightgbm/engine.py:239: UserWarning: 'verbose_eval' argument is deprecated and will be removed in a future release of LightGBM. Pass 'log_evaluation()' callback via 'callbacks' argument instead.\n",
      "  _log_warning(\"'verbose_eval' argument is deprecated and will be removed in a future release of LightGBM. \"\n",
      "/home/y212202031/.conda/envs/lium_torch/lib/python3.6/site-packages/lightgbm/engine.py:239: UserWarning: 'verbose_eval' argument is deprecated and will be removed in a future release of LightGBM. Pass 'log_evaluation()' callback via 'callbacks' argument instead.\n",
      "  _log_warning(\"'verbose_eval' argument is deprecated and will be removed in a future release of LightGBM. \"\n",
      "/home/y212202031/.conda/envs/lium_torch/lib/python3.6/site-packages/lightgbm/engine.py:239: UserWarning: 'verbose_eval' argument is deprecated and will be removed in a future release of LightGBM. Pass 'log_evaluation()' callback via 'callbacks' argument instead.\n",
      "  _log_warning(\"'verbose_eval' argument is deprecated and will be removed in a future release of LightGBM. \"\n",
      "/home/y212202031/.conda/envs/lium_torch/lib/python3.6/site-packages/lightgbm/engine.py:239: UserWarning: 'verbose_eval' argument is deprecated and will be removed in a future release of LightGBM. Pass 'log_evaluation()' callback via 'callbacks' argument instead.\n",
      "  _log_warning(\"'verbose_eval' argument is deprecated and will be removed in a future release of LightGBM. \"\n",
      "/home/y212202031/.conda/envs/lium_torch/lib/python3.6/site-packages/lightgbm/engine.py:239: UserWarning: 'verbose_eval' argument is deprecated and will be removed in a future release of LightGBM. Pass 'log_evaluation()' callback via 'callbacks' argument instead.\n",
      "  _log_warning(\"'verbose_eval' argument is deprecated and will be removed in a future release of LightGBM. \"\n",
      "/home/y212202031/.conda/envs/lium_torch/lib/python3.6/site-packages/lightgbm/engine.py:239: UserWarning: 'verbose_eval' argument is deprecated and will be removed in a future release of LightGBM. Pass 'log_evaluation()' callback via 'callbacks' argument instead.\n",
      "  _log_warning(\"'verbose_eval' argument is deprecated and will be removed in a future release of LightGBM. \"\n",
      "\t-4.731\t = Validation score   (mean_absolute_error)\n",
      "\t121.08s\t = Training   runtime\n",
      "\t3.3s\t = Validation runtime\n",
      "Fitting model: RandomForestMSE_BAG_L2 ...\n",
      "\tWarning: Reducing model 'n_estimators' from 300 -> 70 due to low memory. Expected memory usage reduced from 64.21% -> 15.0% of available memory...\n",
      "\t-4.9225\t = Validation score   (mean_absolute_error)\n",
      "\t383.37s\t = Training   runtime\n",
      "\t29.17s\t = Validation runtime\n",
      "Fitting model: CatBoost_BAG_L2 ...\n",
      "\t-4.7332\t = Validation score   (mean_absolute_error)\n",
      "\t186.1s\t = Training   runtime\n",
      "\t0.4s\t = Validation runtime\n",
      "Fitting model: ExtraTreesMSE_BAG_L2 ...\n",
      "\tWarning: Reducing model 'n_estimators' from 300 -> 62 due to low memory. Expected memory usage reduced from 72.29% -> 15.0% of available memory...\n",
      "\t-4.9432\t = Validation score   (mean_absolute_error)\n",
      "\t72.44s\t = Training   runtime\n",
      "\t24.28s\t = Validation runtime\n",
      "Fitting model: NeuralNetFastAI_BAG_L2 ...\n",
      "No improvement since epoch 4: early stopping\n",
      "No improvement since epoch 0: early stopping\n",
      "No improvement since epoch 3: early stopping\n",
      "No improvement since epoch 4: early stopping\n",
      "No improvement since epoch 1: early stopping\n",
      "No improvement since epoch 6: early stopping\n",
      "\t-4.7095\t = Validation score   (mean_absolute_error)\n",
      "\t18730.9s\t = Training   runtime\n",
      "\t17.34s\t = Validation runtime\n",
      "Fitting model: XGBoost_BAG_L2 ...\n",
      "\t-4.731\t = Validation score   (mean_absolute_error)\n",
      "\t85.54s\t = Training   runtime\n",
      "\t2.3s\t = Validation runtime\n",
      "Fitting model: NeuralNetMXNet_BAG_L2 ...\n",
      "\tWarning: Exception caused NeuralNetMXNet_BAG_L2 to fail during training (ImportError)... Skipping this model.\n",
      "\t\tUnable to import dependency mxnet. A quick tip is to install via `pip install mxnet --upgrade`, or `pip install mxnet_cu101 --upgrade`\n",
      "Fitting model: LightGBMLarge_BAG_L2 ...\n",
      "/home/y212202031/.conda/envs/lium_torch/lib/python3.6/site-packages/lightgbm/engine.py:239: UserWarning: 'verbose_eval' argument is deprecated and will be removed in a future release of LightGBM. Pass 'log_evaluation()' callback via 'callbacks' argument instead.\n",
      "  _log_warning(\"'verbose_eval' argument is deprecated and will be removed in a future release of LightGBM. \"\n",
      "/home/y212202031/.conda/envs/lium_torch/lib/python3.6/site-packages/lightgbm/engine.py:239: UserWarning: 'verbose_eval' argument is deprecated and will be removed in a future release of LightGBM. Pass 'log_evaluation()' callback via 'callbacks' argument instead.\n",
      "  _log_warning(\"'verbose_eval' argument is deprecated and will be removed in a future release of LightGBM. \"\n",
      "/home/y212202031/.conda/envs/lium_torch/lib/python3.6/site-packages/lightgbm/engine.py:239: UserWarning: 'verbose_eval' argument is deprecated and will be removed in a future release of LightGBM. Pass 'log_evaluation()' callback via 'callbacks' argument instead.\n",
      "  _log_warning(\"'verbose_eval' argument is deprecated and will be removed in a future release of LightGBM. \"\n",
      "/home/y212202031/.conda/envs/lium_torch/lib/python3.6/site-packages/lightgbm/engine.py:239: UserWarning: 'verbose_eval' argument is deprecated and will be removed in a future release of LightGBM. Pass 'log_evaluation()' callback via 'callbacks' argument instead.\n",
      "  _log_warning(\"'verbose_eval' argument is deprecated and will be removed in a future release of LightGBM. \"\n",
      "/home/y212202031/.conda/envs/lium_torch/lib/python3.6/site-packages/lightgbm/engine.py:239: UserWarning: 'verbose_eval' argument is deprecated and will be removed in a future release of LightGBM. Pass 'log_evaluation()' callback via 'callbacks' argument instead.\n",
      "  _log_warning(\"'verbose_eval' argument is deprecated and will be removed in a future release of LightGBM. \"\n",
      "/home/y212202031/.conda/envs/lium_torch/lib/python3.6/site-packages/lightgbm/engine.py:239: UserWarning: 'verbose_eval' argument is deprecated and will be removed in a future release of LightGBM. Pass 'log_evaluation()' callback via 'callbacks' argument instead.\n",
      "  _log_warning(\"'verbose_eval' argument is deprecated and will be removed in a future release of LightGBM. \"\n",
      "/home/y212202031/.conda/envs/lium_torch/lib/python3.6/site-packages/lightgbm/engine.py:239: UserWarning: 'verbose_eval' argument is deprecated and will be removed in a future release of LightGBM. Pass 'log_evaluation()' callback via 'callbacks' argument instead.\n",
      "  _log_warning(\"'verbose_eval' argument is deprecated and will be removed in a future release of LightGBM. \"\n",
      "/home/y212202031/.conda/envs/lium_torch/lib/python3.6/site-packages/lightgbm/engine.py:239: UserWarning: 'verbose_eval' argument is deprecated and will be removed in a future release of LightGBM. Pass 'log_evaluation()' callback via 'callbacks' argument instead.\n",
      "  _log_warning(\"'verbose_eval' argument is deprecated and will be removed in a future release of LightGBM. \"\n",
      "/home/y212202031/.conda/envs/lium_torch/lib/python3.6/site-packages/lightgbm/engine.py:239: UserWarning: 'verbose_eval' argument is deprecated and will be removed in a future release of LightGBM. Pass 'log_evaluation()' callback via 'callbacks' argument instead.\n",
      "  _log_warning(\"'verbose_eval' argument is deprecated and will be removed in a future release of LightGBM. \"\n",
      "/home/y212202031/.conda/envs/lium_torch/lib/python3.6/site-packages/lightgbm/engine.py:239: UserWarning: 'verbose_eval' argument is deprecated and will be removed in a future release of LightGBM. Pass 'log_evaluation()' callback via 'callbacks' argument instead.\n",
      "  _log_warning(\"'verbose_eval' argument is deprecated and will be removed in a future release of LightGBM. \"\n",
      "\t-4.7316\t = Validation score   (mean_absolute_error)\n",
      "\t216.56s\t = Training   runtime\n",
      "\t5.85s\t = Validation runtime\n",
      "Fitting model: WeightedEnsemble_L3 ...\n",
      "\t-4.7077\t = Validation score   (mean_absolute_error)\n",
      "\t15.64s\t = Training   runtime\n",
      "\t0.01s\t = Validation runtime\n",
      "AutoGluon training complete, total runtime = 47206.61s ...\n",
      "TabularPredictor saved. To load, use: predictor = TabularPredictor.load(\"AutogluonModels/ag-20220511_035609/\")\n"
     ]
    }
   ],
   "source": [
    "label = 'team_placement'\n",
    "predictor = TabularPredictor(label=label, problem_type='regression', eval_metric=ag_mean_absolute_error_scorer).fit(\n",
    "    train_data.drop(columns=['match_id', 'team_id', 'player_name']),\n",
    "    # num_bag_folds=5,\n",
    "    # num_bag_sets=1,\n",
    "    # num_stack_levels=1,\n",
    "    auto_stack=True,\n",
    "    presets='best_quality',\n",
    "    # ag_args_fit={'num_gpus': 2}\n",
    ")"
   ]
  },
  {
   "cell_type": "code",
   "execution_count": 32,
   "metadata": {},
   "outputs": [
    {
     "name": "stdout",
     "output_type": "stream",
     "text": [
      "                     model  score_val  pred_time_val      fit_time  pred_time_val_marginal  fit_time_marginal  stack_level  can_infer  fit_order\n",
      "0      WeightedEnsemble_L3  -4.707665     460.986603  45780.307445                0.013547          15.639315            3       True         20\n",
      "1   NeuralNetFastAI_BAG_L2  -4.709468     434.397682  45049.491914               17.344459       18730.901650            2       True         17\n",
      "2      WeightedEnsemble_L2  -4.730412     352.376257   5346.331840                0.013417          17.416987            2       True         11\n",
      "3          LightGBM_BAG_L2  -4.730960     420.349594  26439.675067                3.296371         121.084803            2       True         13\n",
      "4           XGBoost_BAG_L2  -4.731043     419.357098  26404.125583                2.303875          85.535319            2       True         18\n",
      "5     LightGBMLarge_BAG_L2  -4.731583     422.899698  26535.150748                5.846475         216.560484            2       True         19\n",
      "6          CatBoost_BAG_L2  -4.733223     417.453699  26504.693354                0.400476         186.103091            2       True         15\n",
      "7        LightGBMXT_BAG_L2  -4.734127     435.478247  26731.670677               18.425025         413.080413            2       True         12\n",
      "8     LightGBMLarge_BAG_L1  -4.734752      10.879455    301.380927               10.879455         301.380927            1       True         10\n",
      "9          CatBoost_BAG_L1  -4.734848       0.432436    363.927224                0.432436         363.927224            1       True          6\n",
      "10         LightGBM_BAG_L1  -4.734883      13.373330    307.653727               13.373330         307.653727            1       True          4\n",
      "11       LightGBMXT_BAG_L1  -4.737001      45.005889    731.454841               45.005889         731.454841            1       True          3\n",
      "12          XGBoost_BAG_L1  -4.737812       3.340010    186.727932                3.340010         186.727932            1       True          9\n",
      "13  NeuralNetFastAI_BAG_L1  -4.882292      21.118480  20862.822885               21.118480       20862.822885            1       True          8\n",
      "14  RandomForestMSE_BAG_L2  -4.922504     446.228041  26701.960250               29.174818         383.369986            2       True         14\n",
      "15    ExtraTreesMSE_BAG_L2  -4.943154     441.336378  26391.030519               24.283156          72.440256            2       True         16\n",
      "16    ExtraTreesMSE_BAG_L1  -5.184787      20.698742     30.197984               20.698742          30.197984            1       True          7\n",
      "17  RandomForestMSE_BAG_L1  -5.185486      22.873161     96.654541               22.873161          96.654541            1       True          5\n",
      "18   KNeighborsUnif_BAG_L1  -6.005520     142.896618   1748.013922              142.896618        1748.013922            1       True          1\n",
      "19   KNeighborsDist_BAG_L1  -6.091744     136.435101   1689.756280              136.435101        1689.756280            1       True          2\n"
     ]
    },
    {
     "data": {
      "text/html": [
       "<div>\n",
       "<style scoped>\n",
       "    .dataframe tbody tr th:only-of-type {\n",
       "        vertical-align: middle;\n",
       "    }\n",
       "\n",
       "    .dataframe tbody tr th {\n",
       "        vertical-align: top;\n",
       "    }\n",
       "\n",
       "    .dataframe thead th {\n",
       "        text-align: right;\n",
       "    }\n",
       "</style>\n",
       "<table border=\"1\" class=\"dataframe\">\n",
       "  <thead>\n",
       "    <tr style=\"text-align: right;\">\n",
       "      <th></th>\n",
       "      <th>model</th>\n",
       "      <th>score_val</th>\n",
       "      <th>pred_time_val</th>\n",
       "      <th>fit_time</th>\n",
       "      <th>pred_time_val_marginal</th>\n",
       "      <th>fit_time_marginal</th>\n",
       "      <th>stack_level</th>\n",
       "      <th>can_infer</th>\n",
       "      <th>fit_order</th>\n",
       "    </tr>\n",
       "  </thead>\n",
       "  <tbody>\n",
       "    <tr>\n",
       "      <th>0</th>\n",
       "      <td>WeightedEnsemble_L3</td>\n",
       "      <td>-4.707665</td>\n",
       "      <td>460.986603</td>\n",
       "      <td>45780.307445</td>\n",
       "      <td>0.013547</td>\n",
       "      <td>15.639315</td>\n",
       "      <td>3</td>\n",
       "      <td>True</td>\n",
       "      <td>20</td>\n",
       "    </tr>\n",
       "    <tr>\n",
       "      <th>1</th>\n",
       "      <td>NeuralNetFastAI_BAG_L2</td>\n",
       "      <td>-4.709468</td>\n",
       "      <td>434.397682</td>\n",
       "      <td>45049.491914</td>\n",
       "      <td>17.344459</td>\n",
       "      <td>18730.901650</td>\n",
       "      <td>2</td>\n",
       "      <td>True</td>\n",
       "      <td>17</td>\n",
       "    </tr>\n",
       "    <tr>\n",
       "      <th>2</th>\n",
       "      <td>WeightedEnsemble_L2</td>\n",
       "      <td>-4.730412</td>\n",
       "      <td>352.376257</td>\n",
       "      <td>5346.331840</td>\n",
       "      <td>0.013417</td>\n",
       "      <td>17.416987</td>\n",
       "      <td>2</td>\n",
       "      <td>True</td>\n",
       "      <td>11</td>\n",
       "    </tr>\n",
       "    <tr>\n",
       "      <th>3</th>\n",
       "      <td>LightGBM_BAG_L2</td>\n",
       "      <td>-4.730960</td>\n",
       "      <td>420.349594</td>\n",
       "      <td>26439.675067</td>\n",
       "      <td>3.296371</td>\n",
       "      <td>121.084803</td>\n",
       "      <td>2</td>\n",
       "      <td>True</td>\n",
       "      <td>13</td>\n",
       "    </tr>\n",
       "    <tr>\n",
       "      <th>4</th>\n",
       "      <td>XGBoost_BAG_L2</td>\n",
       "      <td>-4.731043</td>\n",
       "      <td>419.357098</td>\n",
       "      <td>26404.125583</td>\n",
       "      <td>2.303875</td>\n",
       "      <td>85.535319</td>\n",
       "      <td>2</td>\n",
       "      <td>True</td>\n",
       "      <td>18</td>\n",
       "    </tr>\n",
       "    <tr>\n",
       "      <th>5</th>\n",
       "      <td>LightGBMLarge_BAG_L2</td>\n",
       "      <td>-4.731583</td>\n",
       "      <td>422.899698</td>\n",
       "      <td>26535.150748</td>\n",
       "      <td>5.846475</td>\n",
       "      <td>216.560484</td>\n",
       "      <td>2</td>\n",
       "      <td>True</td>\n",
       "      <td>19</td>\n",
       "    </tr>\n",
       "    <tr>\n",
       "      <th>6</th>\n",
       "      <td>CatBoost_BAG_L2</td>\n",
       "      <td>-4.733223</td>\n",
       "      <td>417.453699</td>\n",
       "      <td>26504.693354</td>\n",
       "      <td>0.400476</td>\n",
       "      <td>186.103091</td>\n",
       "      <td>2</td>\n",
       "      <td>True</td>\n",
       "      <td>15</td>\n",
       "    </tr>\n",
       "    <tr>\n",
       "      <th>7</th>\n",
       "      <td>LightGBMXT_BAG_L2</td>\n",
       "      <td>-4.734127</td>\n",
       "      <td>435.478247</td>\n",
       "      <td>26731.670677</td>\n",
       "      <td>18.425025</td>\n",
       "      <td>413.080413</td>\n",
       "      <td>2</td>\n",
       "      <td>True</td>\n",
       "      <td>12</td>\n",
       "    </tr>\n",
       "    <tr>\n",
       "      <th>8</th>\n",
       "      <td>LightGBMLarge_BAG_L1</td>\n",
       "      <td>-4.734752</td>\n",
       "      <td>10.879455</td>\n",
       "      <td>301.380927</td>\n",
       "      <td>10.879455</td>\n",
       "      <td>301.380927</td>\n",
       "      <td>1</td>\n",
       "      <td>True</td>\n",
       "      <td>10</td>\n",
       "    </tr>\n",
       "    <tr>\n",
       "      <th>9</th>\n",
       "      <td>CatBoost_BAG_L1</td>\n",
       "      <td>-4.734848</td>\n",
       "      <td>0.432436</td>\n",
       "      <td>363.927224</td>\n",
       "      <td>0.432436</td>\n",
       "      <td>363.927224</td>\n",
       "      <td>1</td>\n",
       "      <td>True</td>\n",
       "      <td>6</td>\n",
       "    </tr>\n",
       "    <tr>\n",
       "      <th>10</th>\n",
       "      <td>LightGBM_BAG_L1</td>\n",
       "      <td>-4.734883</td>\n",
       "      <td>13.373330</td>\n",
       "      <td>307.653727</td>\n",
       "      <td>13.373330</td>\n",
       "      <td>307.653727</td>\n",
       "      <td>1</td>\n",
       "      <td>True</td>\n",
       "      <td>4</td>\n",
       "    </tr>\n",
       "    <tr>\n",
       "      <th>11</th>\n",
       "      <td>LightGBMXT_BAG_L1</td>\n",
       "      <td>-4.737001</td>\n",
       "      <td>45.005889</td>\n",
       "      <td>731.454841</td>\n",
       "      <td>45.005889</td>\n",
       "      <td>731.454841</td>\n",
       "      <td>1</td>\n",
       "      <td>True</td>\n",
       "      <td>3</td>\n",
       "    </tr>\n",
       "    <tr>\n",
       "      <th>12</th>\n",
       "      <td>XGBoost_BAG_L1</td>\n",
       "      <td>-4.737812</td>\n",
       "      <td>3.340010</td>\n",
       "      <td>186.727932</td>\n",
       "      <td>3.340010</td>\n",
       "      <td>186.727932</td>\n",
       "      <td>1</td>\n",
       "      <td>True</td>\n",
       "      <td>9</td>\n",
       "    </tr>\n",
       "    <tr>\n",
       "      <th>13</th>\n",
       "      <td>NeuralNetFastAI_BAG_L1</td>\n",
       "      <td>-4.882292</td>\n",
       "      <td>21.118480</td>\n",
       "      <td>20862.822885</td>\n",
       "      <td>21.118480</td>\n",
       "      <td>20862.822885</td>\n",
       "      <td>1</td>\n",
       "      <td>True</td>\n",
       "      <td>8</td>\n",
       "    </tr>\n",
       "    <tr>\n",
       "      <th>14</th>\n",
       "      <td>RandomForestMSE_BAG_L2</td>\n",
       "      <td>-4.922504</td>\n",
       "      <td>446.228041</td>\n",
       "      <td>26701.960250</td>\n",
       "      <td>29.174818</td>\n",
       "      <td>383.369986</td>\n",
       "      <td>2</td>\n",
       "      <td>True</td>\n",
       "      <td>14</td>\n",
       "    </tr>\n",
       "    <tr>\n",
       "      <th>15</th>\n",
       "      <td>ExtraTreesMSE_BAG_L2</td>\n",
       "      <td>-4.943154</td>\n",
       "      <td>441.336378</td>\n",
       "      <td>26391.030519</td>\n",
       "      <td>24.283156</td>\n",
       "      <td>72.440256</td>\n",
       "      <td>2</td>\n",
       "      <td>True</td>\n",
       "      <td>16</td>\n",
       "    </tr>\n",
       "    <tr>\n",
       "      <th>16</th>\n",
       "      <td>ExtraTreesMSE_BAG_L1</td>\n",
       "      <td>-5.184787</td>\n",
       "      <td>20.698742</td>\n",
       "      <td>30.197984</td>\n",
       "      <td>20.698742</td>\n",
       "      <td>30.197984</td>\n",
       "      <td>1</td>\n",
       "      <td>True</td>\n",
       "      <td>7</td>\n",
       "    </tr>\n",
       "    <tr>\n",
       "      <th>17</th>\n",
       "      <td>RandomForestMSE_BAG_L1</td>\n",
       "      <td>-5.185486</td>\n",
       "      <td>22.873161</td>\n",
       "      <td>96.654541</td>\n",
       "      <td>22.873161</td>\n",
       "      <td>96.654541</td>\n",
       "      <td>1</td>\n",
       "      <td>True</td>\n",
       "      <td>5</td>\n",
       "    </tr>\n",
       "    <tr>\n",
       "      <th>18</th>\n",
       "      <td>KNeighborsUnif_BAG_L1</td>\n",
       "      <td>-6.005520</td>\n",
       "      <td>142.896618</td>\n",
       "      <td>1748.013922</td>\n",
       "      <td>142.896618</td>\n",
       "      <td>1748.013922</td>\n",
       "      <td>1</td>\n",
       "      <td>True</td>\n",
       "      <td>1</td>\n",
       "    </tr>\n",
       "    <tr>\n",
       "      <th>19</th>\n",
       "      <td>KNeighborsDist_BAG_L1</td>\n",
       "      <td>-6.091744</td>\n",
       "      <td>136.435101</td>\n",
       "      <td>1689.756280</td>\n",
       "      <td>136.435101</td>\n",
       "      <td>1689.756280</td>\n",
       "      <td>1</td>\n",
       "      <td>True</td>\n",
       "      <td>2</td>\n",
       "    </tr>\n",
       "  </tbody>\n",
       "</table>\n",
       "</div>"
      ],
      "text/plain": [
       "                     model  score_val  pred_time_val      fit_time  \\\n",
       "0      WeightedEnsemble_L3  -4.707665     460.986603  45780.307445   \n",
       "1   NeuralNetFastAI_BAG_L2  -4.709468     434.397682  45049.491914   \n",
       "2      WeightedEnsemble_L2  -4.730412     352.376257   5346.331840   \n",
       "3          LightGBM_BAG_L2  -4.730960     420.349594  26439.675067   \n",
       "4           XGBoost_BAG_L2  -4.731043     419.357098  26404.125583   \n",
       "5     LightGBMLarge_BAG_L2  -4.731583     422.899698  26535.150748   \n",
       "6          CatBoost_BAG_L2  -4.733223     417.453699  26504.693354   \n",
       "7        LightGBMXT_BAG_L2  -4.734127     435.478247  26731.670677   \n",
       "8     LightGBMLarge_BAG_L1  -4.734752      10.879455    301.380927   \n",
       "9          CatBoost_BAG_L1  -4.734848       0.432436    363.927224   \n",
       "10         LightGBM_BAG_L1  -4.734883      13.373330    307.653727   \n",
       "11       LightGBMXT_BAG_L1  -4.737001      45.005889    731.454841   \n",
       "12          XGBoost_BAG_L1  -4.737812       3.340010    186.727932   \n",
       "13  NeuralNetFastAI_BAG_L1  -4.882292      21.118480  20862.822885   \n",
       "14  RandomForestMSE_BAG_L2  -4.922504     446.228041  26701.960250   \n",
       "15    ExtraTreesMSE_BAG_L2  -4.943154     441.336378  26391.030519   \n",
       "16    ExtraTreesMSE_BAG_L1  -5.184787      20.698742     30.197984   \n",
       "17  RandomForestMSE_BAG_L1  -5.185486      22.873161     96.654541   \n",
       "18   KNeighborsUnif_BAG_L1  -6.005520     142.896618   1748.013922   \n",
       "19   KNeighborsDist_BAG_L1  -6.091744     136.435101   1689.756280   \n",
       "\n",
       "    pred_time_val_marginal  fit_time_marginal  stack_level  can_infer  \\\n",
       "0                 0.013547          15.639315            3       True   \n",
       "1                17.344459       18730.901650            2       True   \n",
       "2                 0.013417          17.416987            2       True   \n",
       "3                 3.296371         121.084803            2       True   \n",
       "4                 2.303875          85.535319            2       True   \n",
       "5                 5.846475         216.560484            2       True   \n",
       "6                 0.400476         186.103091            2       True   \n",
       "7                18.425025         413.080413            2       True   \n",
       "8                10.879455         301.380927            1       True   \n",
       "9                 0.432436         363.927224            1       True   \n",
       "10               13.373330         307.653727            1       True   \n",
       "11               45.005889         731.454841            1       True   \n",
       "12                3.340010         186.727932            1       True   \n",
       "13               21.118480       20862.822885            1       True   \n",
       "14               29.174818         383.369986            2       True   \n",
       "15               24.283156          72.440256            2       True   \n",
       "16               20.698742          30.197984            1       True   \n",
       "17               22.873161          96.654541            1       True   \n",
       "18              142.896618        1748.013922            1       True   \n",
       "19              136.435101        1689.756280            1       True   \n",
       "\n",
       "    fit_order  \n",
       "0          20  \n",
       "1          17  \n",
       "2          11  \n",
       "3          13  \n",
       "4          18  \n",
       "5          19  \n",
       "6          15  \n",
       "7          12  \n",
       "8          10  \n",
       "9           6  \n",
       "10          4  \n",
       "11          3  \n",
       "12          9  \n",
       "13          8  \n",
       "14         14  \n",
       "15         16  \n",
       "16          7  \n",
       "17          5  \n",
       "18          1  \n",
       "19          2  "
      ]
     },
     "execution_count": 32,
     "metadata": {},
     "output_type": "execute_result"
    }
   ],
   "source": [
    "predictor.leaderboard()"
   ]
  },
  {
   "cell_type": "code",
   "execution_count": 33,
   "metadata": {},
   "outputs": [
    {
     "name": "stderr",
     "output_type": "stream",
     "text": [
      "Computing feature importance via permutation shuffling for 15 features using 1000 rows with 3 shuffle sets...\n",
      "\t5299.23s\t= Expected runtime (1766.41s per shuffle set)\n",
      "\t326.51s\t= Actual runtime (Completed 3 of 3 shuffle sets)\n"
     ]
    },
    {
     "data": {
      "text/html": [
       "<div>\n",
       "<style scoped>\n",
       "    .dataframe tbody tr th:only-of-type {\n",
       "        vertical-align: middle;\n",
       "    }\n",
       "\n",
       "    .dataframe tbody tr th {\n",
       "        vertical-align: top;\n",
       "    }\n",
       "\n",
       "    .dataframe thead th {\n",
       "        text-align: right;\n",
       "    }\n",
       "</style>\n",
       "<table border=\"1\" class=\"dataframe\">\n",
       "  <thead>\n",
       "    <tr style=\"text-align: right;\">\n",
       "      <th></th>\n",
       "      <th>importance</th>\n",
       "      <th>stddev</th>\n",
       "      <th>p_value</th>\n",
       "      <th>n</th>\n",
       "      <th>p99_high</th>\n",
       "      <th>p99_low</th>\n",
       "    </tr>\n",
       "  </thead>\n",
       "  <tbody>\n",
       "    <tr>\n",
       "      <th>player_dist_walk</th>\n",
       "      <td>7.504378e+00</td>\n",
       "      <td>5.306826e-01</td>\n",
       "      <td>0.000831</td>\n",
       "      <td>3</td>\n",
       "      <td>1.054525e+01</td>\n",
       "      <td>4.463508e+00</td>\n",
       "    </tr>\n",
       "    <tr>\n",
       "      <th>game_size</th>\n",
       "      <td>3.115942e+00</td>\n",
       "      <td>1.764681e-01</td>\n",
       "      <td>0.000534</td>\n",
       "      <td>3</td>\n",
       "      <td>4.127124e+00</td>\n",
       "      <td>2.104760e+00</td>\n",
       "    </tr>\n",
       "    <tr>\n",
       "      <th>player_dist_ride</th>\n",
       "      <td>1.221416e+00</td>\n",
       "      <td>1.258465e-01</td>\n",
       "      <td>0.001760</td>\n",
       "      <td>3</td>\n",
       "      <td>1.942530e+00</td>\n",
       "      <td>5.003018e-01</td>\n",
       "    </tr>\n",
       "    <tr>\n",
       "      <th>party_size</th>\n",
       "      <td>1.119907e+00</td>\n",
       "      <td>1.927165e-01</td>\n",
       "      <td>0.004864</td>\n",
       "      <td>3</td>\n",
       "      <td>2.224194e+00</td>\n",
       "      <td>1.562055e-02</td>\n",
       "    </tr>\n",
       "    <tr>\n",
       "      <th>player_dmg</th>\n",
       "      <td>2.510933e-01</td>\n",
       "      <td>3.100047e-02</td>\n",
       "      <td>0.002521</td>\n",
       "      <td>3</td>\n",
       "      <td>4.287294e-01</td>\n",
       "      <td>7.345715e-02</td>\n",
       "    </tr>\n",
       "    <tr>\n",
       "      <th>player_kills</th>\n",
       "      <td>1.623873e-01</td>\n",
       "      <td>8.049313e-02</td>\n",
       "      <td>0.036521</td>\n",
       "      <td>3</td>\n",
       "      <td>6.236219e-01</td>\n",
       "      <td>-2.988473e-01</td>\n",
       "    </tr>\n",
       "    <tr>\n",
       "      <th>player_dbno</th>\n",
       "      <td>6.012377e-02</td>\n",
       "      <td>2.987010e-02</td>\n",
       "      <td>0.036669</td>\n",
       "      <td>3</td>\n",
       "      <td>2.312827e-01</td>\n",
       "      <td>-1.110352e-01</td>\n",
       "    </tr>\n",
       "    <tr>\n",
       "      <th>kill_distance_x_max</th>\n",
       "      <td>4.620117e-02</td>\n",
       "      <td>2.191474e-02</td>\n",
       "      <td>0.033746</td>\n",
       "      <td>3</td>\n",
       "      <td>1.717751e-01</td>\n",
       "      <td>-7.937272e-02</td>\n",
       "    </tr>\n",
       "    <tr>\n",
       "      <th>player_assists</th>\n",
       "      <td>4.462662e-02</td>\n",
       "      <td>9.934543e-03</td>\n",
       "      <td>0.008060</td>\n",
       "      <td>3</td>\n",
       "      <td>1.015527e-01</td>\n",
       "      <td>-1.229941e-02</td>\n",
       "    </tr>\n",
       "    <tr>\n",
       "      <th>kill_distance_y_max</th>\n",
       "      <td>3.981248e-02</td>\n",
       "      <td>1.035328e-02</td>\n",
       "      <td>0.010904</td>\n",
       "      <td>3</td>\n",
       "      <td>9.913795e-02</td>\n",
       "      <td>-1.951299e-02</td>\n",
       "    </tr>\n",
       "    <tr>\n",
       "      <th>kill_distance_x_min</th>\n",
       "      <td>3.197267e-02</td>\n",
       "      <td>1.462356e-02</td>\n",
       "      <td>0.031597</td>\n",
       "      <td>3</td>\n",
       "      <td>1.157673e-01</td>\n",
       "      <td>-5.182194e-02</td>\n",
       "    </tr>\n",
       "    <tr>\n",
       "      <th>kill_distance_y_min</th>\n",
       "      <td>3.184960e-02</td>\n",
       "      <td>2.064757e-02</td>\n",
       "      <td>0.058089</td>\n",
       "      <td>3</td>\n",
       "      <td>1.501624e-01</td>\n",
       "      <td>-8.646324e-02</td>\n",
       "    </tr>\n",
       "    <tr>\n",
       "      <th>player_name</th>\n",
       "      <td>1.986821e-09</td>\n",
       "      <td>2.435295e-09</td>\n",
       "      <td>0.146588</td>\n",
       "      <td>3</td>\n",
       "      <td>1.594133e-08</td>\n",
       "      <td>-1.196769e-08</td>\n",
       "    </tr>\n",
       "    <tr>\n",
       "      <th>match_id</th>\n",
       "      <td>6.357830e-10</td>\n",
       "      <td>2.753021e-10</td>\n",
       "      <td>0.028595</td>\n",
       "      <td>3</td>\n",
       "      <td>2.213295e-09</td>\n",
       "      <td>-9.417286e-10</td>\n",
       "    </tr>\n",
       "    <tr>\n",
       "      <th>team_id</th>\n",
       "      <td>1.589454e-10</td>\n",
       "      <td>1.532817e-09</td>\n",
       "      <td>0.437006</td>\n",
       "      <td>3</td>\n",
       "      <td>8.942155e-09</td>\n",
       "      <td>-8.624265e-09</td>\n",
       "    </tr>\n",
       "  </tbody>\n",
       "</table>\n",
       "</div>"
      ],
      "text/plain": [
       "                       importance        stddev   p_value  n      p99_high  \\\n",
       "player_dist_walk     7.504378e+00  5.306826e-01  0.000831  3  1.054525e+01   \n",
       "game_size            3.115942e+00  1.764681e-01  0.000534  3  4.127124e+00   \n",
       "player_dist_ride     1.221416e+00  1.258465e-01  0.001760  3  1.942530e+00   \n",
       "party_size           1.119907e+00  1.927165e-01  0.004864  3  2.224194e+00   \n",
       "player_dmg           2.510933e-01  3.100047e-02  0.002521  3  4.287294e-01   \n",
       "player_kills         1.623873e-01  8.049313e-02  0.036521  3  6.236219e-01   \n",
       "player_dbno          6.012377e-02  2.987010e-02  0.036669  3  2.312827e-01   \n",
       "kill_distance_x_max  4.620117e-02  2.191474e-02  0.033746  3  1.717751e-01   \n",
       "player_assists       4.462662e-02  9.934543e-03  0.008060  3  1.015527e-01   \n",
       "kill_distance_y_max  3.981248e-02  1.035328e-02  0.010904  3  9.913795e-02   \n",
       "kill_distance_x_min  3.197267e-02  1.462356e-02  0.031597  3  1.157673e-01   \n",
       "kill_distance_y_min  3.184960e-02  2.064757e-02  0.058089  3  1.501624e-01   \n",
       "player_name          1.986821e-09  2.435295e-09  0.146588  3  1.594133e-08   \n",
       "match_id             6.357830e-10  2.753021e-10  0.028595  3  2.213295e-09   \n",
       "team_id              1.589454e-10  1.532817e-09  0.437006  3  8.942155e-09   \n",
       "\n",
       "                          p99_low  \n",
       "player_dist_walk     4.463508e+00  \n",
       "game_size            2.104760e+00  \n",
       "player_dist_ride     5.003018e-01  \n",
       "party_size           1.562055e-02  \n",
       "player_dmg           7.345715e-02  \n",
       "player_kills        -2.988473e-01  \n",
       "player_dbno         -1.110352e-01  \n",
       "kill_distance_x_max -7.937272e-02  \n",
       "player_assists      -1.229941e-02  \n",
       "kill_distance_y_max -1.951299e-02  \n",
       "kill_distance_x_min -5.182194e-02  \n",
       "kill_distance_y_min -8.646324e-02  \n",
       "player_name         -1.196769e-08  \n",
       "match_id            -9.417286e-10  \n",
       "team_id             -8.624265e-09  "
      ]
     },
     "execution_count": 33,
     "metadata": {},
     "output_type": "execute_result"
    }
   ],
   "source": [
    "predictor.feature_importance(train_data)"
   ]
  },
  {
   "cell_type": "markdown",
   "metadata": {},
   "source": [
    "### prediction"
   ]
  },
  {
   "cell_type": "code",
   "execution_count": 34,
   "metadata": {},
   "outputs": [
    {
     "name": "stderr",
     "output_type": "stream",
     "text": [
      "Loaded data from: pubg_test.csv | Columns = 15 / 15 | Rows = 500000 -> 500000\n"
     ]
    }
   ],
   "source": [
    "import pandas as pd\n",
    "\n",
    "test_data = TabularDataset('pubg_test.csv')"
   ]
  },
  {
   "cell_type": "code",
   "execution_count": 35,
   "metadata": {},
   "outputs": [],
   "source": [
    "preds = predictor.predict(test_data.drop(columns=['match_id', 'team_id', 'player_name']))\n",
    "submission = pd.DataFrame({label:preds}).to_csv('submission.csv', index=None)"
   ]
  },
  {
   "cell_type": "code",
   "execution_count": 36,
   "metadata": {},
   "outputs": [
    {
     "name": "stdout",
     "output_type": "stream",
     "text": [
      "  adding: submission.csv (deflated 55%)\n"
     ]
    }
   ],
   "source": [
    "!zip submission.zip submission.csv"
   ]
  },
  {
   "cell_type": "code",
   "execution_count": null,
   "metadata": {},
   "outputs": [],
   "source": []
  },
  {
   "cell_type": "code",
   "execution_count": null,
   "metadata": {},
   "outputs": [],
   "source": []
  }
 ],
 "metadata": {
  "interpreter": {
   "hash": "8e1d4fa986a9d7790f5a2cbcb0b12abea9817a82363198d2b642d34bfac7d235"
  },
  "kernelspec": {
   "display_name": "Python 3.6.13 ('lium_torch')",
   "language": "python",
   "name": "python3"
  },
  "language_info": {
   "codemirror_mode": {
    "name": "ipython",
    "version": 3
   },
   "file_extension": ".py",
   "mimetype": "text/x-python",
   "name": "python",
   "nbconvert_exporter": "python",
   "pygments_lexer": "ipython3",
   "version": "3.6.13"
  },
  "orig_nbformat": 4
 },
 "nbformat": 4,
 "nbformat_minor": 2
}
