{
 "cells": [
  {
   "cell_type": "markdown",
   "metadata": {
    "collapsed": false
   },
   "source": [
    "## 第五章 卷积神经网络\n",
    "\n",
    "### 1.本文实现了ResNet18/34中的残差单元，自行了解ResNet50中的残差单元结构，并实现。<span style=\"color:red\">(必修题)</span>"
   ]
  },
  {
   "cell_type": "markdown",
   "metadata": {
    "collapsed": false
   },
   "source": [
    "![](https://ai-studio-static-online.cdn.bcebos.com/f8aa25f5ba0d44bfb9889da1e0fe4e7bfbdaf52930ae49e588f50e288d1eb1fe)\n",
    "\n",
    "18,34-layer的基本模块记为Basicblock，包含2次卷积；50,101,152layer的基本模块记为Bottleneck，包含3次卷积。"
   ]
  },
  {
   "cell_type": "code",
   "execution_count": 1,
   "metadata": {
    "collapsed": false
   },
   "outputs": [],
   "source": [
    "import paddle\r\n",
    "import paddle.nn as nn\r\n",
    "from paddle.vision import transforms\r\n",
    "\r\n",
    "class Bottleneck(nn.Layer):\r\n",
    "    def __init__(self, in_channels, filters, stride=1, is_downsample = False):\r\n",
    "        super(Bottleneck, self).__init__()\r\n",
    "        filter1, filter2, filter3 = filters\r\n",
    "        self.conv1 = nn.Conv2D(in_channels, filter1, kernel_size=1, stride=stride, bias_attr=False)\r\n",
    "        self.bn1 = nn.BatchNorm2D(filter1)\r\n",
    "        self.conv2 = nn.Conv2D(filter1, filter2, kernel_size=3, stride=1, padding=1, bias_attr=False)\r\n",
    "        self.bn2 = nn.BatchNorm2D(filter2)\r\n",
    "        self.conv3 = nn.Conv2D(filter2, filter3, kernel_size=1, stride=1, bias_attr=False)\r\n",
    "        self.bn3 = nn.BatchNorm2D(filter3)\r\n",
    "        # self.relu = nn.ReLU(inplace=True)\r\n",
    "        self.relu = nn.ReLU()\r\n",
    "        self.is_downsample = is_downsample\r\n",
    "        self.parameters()\r\n",
    "        if is_downsample:\r\n",
    "            self.downsample = nn.Sequential(nn.Conv2D(in_channels, filter3, kernel_size=1, stride=stride, bias_attr=False),\r\n",
    "                                            nn.BatchNorm2D(filter3))\r\n",
    " \r\n",
    "    def forward(self, X):\r\n",
    "        X_shortcut = X\r\n",
    "        X = self.conv1(X)\r\n",
    "        X = self.bn1(X)\r\n",
    "        X = self.relu(X)\r\n",
    " \r\n",
    "        X = self.conv2(X)\r\n",
    "        X = self.bn2(X)\r\n",
    "        X = self.relu(X)\r\n",
    " \r\n",
    "        X = self.conv3(X)\r\n",
    "        X = self.bn3(X)\r\n",
    " \r\n",
    "        if self.is_downsample:\r\n",
    "            X_shortcut = self.downsample(X_shortcut)\r\n",
    " \r\n",
    "        X = X + X_shortcut\r\n",
    "        X = self.relu(X)\r\n",
    "        return X"
   ]
  },
  {
   "cell_type": "markdown",
   "metadata": {
    "collapsed": false
   },
   "source": [
    "### 2.自行调研ResNet50网络的网络结构，基于1.1实现的残差单元，实现ResNet50网络，并按照本章介绍的方法统计参数量和计算量。<span style=\"color:red\">(附加题&加分题)</span>"
   ]
  },
  {
   "cell_type": "code",
   "execution_count": 2,
   "metadata": {
    "collapsed": false
   },
   "outputs": [],
   "source": [
    "Layers = [3, 4, 6, 3]\r\n",
    "\r\n",
    "class ResNet50Model(nn.Layer):\r\n",
    "    def __init__(self):\r\n",
    "        super(ResNet50Model, self).__init__()\r\n",
    "        self.conv1 = nn.Conv2D(3, 64, kernel_size=7, stride=2, padding=3, bias_attr=False)\r\n",
    "        self.bn1 = nn.BatchNorm2D(num_features=64)\r\n",
    "        # self.relu = nn.ReLU(inplace=True)\r\n",
    "        self.relu = nn.ReLU()\r\n",
    "        self.maxpool = nn.MaxPool2D(kernel_size=3, stride=2, padding=1)\r\n",
    " \r\n",
    "        self.layer1 = self._make_layer(64, (64, 64, 256), Layers[0])\r\n",
    "        self.layer2 = self._make_layer(256, (128, 128, 512), Layers[1], 2)\r\n",
    "        self.layer3 = self._make_layer(512, (256, 256, 1024), Layers[2], 2)\r\n",
    "        self.layer4 = self._make_layer(1024, (512, 512, 2048), Layers[3], 2)\r\n",
    "        self.avgpool = nn.AdaptiveAvgPool2D((1, 1))\r\n",
    "        self.fc = nn.Linear(2048, 1000)\r\n",
    "        # self.named_parameters()\r\n",
    " \r\n",
    "    def forward(self, input):\r\n",
    "        # print(\"--ResNetModel_1--forward--input.shape={}\".format(input.shape))\r\n",
    "        X = self.conv1(input)\r\n",
    "        X = self.bn1(X)\r\n",
    "        X = self.relu(X)\r\n",
    "        X = self.maxpool(X)\r\n",
    "        X = self.layer1(X)\r\n",
    "        X = self.layer2(X)\r\n",
    "        X = self.layer3(X)\r\n",
    "        X = self.layer4(X)\r\n",
    " \r\n",
    "        X = self.avgpool(X)\r\n",
    "        X = paddle.flatten(X, 1)\r\n",
    "        X = self.fc(X)\r\n",
    "        return X\r\n",
    " \r\n",
    "    def _make_layer(self, in_channels, filters, blocks, stride = 1):\r\n",
    "        layers = []\r\n",
    "        block_one = Bottleneck(in_channels, filters, stride=stride, is_downsample=True)\r\n",
    "        layers.append(block_one)\r\n",
    "        for i in range(1, blocks):\r\n",
    "            layers.append(Bottleneck(filters[2], filters, stride=1, is_downsample=False))\r\n",
    " \r\n",
    "        return nn.Sequential(*layers)"
   ]
  },
  {
   "cell_type": "code",
   "execution_count": 3,
   "metadata": {
    "collapsed": false
   },
   "outputs": [
    {
     "name": "stderr",
     "output_type": "stream",
     "text": [
      "W0727 09:42:59.449671  5595 gpu_resources.cc:61] Please NOTE: device: 0, GPU Compute Capability: 7.0, Driver API Version: 11.2, Runtime API Version: 10.1\n",
      "W0727 09:42:59.453424  5595 gpu_resources.cc:91] device: 0, cuDNN Version: 7.6.\n"
     ]
    },
    {
     "name": "stdout",
     "output_type": "stream",
     "text": [
      "--------------------------------------------------------------------------------\n",
      "   Layer (type)          Input Shape          Output Shape         Param #    \n",
      "================================================================================\n",
      "     Conv2D-1        [[1080, 3, 64, 64]]   [1080, 64, 32, 32]       9,408     \n",
      "   BatchNorm2D-1    [[1080, 64, 32, 32]]   [1080, 64, 32, 32]        256      \n",
      "      ReLU-1        [[1080, 64, 32, 32]]   [1080, 64, 32, 32]         0       \n",
      "    MaxPool2D-1     [[1080, 64, 32, 32]]   [1080, 64, 16, 16]         0       \n",
      "     Conv2D-2       [[1080, 64, 16, 16]]   [1080, 64, 16, 16]       4,096     \n",
      "   BatchNorm2D-2    [[1080, 64, 16, 16]]   [1080, 64, 16, 16]        256      \n",
      "      ReLU-2        [[1080, 256, 16, 16]] [1080, 256, 16, 16]         0       \n",
      "     Conv2D-3       [[1080, 64, 16, 16]]   [1080, 64, 16, 16]      36,864     \n",
      "   BatchNorm2D-3    [[1080, 64, 16, 16]]   [1080, 64, 16, 16]        256      \n",
      "     Conv2D-4       [[1080, 64, 16, 16]]  [1080, 256, 16, 16]      16,384     \n",
      "   BatchNorm2D-4    [[1080, 256, 16, 16]] [1080, 256, 16, 16]       1,024     \n",
      "     Conv2D-5       [[1080, 64, 16, 16]]  [1080, 256, 16, 16]      16,384     \n",
      "   BatchNorm2D-5    [[1080, 256, 16, 16]] [1080, 256, 16, 16]       1,024     \n",
      "   Bottleneck-1     [[1080, 64, 16, 16]]  [1080, 256, 16, 16]         0       \n",
      "     Conv2D-6       [[1080, 256, 16, 16]]  [1080, 64, 16, 16]      16,384     \n",
      "   BatchNorm2D-6    [[1080, 64, 16, 16]]   [1080, 64, 16, 16]        256      \n",
      "      ReLU-3        [[1080, 256, 16, 16]] [1080, 256, 16, 16]         0       \n",
      "     Conv2D-7       [[1080, 64, 16, 16]]   [1080, 64, 16, 16]      36,864     \n",
      "   BatchNorm2D-7    [[1080, 64, 16, 16]]   [1080, 64, 16, 16]        256      \n",
      "     Conv2D-8       [[1080, 64, 16, 16]]  [1080, 256, 16, 16]      16,384     \n",
      "   BatchNorm2D-8    [[1080, 256, 16, 16]] [1080, 256, 16, 16]       1,024     \n",
      "   Bottleneck-2     [[1080, 256, 16, 16]] [1080, 256, 16, 16]         0       \n",
      "     Conv2D-9       [[1080, 256, 16, 16]]  [1080, 64, 16, 16]      16,384     \n",
      "   BatchNorm2D-9    [[1080, 64, 16, 16]]   [1080, 64, 16, 16]        256      \n",
      "      ReLU-4        [[1080, 256, 16, 16]] [1080, 256, 16, 16]         0       \n",
      "     Conv2D-10      [[1080, 64, 16, 16]]   [1080, 64, 16, 16]      36,864     \n",
      "  BatchNorm2D-10    [[1080, 64, 16, 16]]   [1080, 64, 16, 16]        256      \n",
      "     Conv2D-11      [[1080, 64, 16, 16]]  [1080, 256, 16, 16]      16,384     \n",
      "  BatchNorm2D-11    [[1080, 256, 16, 16]] [1080, 256, 16, 16]       1,024     \n",
      "   Bottleneck-3     [[1080, 256, 16, 16]] [1080, 256, 16, 16]         0       \n",
      "     Conv2D-12      [[1080, 256, 16, 16]]  [1080, 128, 8, 8]       32,768     \n",
      "  BatchNorm2D-12     [[1080, 128, 8, 8]]   [1080, 128, 8, 8]         512      \n",
      "      ReLU-5         [[1080, 512, 8, 8]]   [1080, 512, 8, 8]          0       \n",
      "     Conv2D-13       [[1080, 128, 8, 8]]   [1080, 128, 8, 8]       147,456    \n",
      "  BatchNorm2D-13     [[1080, 128, 8, 8]]   [1080, 128, 8, 8]         512      \n",
      "     Conv2D-14       [[1080, 128, 8, 8]]   [1080, 512, 8, 8]       65,536     \n",
      "  BatchNorm2D-14     [[1080, 512, 8, 8]]   [1080, 512, 8, 8]        2,048     \n",
      "     Conv2D-15      [[1080, 256, 16, 16]]  [1080, 512, 8, 8]       131,072    \n",
      "  BatchNorm2D-15     [[1080, 512, 8, 8]]   [1080, 512, 8, 8]        2,048     \n",
      "   Bottleneck-4     [[1080, 256, 16, 16]]  [1080, 512, 8, 8]          0       \n",
      "     Conv2D-16       [[1080, 512, 8, 8]]   [1080, 128, 8, 8]       65,536     \n",
      "  BatchNorm2D-16     [[1080, 128, 8, 8]]   [1080, 128, 8, 8]         512      \n",
      "      ReLU-6         [[1080, 512, 8, 8]]   [1080, 512, 8, 8]          0       \n",
      "     Conv2D-17       [[1080, 128, 8, 8]]   [1080, 128, 8, 8]       147,456    \n",
      "  BatchNorm2D-17     [[1080, 128, 8, 8]]   [1080, 128, 8, 8]         512      \n",
      "     Conv2D-18       [[1080, 128, 8, 8]]   [1080, 512, 8, 8]       65,536     \n",
      "  BatchNorm2D-18     [[1080, 512, 8, 8]]   [1080, 512, 8, 8]        2,048     \n",
      "   Bottleneck-5      [[1080, 512, 8, 8]]   [1080, 512, 8, 8]          0       \n",
      "     Conv2D-19       [[1080, 512, 8, 8]]   [1080, 128, 8, 8]       65,536     \n",
      "  BatchNorm2D-19     [[1080, 128, 8, 8]]   [1080, 128, 8, 8]         512      \n",
      "      ReLU-7         [[1080, 512, 8, 8]]   [1080, 512, 8, 8]          0       \n",
      "     Conv2D-20       [[1080, 128, 8, 8]]   [1080, 128, 8, 8]       147,456    \n",
      "  BatchNorm2D-20     [[1080, 128, 8, 8]]   [1080, 128, 8, 8]         512      \n",
      "     Conv2D-21       [[1080, 128, 8, 8]]   [1080, 512, 8, 8]       65,536     \n",
      "  BatchNorm2D-21     [[1080, 512, 8, 8]]   [1080, 512, 8, 8]        2,048     \n",
      "   Bottleneck-6      [[1080, 512, 8, 8]]   [1080, 512, 8, 8]          0       \n",
      "     Conv2D-22       [[1080, 512, 8, 8]]   [1080, 128, 8, 8]       65,536     \n",
      "  BatchNorm2D-22     [[1080, 128, 8, 8]]   [1080, 128, 8, 8]         512      \n",
      "      ReLU-8         [[1080, 512, 8, 8]]   [1080, 512, 8, 8]          0       \n",
      "     Conv2D-23       [[1080, 128, 8, 8]]   [1080, 128, 8, 8]       147,456    \n",
      "  BatchNorm2D-23     [[1080, 128, 8, 8]]   [1080, 128, 8, 8]         512      \n",
      "     Conv2D-24       [[1080, 128, 8, 8]]   [1080, 512, 8, 8]       65,536     \n",
      "  BatchNorm2D-24     [[1080, 512, 8, 8]]   [1080, 512, 8, 8]        2,048     \n",
      "   Bottleneck-7      [[1080, 512, 8, 8]]   [1080, 512, 8, 8]          0       \n",
      "     Conv2D-25       [[1080, 512, 8, 8]]   [1080, 256, 4, 4]       131,072    \n",
      "  BatchNorm2D-25     [[1080, 256, 4, 4]]   [1080, 256, 4, 4]        1,024     \n",
      "      ReLU-9        [[1080, 1024, 4, 4]]   [1080, 1024, 4, 4]         0       \n",
      "     Conv2D-26       [[1080, 256, 4, 4]]   [1080, 256, 4, 4]       589,824    \n",
      "  BatchNorm2D-26     [[1080, 256, 4, 4]]   [1080, 256, 4, 4]        1,024     \n",
      "     Conv2D-27       [[1080, 256, 4, 4]]   [1080, 1024, 4, 4]      262,144    \n",
      "  BatchNorm2D-27    [[1080, 1024, 4, 4]]   [1080, 1024, 4, 4]       4,096     \n",
      "     Conv2D-28       [[1080, 512, 8, 8]]   [1080, 1024, 4, 4]      524,288    \n",
      "  BatchNorm2D-28    [[1080, 1024, 4, 4]]   [1080, 1024, 4, 4]       4,096     \n",
      "   Bottleneck-8      [[1080, 512, 8, 8]]   [1080, 1024, 4, 4]         0       \n",
      "     Conv2D-29      [[1080, 1024, 4, 4]]   [1080, 256, 4, 4]       262,144    \n",
      "  BatchNorm2D-29     [[1080, 256, 4, 4]]   [1080, 256, 4, 4]        1,024     \n",
      "      ReLU-10       [[1080, 1024, 4, 4]]   [1080, 1024, 4, 4]         0       \n",
      "     Conv2D-30       [[1080, 256, 4, 4]]   [1080, 256, 4, 4]       589,824    \n",
      "  BatchNorm2D-30     [[1080, 256, 4, 4]]   [1080, 256, 4, 4]        1,024     \n",
      "     Conv2D-31       [[1080, 256, 4, 4]]   [1080, 1024, 4, 4]      262,144    \n",
      "  BatchNorm2D-31    [[1080, 1024, 4, 4]]   [1080, 1024, 4, 4]       4,096     \n",
      "   Bottleneck-9     [[1080, 1024, 4, 4]]   [1080, 1024, 4, 4]         0       \n",
      "     Conv2D-32      [[1080, 1024, 4, 4]]   [1080, 256, 4, 4]       262,144    \n",
      "  BatchNorm2D-32     [[1080, 256, 4, 4]]   [1080, 256, 4, 4]        1,024     \n",
      "      ReLU-11       [[1080, 1024, 4, 4]]   [1080, 1024, 4, 4]         0       \n",
      "     Conv2D-33       [[1080, 256, 4, 4]]   [1080, 256, 4, 4]       589,824    \n",
      "  BatchNorm2D-33     [[1080, 256, 4, 4]]   [1080, 256, 4, 4]        1,024     \n",
      "     Conv2D-34       [[1080, 256, 4, 4]]   [1080, 1024, 4, 4]      262,144    \n",
      "  BatchNorm2D-34    [[1080, 1024, 4, 4]]   [1080, 1024, 4, 4]       4,096     \n",
      "   Bottleneck-10    [[1080, 1024, 4, 4]]   [1080, 1024, 4, 4]         0       \n",
      "     Conv2D-35      [[1080, 1024, 4, 4]]   [1080, 256, 4, 4]       262,144    \n",
      "  BatchNorm2D-35     [[1080, 256, 4, 4]]   [1080, 256, 4, 4]        1,024     \n",
      "      ReLU-12       [[1080, 1024, 4, 4]]   [1080, 1024, 4, 4]         0       \n",
      "     Conv2D-36       [[1080, 256, 4, 4]]   [1080, 256, 4, 4]       589,824    \n",
      "  BatchNorm2D-36     [[1080, 256, 4, 4]]   [1080, 256, 4, 4]        1,024     \n",
      "     Conv2D-37       [[1080, 256, 4, 4]]   [1080, 1024, 4, 4]      262,144    \n",
      "  BatchNorm2D-37    [[1080, 1024, 4, 4]]   [1080, 1024, 4, 4]       4,096     \n",
      "   Bottleneck-11    [[1080, 1024, 4, 4]]   [1080, 1024, 4, 4]         0       \n",
      "     Conv2D-38      [[1080, 1024, 4, 4]]   [1080, 256, 4, 4]       262,144    \n",
      "  BatchNorm2D-38     [[1080, 256, 4, 4]]   [1080, 256, 4, 4]        1,024     \n",
      "      ReLU-13       [[1080, 1024, 4, 4]]   [1080, 1024, 4, 4]         0       \n",
      "     Conv2D-39       [[1080, 256, 4, 4]]   [1080, 256, 4, 4]       589,824    \n",
      "  BatchNorm2D-39     [[1080, 256, 4, 4]]   [1080, 256, 4, 4]        1,024     \n",
      "     Conv2D-40       [[1080, 256, 4, 4]]   [1080, 1024, 4, 4]      262,144    \n",
      "  BatchNorm2D-40    [[1080, 1024, 4, 4]]   [1080, 1024, 4, 4]       4,096     \n",
      "   Bottleneck-12    [[1080, 1024, 4, 4]]   [1080, 1024, 4, 4]         0       \n",
      "     Conv2D-41      [[1080, 1024, 4, 4]]   [1080, 256, 4, 4]       262,144    \n",
      "  BatchNorm2D-41     [[1080, 256, 4, 4]]   [1080, 256, 4, 4]        1,024     \n",
      "      ReLU-14       [[1080, 1024, 4, 4]]   [1080, 1024, 4, 4]         0       \n",
      "     Conv2D-42       [[1080, 256, 4, 4]]   [1080, 256, 4, 4]       589,824    \n",
      "  BatchNorm2D-42     [[1080, 256, 4, 4]]   [1080, 256, 4, 4]        1,024     \n",
      "     Conv2D-43       [[1080, 256, 4, 4]]   [1080, 1024, 4, 4]      262,144    \n",
      "  BatchNorm2D-43    [[1080, 1024, 4, 4]]   [1080, 1024, 4, 4]       4,096     \n",
      "   Bottleneck-13    [[1080, 1024, 4, 4]]   [1080, 1024, 4, 4]         0       \n",
      "     Conv2D-44      [[1080, 1024, 4, 4]]   [1080, 512, 2, 2]       524,288    \n",
      "  BatchNorm2D-44     [[1080, 512, 2, 2]]   [1080, 512, 2, 2]        2,048     \n",
      "      ReLU-15       [[1080, 2048, 2, 2]]   [1080, 2048, 2, 2]         0       \n",
      "     Conv2D-45       [[1080, 512, 2, 2]]   [1080, 512, 2, 2]      2,359,296   \n",
      "  BatchNorm2D-45     [[1080, 512, 2, 2]]   [1080, 512, 2, 2]        2,048     \n",
      "     Conv2D-46       [[1080, 512, 2, 2]]   [1080, 2048, 2, 2]     1,048,576   \n",
      "  BatchNorm2D-46    [[1080, 2048, 2, 2]]   [1080, 2048, 2, 2]       8,192     \n",
      "     Conv2D-47      [[1080, 1024, 4, 4]]   [1080, 2048, 2, 2]     2,097,152   \n",
      "  BatchNorm2D-47    [[1080, 2048, 2, 2]]   [1080, 2048, 2, 2]       8,192     \n",
      "   Bottleneck-14    [[1080, 1024, 4, 4]]   [1080, 2048, 2, 2]         0       \n",
      "     Conv2D-48      [[1080, 2048, 2, 2]]   [1080, 512, 2, 2]      1,048,576   \n",
      "  BatchNorm2D-48     [[1080, 512, 2, 2]]   [1080, 512, 2, 2]        2,048     \n",
      "      ReLU-16       [[1080, 2048, 2, 2]]   [1080, 2048, 2, 2]         0       \n",
      "     Conv2D-49       [[1080, 512, 2, 2]]   [1080, 512, 2, 2]      2,359,296   \n",
      "  BatchNorm2D-49     [[1080, 512, 2, 2]]   [1080, 512, 2, 2]        2,048     \n",
      "     Conv2D-50       [[1080, 512, 2, 2]]   [1080, 2048, 2, 2]     1,048,576   \n",
      "  BatchNorm2D-50    [[1080, 2048, 2, 2]]   [1080, 2048, 2, 2]       8,192     \n",
      "   Bottleneck-15    [[1080, 2048, 2, 2]]   [1080, 2048, 2, 2]         0       \n",
      "     Conv2D-51      [[1080, 2048, 2, 2]]   [1080, 512, 2, 2]      1,048,576   \n",
      "  BatchNorm2D-51     [[1080, 512, 2, 2]]   [1080, 512, 2, 2]        2,048     \n",
      "      ReLU-17       [[1080, 2048, 2, 2]]   [1080, 2048, 2, 2]         0       \n",
      "     Conv2D-52       [[1080, 512, 2, 2]]   [1080, 512, 2, 2]      2,359,296   \n",
      "  BatchNorm2D-52     [[1080, 512, 2, 2]]   [1080, 512, 2, 2]        2,048     \n",
      "     Conv2D-53       [[1080, 512, 2, 2]]   [1080, 2048, 2, 2]     1,048,576   \n",
      "  BatchNorm2D-53    [[1080, 2048, 2, 2]]   [1080, 2048, 2, 2]       8,192     \n",
      "   Bottleneck-16    [[1080, 2048, 2, 2]]   [1080, 2048, 2, 2]         0       \n",
      "AdaptiveAvgPool2D-1 [[1080, 2048, 2, 2]]   [1080, 2048, 1, 1]         0       \n",
      "     Linear-1          [[1080, 2048]]         [1080, 1000]        2,049,000   \n",
      "================================================================================\n",
      "Total params: 25,610,152\n",
      "Trainable params: 25,503,912\n",
      "Non-trainable params: 106,240\n",
      "--------------------------------------------------------------------------------\n",
      "Input size (MB): 50.62\n",
      "Forward/backward pass size (MB): 22367.61\n",
      "Params size (MB): 97.69\n",
      "Estimated Total Size (MB): 22515.93\n",
      "--------------------------------------------------------------------------------\n",
      "\n",
      "{'total_params': 25610152, 'trainable_params': 25503912}\n"
     ]
    }
   ],
   "source": [
    "model = ResNet50Model()\r\n",
    "params_info = paddle.summary(model, (1080, 3, 64, 64))\r\n",
    "print(params_info)"
   ]
  },
  {
   "cell_type": "markdown",
   "metadata": {
    "collapsed": false
   },
   "source": [
    "可以看到参数量为**25610152**，其中可学习参数有**25503912**个。"
   ]
  },
  {
   "cell_type": "markdown",
   "metadata": {
    "collapsed": false
   },
   "source": [
    "### 3.按照本章介绍的流程与飞桨HAPI中的ResNet50网络进行对齐。<span style=\"color:red\">(附加题&加分题)</span>"
   ]
  },
  {
   "cell_type": "code",
   "execution_count": 4,
   "metadata": {
    "collapsed": false
   },
   "outputs": [],
   "source": [
    "# ! wget http://ai-atest.bj.bcebos.com/cifar-10-python.tar.gz\r\n",
    "# ! mkdir /home/aistudio/datasets/\r\n",
    "# ! tar -xvf ./cifar-10-python.tar.gz -C /home/aistudio/datasets/"
   ]
  },
  {
   "cell_type": "code",
   "execution_count": 5,
   "metadata": {
    "collapsed": false
   },
   "outputs": [
    {
     "name": "stdout",
     "output_type": "stream",
     "text": [
      "Tensor(shape=[1], dtype=float32, place=Place(gpu:0), stop_gradient=False,\n",
      "       [0.])\n"
     ]
    }
   ],
   "source": [
    "import numpy as np\r\n",
    "from paddle.vision.models import resnet50\r\n",
    "\r\n",
    "import warnings\r\n",
    "warnings.filterwarnings(\"ignore\")\r\n",
    "\r\n",
    "hpai_resnet50_model = resnet50()\r\n",
    "my_resnet50_model = ResNet50Model()\r\n",
    "\r\n",
    "# 获取网络的权重\r\n",
    "params = hpai_resnet50_model.state_dict()\r\n",
    "# 用来保存参数名映射后的网络权重\r\n",
    "new_params = {}\r\n",
    "# 将参数名进行映射\r\n",
    "for key in params:\r\n",
    "    if 'layer' in key:\r\n",
    "        if 'downsample.0' in key:\r\n",
    "            new_params['net.' + key[5:8] + '.shortcut' + key[-7:]] = params[key]\r\n",
    "        elif 'downsample.1' in key:\r\n",
    "            new_params['net.' + key[5:8] + '.shorcutt' + key[23:]] = params[key]\r\n",
    "        else:\r\n",
    "            new_params['net.' + key[5:]] = params[key]\r\n",
    "    elif 'conv1.weight' == key:\r\n",
    "        new_params['net.0.0.weight'] = params[key]\r\n",
    "    elif 'bn1' in key:\r\n",
    "        new_params['net.0.1' + key[3:]] = params[key]\r\n",
    "    elif 'fc' in key:\r\n",
    "        new_params['net.7' + key[2:]] = params[key]\r\n",
    "\r\n",
    "# 将飞桨HAPI中实现的resnet50模型的权重参数赋予自定义的resnet50模型，保持两者一致\r\n",
    "my_resnet50_model.set_state_dict(new_params)\r\n",
    "\r\n",
    "# 这里用np.random创建一个随机数组作为测试数据\r\n",
    "inputs = np.random.randn(*[1,3,32,32]) # [N, C, H, W]\r\n",
    "inputs = inputs.astype('float32')\r\n",
    "x = paddle.to_tensor(inputs)\r\n",
    "\r\n",
    "output = my_resnet50_model(x)\r\n",
    "hapi_out = hpai_resnet50_model(x)\r\n",
    "\r\n",
    "# 计算两个模型输出的差异\r\n",
    "diff = output - hapi_out\r\n",
    "# 取差异最大的值\r\n",
    "max_diff = paddle.max(diff)\r\n",
    "print(max_diff)"
   ]
  },
  {
   "cell_type": "markdown",
   "metadata": {
    "collapsed": false
   },
   "source": [
    "可以看到基本可以与paddle中的resnet50对齐。"
   ]
  },
  {
   "cell_type": "markdown",
   "metadata": {
    "collapsed": false
   },
   "source": [
    "### 4.暑假期间，小明为一个宠物店搭建猫狗识别系统，为了能够获取更多的训练数据，小明在街道上拍摄了大量猫狗的照片，可是最终训练的猫狗识别模型用于宠物店并没有取得很好的效果，请分析主要原因是什么？<span style=\"color:red\">(附加题&简答题&加分题)</span>"
   ]
  },
  {
   "cell_type": "markdown",
   "metadata": {
    "collapsed": false
   },
   "source": [
    "数据场景不同。在街道上拍摄的猫狗图片，其中可能包含了大量的行人和街道上的其他物体，直接将其用于猫狗识别模型的训练相当于引入了大量噪声，而宠物店的识别场景中，输入的图往往是背景中只有少量其他物体的照片。"
   ]
  }
 ],
 "metadata": {
  "kernelspec": {
   "display_name": "Python 3",
   "language": "python",
   "name": "py35-paddle1.2.0"
  },
  "language_info": {
   "codemirror_mode": {
    "name": "ipython",
    "version": 3
   },
   "file_extension": ".py",
   "mimetype": "text/x-python",
   "name": "python",
   "nbconvert_exporter": "python",
   "pygments_lexer": "ipython3",
   "version": "3.7.4"
  }
 },
 "nbformat": 4,
 "nbformat_minor": 1
}
