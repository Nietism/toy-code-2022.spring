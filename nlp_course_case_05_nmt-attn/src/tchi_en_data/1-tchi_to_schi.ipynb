{
 "cells": [
  {
   "cell_type": "code",
   "execution_count": 18,
   "metadata": {},
   "outputs": [],
   "source": [
    "# !pip install opencc"
   ]
  },
  {
   "cell_type": "code",
   "execution_count": 19,
   "metadata": {},
   "outputs": [
    {
     "data": {
      "text/plain": [
       "'微笑并不一定表示高兴。'"
      ]
     },
     "execution_count": 19,
     "metadata": {},
     "output_type": "execute_result"
    }
   ],
   "source": [
    "import opencc\n",
    "\n",
    "def t2s(tchi_text):\n",
    "    return opencc.OpenCC('t2s').convert(tchi_text)\n",
    "\n",
    "t2s(\"微笑並不一定表示高興。\")"
   ]
  },
  {
   "cell_type": "code",
   "execution_count": 20,
   "metadata": {},
   "outputs": [],
   "source": [
    "# def read_file(filename):\n",
    "#     with open(filename, \"r\", encoding=\"utf-8\") as f:\n",
    "#         lines = f.readlines()\n",
    "#         lines = [l for l in lines if l != '\\n' and len(l) > 0]\n",
    "#     return lines\n",
    "\n",
    "# def write_file(filename, corpus):\n",
    "#     with open(filename, \"w\", encoding=\"utf-8\") as f:\n",
    "#         for line in corpus:\n",
    "#             f.write(line + \"\\n\")"
   ]
  },
  {
   "cell_type": "code",
   "execution_count": 21,
   "metadata": {},
   "outputs": [],
   "source": [
    "# newlines = []\n",
    "\n",
    "# with open(\"./eng-cmn.txt\", \"r\", encoding=\"utf-8\") as f1:\n",
    "#     lines = f1.readlines()\n",
    "#     lines = [l for l in lines if l != '\\n' and len(l) > 0]\n",
    "#     for line in lines:\n",
    "#         eng_text, tchi_text = line.split(\"\\t\")[0], line.split(\"\\t\")[1]\n",
    "#         schi_text = t2s(tchi_text)\n",
    "#         newlines.append(eng_text + \"\\t\" + schi_text)\n",
    "\n",
    "# with open(\"./converted-eng-cmn.txt\", \"w\", encoding=\"utf-8\") as f2:\n",
    "#     for line in newlines:\n",
    "#         f2.write(line + \"\\n\")"
   ]
  },
  {
   "cell_type": "code",
   "execution_count": 22,
   "metadata": {},
   "outputs": [],
   "source": [
    "def t2s_for_file(src_file, tgt_file):\n",
    "    newlines = []\n",
    "\n",
    "    with open(src_file, \"r\", encoding=\"utf-8\") as f1:\n",
    "        lines = f1.readlines()\n",
    "        lines = [l for l in lines if l != '\\n' and len(l) > 0]\n",
    "        for line in lines:\n",
    "            schi_text = t2s(line)\n",
    "            newlines.append(schi_text)\n",
    "\n",
    "    with open(tgt_file, \"w\", encoding=\"utf-8\") as f2:\n",
    "        for line in newlines:\n",
    "            f2.write(line)"
   ]
  },
  {
   "cell_type": "code",
   "execution_count": 24,
   "metadata": {},
   "outputs": [],
   "source": [
    "t2s_for_file(\"./dev.ch\", \"./dev.ch\")\n",
    "t2s_for_file(\"./test.ch\", \"./test.ch\")\n",
    "t2s_for_file(\"./train.ch\", \"./train.ch\")"
   ]
  },
  {
   "cell_type": "code",
   "execution_count": null,
   "metadata": {},
   "outputs": [],
   "source": []
  }
 ],
 "metadata": {
  "interpreter": {
   "hash": "f9cbe5e51f33c21156c6ae6df6768439d811cda5d9696fcf6f401a011d70039b"
  },
  "kernelspec": {
   "display_name": "Python 3.8.13 ('ee_bart_02')",
   "language": "python",
   "name": "python3"
  },
  "language_info": {
   "codemirror_mode": {
    "name": "ipython",
    "version": 3
   },
   "file_extension": ".py",
   "mimetype": "text/x-python",
   "name": "python",
   "nbconvert_exporter": "python",
   "pygments_lexer": "ipython3",
   "version": "3.8.13"
  },
  "orig_nbformat": 4
 },
 "nbformat": 4,
 "nbformat_minor": 2
}
