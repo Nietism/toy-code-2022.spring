{
 "cells": [
  {
   "cell_type": "code",
   "execution_count": 54,
   "metadata": {},
   "outputs": [],
   "source": [
    "import sklearn\n",
    "import numpy as np\n",
    "from sklearn.model_selection import train_test_split"
   ]
  },
  {
   "cell_type": "code",
   "execution_count": 55,
   "metadata": {},
   "outputs": [],
   "source": [
    "def read_file(filename):\n",
    "    with open(filename, \"r\", encoding=\"utf-8\") as f:\n",
    "        lines = f.readlines()\n",
    "        lines = [l for l in lines if l != '\\n' and len(l) > 0]\n",
    "    return lines"
   ]
  },
  {
   "cell_type": "code",
   "execution_count": 56,
   "metadata": {},
   "outputs": [
    {
     "data": {
      "text/plain": [
       "(29155,\n",
       " ['Tom didn\\'t know how to translate the word \"computer\" because the people he was talking to had never seen one.\\t汤姆不知如何翻译“计算机”一词，因为同他谈话的人从未见过一台。\\tCC-BY 2.0 (France) Attribution: tatoeba.org #1094735 (CK) & #7069022 (la_kanro)\\n',\n",
       "  'Tom doesn\\'t like to use the term \"a person of color\" because he thinks it implies that white people have no color.\\t汤姆不喜欢使用”有色人种“这个术语，因为他认为，根据这种说法白种人没有颜色。\\tCC-BY 2.0 (France) Attribution: tatoeba.org #1988453 (CK) & #3031955 (sadhen)\\n',\n",
       "  \"If you don't want to put on sunscreen, that's your problem. Just don't come complaining to me when you get a sunburn.\\t你不想涂防晒霜是你的问题，但是晒伤了不要来抱怨。\\tCC-BY 2.0 (France) Attribution: tatoeba.org #1684 (CM) & #501574 (fucongcong)\\n\",\n",
       "  \"Even now, I occasionally think I'd like to see you. Not the you that you are today, but the you I remember from the past.\\t即使是现在，我偶尔还是想见到你。不是今天的你，而是我记忆中曾经的你。\\tCC-BY 2.0 (France) Attribution: tatoeba.org #1230933 (CK) & #2567478 (fenfang557)\\n\"])"
      ]
     },
     "execution_count": 56,
     "metadata": {},
     "output_type": "execute_result"
    }
   ],
   "source": [
    "raw_data = read_file(\"./eng-cmn.txt\")\n",
    "\n",
    "len(raw_data), raw_data[-7:-3]"
   ]
  },
  {
   "cell_type": "code",
   "execution_count": 57,
   "metadata": {},
   "outputs": [
    {
     "data": {
      "text/plain": [
       "(29155,\n",
       " [['Tom didn\\'t know how to translate the word \"computer\" because the people he was talking to had never seen one.',\n",
       "   '汤姆不知如何翻译“计算机”一词，因为同他谈话的人从未见过一台。'],\n",
       "  ['Tom doesn\\'t like to use the term \"a person of color\" because he thinks it implies that white people have no color.',\n",
       "   '汤姆不喜欢使用”有色人种“这个术语，因为他认为，根据这种说法白种人没有颜色。'],\n",
       "  [\"If you don't want to put on sunscreen, that's your problem. Just don't come complaining to me when you get a sunburn.\",\n",
       "   '你不想涂防晒霜是你的问题，但是晒伤了不要来抱怨。'],\n",
       "  [\"Even now, I occasionally think I'd like to see you. Not the you that you are today, but the you I remember from the past.\",\n",
       "   '即使是现在，我偶尔还是想见到你。不是今天的你，而是我记忆中曾经的你。']])"
      ]
     },
     "execution_count": 57,
     "metadata": {},
     "output_type": "execute_result"
    }
   ],
   "source": [
    "parallel_data = []\n",
    "\n",
    "for line in raw_data:\n",
    "    line = line.split(\"\\t\")[:2]\n",
    "    parallel_data.append(line)\n",
    "\n",
    "len(parallel_data), parallel_data[-7:-3]"
   ]
  },
  {
   "cell_type": "code",
   "execution_count": 58,
   "metadata": {},
   "outputs": [
    {
     "data": {
      "text/plain": [
       "(26239,\n",
       " array([28151,  7805, 18238, ..., 11115, 14715, 17619]),\n",
       " 1458,\n",
       " array([27948, 12216, 14906, ..., 24241, 22693, 19923]),\n",
       " 1458,\n",
       " array([ 6122, 26605, 13205, ...,  3985, 19390,  6619]))"
      ]
     },
     "execution_count": 58,
     "metadata": {},
     "output_type": "execute_result"
    }
   ],
   "source": [
    "from sklearn.model_selection import train_test_split\n",
    "\n",
    "index = np.arange(29155)\n",
    "\n",
    "train_ids, dev_test_ids = train_test_split(index, test_size=0.1, train_size=0.9, shuffle=True, random_state=114514)\n",
    "dev_ids, test_ids = train_test_split(dev_test_ids, test_size=0.5, train_size=0.5, shuffle=True, random_state=114514)\n",
    "len(train_ids), train_ids, len(dev_ids), dev_ids, len(test_ids), test_ids"
   ]
  },
  {
   "cell_type": "code",
   "execution_count": 59,
   "metadata": {},
   "outputs": [],
   "source": [
    "def write_file(filename, corpus):\n",
    "    with open(filename, \"w\", encoding=\"utf-8\") as f:\n",
    "        for line in corpus:\n",
    "            f.write(line + \"\\n\")"
   ]
  },
  {
   "cell_type": "code",
   "execution_count": 60,
   "metadata": {},
   "outputs": [],
   "source": [
    "train_ch, train_eg = [], []\n",
    "dev_ch, dev_eg = [], []\n",
    "test_ch, test_eg = [], []\n",
    "\n",
    "for i in train_ids:\n",
    "    train_eg.append(parallel_data[i][0])\n",
    "    train_ch.append(parallel_data[i][1])\n",
    "\n",
    "for i in dev_ids:\n",
    "    dev_eg.append(parallel_data[i][0])\n",
    "    dev_ch.append(parallel_data[i][1])\n",
    "\n",
    "for i in dev_ids:\n",
    "    test_eg.append(parallel_data[i][0])\n",
    "    test_ch.append(parallel_data[i][1])\n",
    "\n",
    "# should delete last line\n",
    "write_file(\"train.en\", train_eg)\n",
    "write_file(\"train.ch\", train_ch)\n",
    "write_file(\"dev.en\", dev_eg)\n",
    "write_file(\"dev.ch\", dev_ch)\n",
    "write_file(\"test.en\", test_eg)\n",
    "write_file(\"test.ch\", test_ch)"
   ]
  },
  {
   "cell_type": "code",
   "execution_count": null,
   "metadata": {},
   "outputs": [],
   "source": []
  },
  {
   "cell_type": "code",
   "execution_count": null,
   "metadata": {},
   "outputs": [],
   "source": []
  },
  {
   "cell_type": "code",
   "execution_count": null,
   "metadata": {},
   "outputs": [],
   "source": []
  },
  {
   "cell_type": "code",
   "execution_count": null,
   "metadata": {},
   "outputs": [],
   "source": []
  }
 ],
 "metadata": {
  "interpreter": {
   "hash": "f9cbe5e51f33c21156c6ae6df6768439d811cda5d9696fcf6f401a011d70039b"
  },
  "kernelspec": {
   "display_name": "Python 3.8.13 ('ee_bart_02')",
   "language": "python",
   "name": "python3"
  },
  "language_info": {
   "codemirror_mode": {
    "name": "ipython",
    "version": 3
   },
   "file_extension": ".py",
   "mimetype": "text/x-python",
   "name": "python",
   "nbconvert_exporter": "python",
   "pygments_lexer": "ipython3",
   "version": "3.8.13"
  },
  "orig_nbformat": 4
 },
 "nbformat": 4,
 "nbformat_minor": 2
}
