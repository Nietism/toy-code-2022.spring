{
 "cells": [
  {
   "attachments": {},
   "cell_type": "markdown",
   "metadata": {},
   "source": [
    "# A simplified version of sequence-to-sequence with attention mechanism\n",
    "\n",
    "*Yanagi*\n",
    "\n",
    "*Updated May 21th, 2022*\n",
    "\n",
    "> *Reference:*\n",
    "> + **original seq2seq+attention paper**: *Neural machine translation by jointly learning to align and translate. Bahdanau et al., **ICLR 2015**.*\n",
    ">\n",
    "> + **variant with 2 different attention mechanism**: *Effecttive approaches to attention-based neural machine translation. Luong et al. **ENMLP 2015**.*\n"
   ]
  },
  {
   "cell_type": "code",
   "execution_count": 1,
   "metadata": {},
   "outputs": [
    {
     "data": {
      "text/plain": [
       "'1.9.0+cu111'"
      ]
     },
     "execution_count": 1,
     "metadata": {},
     "output_type": "execute_result"
    }
   ],
   "source": [
    "import torch\n",
    "import torch.nn as nn\n",
    "import torch.nn.functional as F\n",
    "\n",
    "torch.__version__"
   ]
  },
  {
   "cell_type": "code",
   "execution_count": 2,
   "metadata": {},
   "outputs": [],
   "source": [
    "class Seq2SqeEncoder(nn.Module):\n",
    "    \"\"\"An encoder implementation based on nn.LSTM.\"\"\"\n",
    "    def __init__(self, embed_size, hidden_size, src_vocab_size):\n",
    "        super(Seq2SqeEncoder, self).__init__()\n",
    "\n",
    "        self.lstm_layer = nn.LSTM(input_size=embed_size, hidden_size=hidden_size, batch_first=True)\n",
    "        self.embedding_table = nn.Embedding(src_vocab_size, embed_size)\n",
    "\n",
    "    def forward(self, input_ids):\n",
    "        \n",
    "        input_seq = self.embedding_table(input_ids)\n",
    "        output_states, (final_h, final_c) = self.lstm_layer(input_seq)\n",
    "\n",
    "        return output_states, final_h"
   ]
  },
  {
   "cell_type": "code",
   "execution_count": 3,
   "metadata": {},
   "outputs": [],
   "source": [
    "class Seq2SeqAttentionMechanism(nn.Module):\n",
    "    \"\"\"An dot-product attention mechanism implementation.\"\"\"\n",
    "    def __init__(self):\n",
    "        super(Seq2SeqAttentionMechanism, self).__init__()\n",
    "\n",
    "    def forward(self, decoder_state_t, encoder_states):\n",
    "        \"\"\"\n",
    "        @param decoder_state_t (Tensor): hidden state of decoder at timestep *t*\n",
    "        @param encoder_states (Tensor): all hidden states from encoder\n",
    "        \"\"\"\n",
    "        bs, src_len, hidden_size = encoder_states.shape\n",
    "\n",
    "        # [bs, hidden_size] -> [bs, 1, hidden_size]\n",
    "        decoder_state_t = decoder_state_t.unsqueeze(1)\n",
    "        # [bs, 1, hidden_size] -> [bs, src_len, hidden_size]\n",
    "        decoder_state_t = torch.tile(decoder_state_t, dims=(1, src_len, 1))\n",
    "\n",
    "        score = torch.sum(decoder_state_t * encoder_states, dim=-1) # [bs, src_len]\n",
    "\n",
    "        attn_prob = F.softmax(score, dim=-1) # [bs, src_len]\n",
    "\n",
    "        # [bs, src_len, 1] * [bs, 1, hidden_size], broadcasting\n",
    "        context = torch.sum(attn_prob.unsqueeze(-1) * encoder_states, 1)\n",
    "\n",
    "        return attn_prob, context"
   ]
  },
  {
   "cell_type": "code",
   "execution_count": 4,
   "metadata": {},
   "outputs": [],
   "source": [
    "class Seq2SqeDecoder(nn.Module):\n",
    "    \"\"\"An decoder implementation based on nn.LSTMCell.\"\"\"\n",
    "    def __init__(self, embed_size, hidden_size, num_classes, tgt_vocab_size, start_id, end_id):\n",
    "        super(Seq2SqeDecoder, self).__init__()\n",
    "\n",
    "        self.lstm_cell = nn.LSTMCell(embed_size, hidden_size)\n",
    "        self.dense = nn.Linear(hidden_size * 2, num_classes)\n",
    "        self.attention_mechanism = Seq2SeqAttentionMechanism()\n",
    "        self.num_classes = num_classes\n",
    "        self.embedding_table = nn.Embedding(tgt_vocab_size, embed_size)\n",
    "        self.stard_id = start_id\n",
    "        self.end_id = end_id\n",
    "\n",
    "    def forward(self, shifted_target_ids, encoder_states):\n",
    "        # invoked when training\n",
    "\n",
    "        # teacher forcing\n",
    "        shifted_target = self.embedding_table(shifted_target_ids)\n",
    "\n",
    "        bs, tgt_len, embed_size = shifted_target.shape\n",
    "        bs, src_len, hidden_size = encoder_states.shape\n",
    "\n",
    "        logits = torch.zeros(bs, tgt_len, self.num_classes)\n",
    "        probs = torch.zeros(bs, tgt_len, src_len)\n",
    "\n",
    "        for t in range(tgt_len):\n",
    "            decoder_input_t = shifted_target[:, t, :] # [bs, embed_size]\n",
    "            if t == 0:\n",
    "                h_t, c_t = self.lstm_cell(decoder_input_t) # if h_0 and c_0 is not provided, default to zero\n",
    "            else:\n",
    "                h_t, c_t = self.lstm_cell(decoder_input_t, (h_t, c_t))\n",
    "\n",
    "            attn_prob, context = self.attention_mechanism(h_t, encoder_states)\n",
    "\n",
    "            # context: [bs, hidden_size], h_t: [1, hidden_size]\n",
    "            decoder_output = torch.cat((context, h_t), dim=-1)\n",
    "            logits[:, t, :] = self.dense(decoder_output)\n",
    "            probs[:, t, :] = attn_prob\n",
    "\n",
    "        return probs, logits\n",
    "\n",
    "    def inference(self, encoder_states):\n",
    "        target_id = self.start_id\n",
    "        h_t = None\n",
    "        result = []\n",
    "\n",
    "        while True:\n",
    "            decoder_input_t = self.embedding_table(target_id)\n",
    "            if h_t is None:\n",
    "                h_t, c_t = self.lstm_cell(decoder_input_t)\n",
    "            else:\n",
    "                h_t, c_t = self.lstm_cell(decoder_input_t, (h_t, c_t))\n",
    "\n",
    "            attn_prob, context = self.attention_mechanism(h_t, encoder_states)\n",
    "\n",
    "            decoder_output = torch.cat((context, h_t), dim=-1)\n",
    "            logits = self.dense(decoder_output)\n",
    "\n",
    "            target_id = torch.argmax(logits, dim=-1)\n",
    "            result.append(target_id)\n",
    "\n",
    "            if torch.any(target_id == self.end_id):\n",
    "                print(\"Stop decoding!\")\n",
    "                break\n",
    "\n",
    "        predicted_ids = torch.stack(result, dim=0)\n",
    "        return predicted_ids\n"
   ]
  },
  {
   "cell_type": "code",
   "execution_count": 5,
   "metadata": {},
   "outputs": [],
   "source": [
    "class EncoderDecoder(nn.Module):\n",
    "    \"\"\"An encoder-decoder model implementation\"\"\"\n",
    "    def __init__(self, embed_size, hidden_size, num_classes, src_vocab_size, tgt_vocab_size,\n",
    "                start_id, end_id):\n",
    "        super(EncoderDecoder, self).__init__()\n",
    "        self.encoder = Seq2SqeEncoder(embed_size, hidden_size, src_vocab_size)\n",
    "        self.decoder = Seq2SqeDecoder(embed_size, hidden_size, num_classes, tgt_vocab_size, start_id, end_id)\n",
    "\n",
    "    def forward(self, input_sequencer_ids, shifted_target_ids):\n",
    "        # when training\n",
    "\n",
    "        encoder_states, final_h = self.encoder(input_sequencer_ids)\n",
    "        probs, logits = self.decoder(shifted_target_ids, encoder_states)\n",
    "        return probs, logits\n",
    "\n",
    "    def infer(self):\n",
    "        # TODO\n",
    "        pass"
   ]
  },
  {
   "cell_type": "code",
   "execution_count": 6,
   "metadata": {},
   "outputs": [
    {
     "name": "stdout",
     "output_type": "stream",
     "text": [
      "torch.Size([2, 3])\n",
      "torch.Size([2, 5])\n",
      "torch.Size([2, 5, 3])\n",
      "torch.Size([2, 5, 10])\n"
     ]
    }
   ],
   "source": [
    "if __name__ == \"__main__\":\n",
    "    src_len = 3\n",
    "    tgt_len = 4\n",
    "    embed_size = 8\n",
    "    hidden_size =16\n",
    "    num_classes = 10\n",
    "    bs = 2\n",
    "    start_id = end_id = 0\n",
    "    src_vocab_size = 100\n",
    "    tgt_vocab_size = 100\n",
    "\n",
    "    input_sequence_ids = torch.randint(src_vocab_size, size=(bs, src_len)).to(torch.int32)\n",
    "\n",
    "    target_ids = torch.randint(tgt_vocab_size, size=(bs, tgt_len))\n",
    "    target_ids = torch.cat((target_ids, end_id * torch.ones(bs, 1), ), dim=1).to(torch.int32)\n",
    "\n",
    "    shifted_target_ids = torch.cat((start_id * torch.ones(bs, 1), target_ids[:, 1:]), dim=1).to(torch.int32)\n",
    "\n",
    "    model = EncoderDecoder(embed_size, hidden_size, num_classes, src_vocab_size, tgt_vocab_size, start_id, end_id)\n",
    "    probs, logits = model(input_sequence_ids, shifted_target_ids)\n",
    "    print(input_sequence_ids.shape)\n",
    "    print(shifted_target_ids.shape)\n",
    "    print(probs.shape)\n",
    "    print(logits.shape)\n"
   ]
  },
  {
   "cell_type": "code",
   "execution_count": 8,
   "metadata": {},
   "outputs": [
    {
     "data": {
      "text/plain": [
       "tensor([[74, 68, 72],\n",
       "        [98, 36, 67]], dtype=torch.int32)"
      ]
     },
     "execution_count": 8,
     "metadata": {},
     "output_type": "execute_result"
    }
   ],
   "source": [
    "input_sequence_ids"
   ]
  },
  {
   "cell_type": "code",
   "execution_count": 9,
   "metadata": {},
   "outputs": [
    {
     "data": {
      "text/plain": [
       "tensor([[90, 79, 42, 15,  0],\n",
       "        [67,  3,  0, 11,  0]], dtype=torch.int32)"
      ]
     },
     "execution_count": 9,
     "metadata": {},
     "output_type": "execute_result"
    }
   ],
   "source": [
    "target_ids"
   ]
  },
  {
   "cell_type": "code",
   "execution_count": null,
   "metadata": {},
   "outputs": [],
   "source": []
  },
  {
   "cell_type": "code",
   "execution_count": null,
   "metadata": {},
   "outputs": [],
   "source": []
  }
 ],
 "metadata": {
  "interpreter": {
   "hash": "f9cbe5e51f33c21156c6ae6df6768439d811cda5d9696fcf6f401a011d70039b"
  },
  "kernelspec": {
   "display_name": "Python 3.8.13 ('ee_bart_02')",
   "language": "python",
   "name": "python3"
  },
  "language_info": {
   "codemirror_mode": {
    "name": "ipython",
    "version": 3
   },
   "file_extension": ".py",
   "mimetype": "text/x-python",
   "name": "python",
   "nbconvert_exporter": "python",
   "pygments_lexer": "ipython3",
   "version": "3.8.13"
  },
  "orig_nbformat": 4
 },
 "nbformat": 4,
 "nbformat_minor": 2
}
