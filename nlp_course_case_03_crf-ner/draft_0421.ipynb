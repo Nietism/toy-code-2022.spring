{
 "cells": [
  {
   "cell_type": "code",
   "execution_count": 39,
   "metadata": {},
   "outputs": [],
   "source": [
    "import utils"
   ]
  },
  {
   "cell_type": "code",
   "execution_count": 40,
   "metadata": {},
   "outputs": [
    {
     "data": {
      "text/plain": [
       "[['迈向/v',\n",
       "  '充满/v',\n",
       "  '希望/n',\n",
       "  '的/u',\n",
       "  '新/a',\n",
       "  '世纪/n',\n",
       "  '——/w',\n",
       "  '一九九八年新年/t',\n",
       "  '讲话/n',\n",
       "  '(/w',\n",
       "  '附/v',\n",
       "  '图片/n',\n",
       "  '1/m',\n",
       "  '张/q',\n",
       "  ')/w'],\n",
       " ['中共中央/nt', '总书记/n', '、/w', '国家/n', '主席/n', '江泽民/nr'],\n",
       " ['(/w', '一九九七年十二月三十一日/t', ')/w']]"
      ]
     },
     "execution_count": 40,
     "metadata": {},
     "output_type": "execute_result"
    }
   ],
   "source": [
    "TRAIN_CORPUS_PATH = \"data/199801-raw.txt\"\n",
    "corpus = utils.data_processing(TRAIN_CORPUS_PATH)\n",
    "\n",
    "type(corpus), len(corpus)\n",
    "corpus[:3]"
   ]
  },
  {
   "cell_type": "code",
   "execution_count": 41,
   "metadata": {},
   "outputs": [],
   "source": [
    "corpus_post_processing = utils.data_processing(TRAIN_CORPUS_PATH)\n",
    "sequences = utils.init_sequence(corpus_post_processing)\n",
    "word_seqs = sequences[0]\n",
    "position_seqs = sequences[1]\n",
    "tag_seqs = sequences[2]"
   ]
  },
  {
   "cell_type": "code",
   "execution_count": 42,
   "metadata": {},
   "outputs": [
    {
     "data": {
      "text/plain": [
       "(['<BOS>',\n",
       "  '中',\n",
       "  '共',\n",
       "  '中',\n",
       "  '央',\n",
       "  '总',\n",
       "  '书',\n",
       "  '记',\n",
       "  '、',\n",
       "  '国',\n",
       "  '家',\n",
       "  '主',\n",
       "  '席',\n",
       "  '江',\n",
       "  '泽',\n",
       "  '民',\n",
       "  '<EOS>'],\n",
       " ['un', 'n', 'n', 'w', 'n', 'n', 'n', 'un'],\n",
       " ['B_LOC',\n",
       "  'I_LOC',\n",
       "  'I_LOC',\n",
       "  'I_LOC',\n",
       "  'O',\n",
       "  'O',\n",
       "  'O',\n",
       "  'O',\n",
       "  'O',\n",
       "  'O',\n",
       "  'O',\n",
       "  'O',\n",
       "  'B_PER',\n",
       "  'I_PER',\n",
       "  'I_PER'])"
      ]
     },
     "execution_count": 42,
     "metadata": {},
     "output_type": "execute_result"
    }
   ],
   "source": [
    "word_seqs[1], position_seqs[1], tag_seqs[1]"
   ]
  },
  {
   "cell_type": "code",
   "execution_count": null,
   "metadata": {},
   "outputs": [],
   "source": []
  },
  {
   "cell_type": "code",
   "execution_count": 43,
   "metadata": {},
   "outputs": [
    {
     "data": {
      "text/plain": [
       "(17, 8, 15)"
      ]
     },
     "execution_count": 43,
     "metadata": {},
     "output_type": "execute_result"
    }
   ],
   "source": [
    "len(word_seqs[1]), len(position_seqs[1]), len(tag_seqs[1])"
   ]
  },
  {
   "cell_type": "code",
   "execution_count": 44,
   "metadata": {},
   "outputs": [],
   "source": [
    "from sklearn.model_selection import train_test_split\n",
    "\n",
    "corpus_post_processing = utils.data_processing(TRAIN_CORPUS_PATH)\n",
    "sequences = utils.init_sequence(corpus_post_processing)\n",
    "word_seqs = sequences[0]\n",
    "position_seqs = sequences[1]\n",
    "tag_seqs = sequences[2]\n",
    "model_input = utils.get_model_input(word_seqs)\n",
    "x_train, x_test, y_train, y_test = train_test_split(model_input, tag_seqs, test_size=0.3)"
   ]
  },
  {
   "cell_type": "code",
   "execution_count": null,
   "metadata": {},
   "outputs": [],
   "source": []
  },
  {
   "cell_type": "code",
   "execution_count": null,
   "metadata": {},
   "outputs": [],
   "source": []
  }
 ],
 "metadata": {
  "interpreter": {
   "hash": "8e1d4fa986a9d7790f5a2cbcb0b12abea9817a82363198d2b642d34bfac7d235"
  },
  "kernelspec": {
   "display_name": "Python 3.6.13 ('lium_torch')",
   "language": "python",
   "name": "python3"
  },
  "language_info": {
   "codemirror_mode": {
    "name": "ipython",
    "version": 3
   },
   "file_extension": ".py",
   "mimetype": "text/x-python",
   "name": "python",
   "nbconvert_exporter": "python",
   "pygments_lexer": "ipython3",
   "version": "3.6.13"
  },
  "orig_nbformat": 4
 },
 "nbformat": 4,
 "nbformat_minor": 2
}
